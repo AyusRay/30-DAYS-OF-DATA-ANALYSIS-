{
 "cells": [
  {
   "cell_type": "code",
   "execution_count": 1,
   "id": "85d57209-e527-4bca-8bae-23419c4b82e9",
   "metadata": {},
   "outputs": [],
   "source": [
    "import pandas as pd\n",
    "import numpy as np\n",
    "import matplotlib.pyplot as plt\n",
    "import seaborn as sns"
   ]
  },
  {
   "cell_type": "code",
   "execution_count": 2,
   "id": "e2b9dc8a-4be2-4aa7-8de5-39dbfce9f8ef",
   "metadata": {},
   "outputs": [],
   "source": [
    "dataset=pd.read_excel(r\"C:\\Users\\Dell\\Desktop\\Commercial Loan data.xlsx\")"
   ]
  },
  {
   "cell_type": "code",
   "execution_count": 4,
   "id": "be0e68f4-ea4d-4841-9b70-1ffcbef43310",
   "metadata": {},
   "outputs": [
    {
     "data": {
      "text/html": [
       "<div>\n",
       "<style scoped>\n",
       "    .dataframe tbody tr th:only-of-type {\n",
       "        vertical-align: middle;\n",
       "    }\n",
       "\n",
       "    .dataframe tbody tr th {\n",
       "        vertical-align: top;\n",
       "    }\n",
       "\n",
       "    .dataframe thead th {\n",
       "        text-align: right;\n",
       "    }\n",
       "</style>\n",
       "<table border=\"1\" class=\"dataframe\">\n",
       "  <thead>\n",
       "    <tr style=\"text-align: right;\">\n",
       "      <th></th>\n",
       "      <th>Account ID</th>\n",
       "      <th>Product</th>\n",
       "      <th>Sector</th>\n",
       "      <th>Region</th>\n",
       "      <th>Balance ($)</th>\n",
       "      <th>Interest Rate we charge clients (%)</th>\n",
       "      <th>Interest Rate we pay Treasury for \"borrowing funds\" (%)</th>\n",
       "    </tr>\n",
       "  </thead>\n",
       "  <tbody>\n",
       "    <tr>\n",
       "      <th>0</th>\n",
       "      <td>205256</td>\n",
       "      <td>Operating Line</td>\n",
       "      <td>Health Care</td>\n",
       "      <td>Saskatchewan</td>\n",
       "      <td>3.402562e+05</td>\n",
       "      <td>3.450</td>\n",
       "      <td>3.6868</td>\n",
       "    </tr>\n",
       "    <tr>\n",
       "      <th>1</th>\n",
       "      <td>18206632</td>\n",
       "      <td>Revolving Term</td>\n",
       "      <td>Mining</td>\n",
       "      <td>Saskatchewan</td>\n",
       "      <td>6.425500e+07</td>\n",
       "      <td>3.550</td>\n",
       "      <td>3.6868</td>\n",
       "    </tr>\n",
       "    <tr>\n",
       "      <th>2</th>\n",
       "      <td>2508929</td>\n",
       "      <td>Operating Line</td>\n",
       "      <td>Banks</td>\n",
       "      <td>Quebec</td>\n",
       "      <td>5.574212e+06</td>\n",
       "      <td>3.637</td>\n",
       "      <td>3.8012</td>\n",
       "    </tr>\n",
       "    <tr>\n",
       "      <th>3</th>\n",
       "      <td>933997</td>\n",
       "      <td>Operating Line</td>\n",
       "      <td>Retail</td>\n",
       "      <td>Quebec</td>\n",
       "      <td>8.941601e+05</td>\n",
       "      <td>3.836</td>\n",
       "      <td>3.6868</td>\n",
       "    </tr>\n",
       "    <tr>\n",
       "      <th>4</th>\n",
       "      <td>3766238</td>\n",
       "      <td>Revolving Term</td>\n",
       "      <td>Hospitality</td>\n",
       "      <td>US</td>\n",
       "      <td>1.410413e+07</td>\n",
       "      <td>3.854</td>\n",
       "      <td>3.8012</td>\n",
       "    </tr>\n",
       "    <tr>\n",
       "      <th>5</th>\n",
       "      <td>2638890</td>\n",
       "      <td>Operating Line</td>\n",
       "      <td>Manufacturing</td>\n",
       "      <td>Quebec</td>\n",
       "      <td>6.430941e+06</td>\n",
       "      <td>3.868</td>\n",
       "      <td>3.8012</td>\n",
       "    </tr>\n",
       "    <tr>\n",
       "      <th>6</th>\n",
       "      <td>3185556</td>\n",
       "      <td>Operating Line</td>\n",
       "      <td>Health Care</td>\n",
       "      <td>Alberta</td>\n",
       "      <td>1.125750e+07</td>\n",
       "      <td>3.950</td>\n",
       "      <td>3.6868</td>\n",
       "    </tr>\n",
       "    <tr>\n",
       "      <th>7</th>\n",
       "      <td>2970174</td>\n",
       "      <td>Operating Line</td>\n",
       "      <td>Mining</td>\n",
       "      <td>Alberta</td>\n",
       "      <td>1.116211e+07</td>\n",
       "      <td>3.950</td>\n",
       "      <td>3.6868</td>\n",
       "    </tr>\n",
       "    <tr>\n",
       "      <th>8</th>\n",
       "      <td>1283520</td>\n",
       "      <td>Operating Line</td>\n",
       "      <td>Banks</td>\n",
       "      <td>Alberta</td>\n",
       "      <td>4.499832e+06</td>\n",
       "      <td>3.950</td>\n",
       "      <td>3.6868</td>\n",
       "    </tr>\n",
       "    <tr>\n",
       "      <th>9</th>\n",
       "      <td>474947</td>\n",
       "      <td>Operating Line</td>\n",
       "      <td>Retail</td>\n",
       "      <td>British Columbia</td>\n",
       "      <td>1.305969e+06</td>\n",
       "      <td>3.950</td>\n",
       "      <td>3.6868</td>\n",
       "    </tr>\n",
       "  </tbody>\n",
       "</table>\n",
       "</div>"
      ],
      "text/plain": [
       "   Account ID         Product         Sector            Region   Balance ($)  \\\n",
       "0      205256  Operating Line    Health Care      Saskatchewan  3.402562e+05   \n",
       "1    18206632  Revolving Term         Mining      Saskatchewan  6.425500e+07   \n",
       "2     2508929  Operating Line          Banks            Quebec  5.574212e+06   \n",
       "3      933997  Operating Line         Retail            Quebec  8.941601e+05   \n",
       "4     3766238  Revolving Term    Hospitality                US  1.410413e+07   \n",
       "5     2638890  Operating Line  Manufacturing            Quebec  6.430941e+06   \n",
       "6     3185556  Operating Line    Health Care           Alberta  1.125750e+07   \n",
       "7     2970174  Operating Line         Mining           Alberta  1.116211e+07   \n",
       "8     1283520  Operating Line          Banks           Alberta  4.499832e+06   \n",
       "9      474947  Operating Line         Retail  British Columbia  1.305969e+06   \n",
       "\n",
       "   Interest Rate we charge clients (%)  \\\n",
       "0                                3.450   \n",
       "1                                3.550   \n",
       "2                                3.637   \n",
       "3                                3.836   \n",
       "4                                3.854   \n",
       "5                                3.868   \n",
       "6                                3.950   \n",
       "7                                3.950   \n",
       "8                                3.950   \n",
       "9                                3.950   \n",
       "\n",
       "   Interest Rate we pay Treasury for \"borrowing funds\" (%)  \n",
       "0                                             3.6868        \n",
       "1                                             3.6868        \n",
       "2                                             3.8012        \n",
       "3                                             3.6868        \n",
       "4                                             3.8012        \n",
       "5                                             3.8012        \n",
       "6                                             3.6868        \n",
       "7                                             3.6868        \n",
       "8                                             3.6868        \n",
       "9                                             3.6868        "
      ]
     },
     "execution_count": 4,
     "metadata": {},
     "output_type": "execute_result"
    }
   ],
   "source": [
    "dataset.head(10)"
   ]
  },
  {
   "cell_type": "markdown",
   "id": "f888d64d-c8a0-4cb8-876d-24ca4a35e465",
   "metadata": {},
   "source": [
    "# Basic Info"
   ]
  },
  {
   "cell_type": "code",
   "execution_count": 5,
   "id": "9986615e-06ee-421c-b1bb-3ade64831c57",
   "metadata": {},
   "outputs": [
    {
     "data": {
      "text/plain": [
       "(497, 7)"
      ]
     },
     "execution_count": 5,
     "metadata": {},
     "output_type": "execute_result"
    }
   ],
   "source": [
    "dataset.shape"
   ]
  },
  {
   "cell_type": "code",
   "execution_count": 41,
   "id": "4f9825a2-bd47-45e5-9fab-c36ada2ddb97",
   "metadata": {},
   "outputs": [
    {
     "data": {
      "text/html": [
       "<div>\n",
       "<style scoped>\n",
       "    .dataframe tbody tr th:only-of-type {\n",
       "        vertical-align: middle;\n",
       "    }\n",
       "\n",
       "    .dataframe tbody tr th {\n",
       "        vertical-align: top;\n",
       "    }\n",
       "\n",
       "    .dataframe thead th {\n",
       "        text-align: right;\n",
       "    }\n",
       "</style>\n",
       "<table border=\"1\" class=\"dataframe\">\n",
       "  <thead>\n",
       "    <tr style=\"text-align: right;\">\n",
       "      <th></th>\n",
       "      <th>Account ID</th>\n",
       "      <th>Balance ($)</th>\n",
       "      <th>Interest Rate we charge clients (%)</th>\n",
       "      <th>Interest Rate we pay Treasury for \"borrowing funds\" (%)</th>\n",
       "      <th>Interest_Spread</th>\n",
       "      <th>Annual_Revenue</th>\n",
       "      <th>Revenue_Percentage</th>\n",
       "    </tr>\n",
       "  </thead>\n",
       "  <tbody>\n",
       "    <tr>\n",
       "      <th>count</th>\n",
       "      <td>497.00</td>\n",
       "      <td>497.00</td>\n",
       "      <td>497.00</td>\n",
       "      <td>497.00</td>\n",
       "      <td>497.00</td>\n",
       "      <td>497.00</td>\n",
       "      <td>497.00</td>\n",
       "    </tr>\n",
       "    <tr>\n",
       "      <th>mean</th>\n",
       "      <td>3,571,007.58</td>\n",
       "      <td>16,265,378.46</td>\n",
       "      <td>5.53</td>\n",
       "      <td>3.71</td>\n",
       "      <td>1.82</td>\n",
       "      <td>377,617.79</td>\n",
       "      <td>0.20</td>\n",
       "    </tr>\n",
       "    <tr>\n",
       "      <th>std</th>\n",
       "      <td>7,406,495.77</td>\n",
       "      <td>40,777,037.39</td>\n",
       "      <td>3.46</td>\n",
       "      <td>0.06</td>\n",
       "      <td>3.45</td>\n",
       "      <td>2,029,510.42</td>\n",
       "      <td>1.08</td>\n",
       "    </tr>\n",
       "    <tr>\n",
       "      <th>min</th>\n",
       "      <td>118,243.00</td>\n",
       "      <td>7.20</td>\n",
       "      <td>3.45</td>\n",
       "      <td>3.18</td>\n",
       "      <td>-0.24</td>\n",
       "      <td>-87,900.84</td>\n",
       "      <td>-0.05</td>\n",
       "    </tr>\n",
       "    <tr>\n",
       "      <th>25%</th>\n",
       "      <td>887,956.00</td>\n",
       "      <td>1,228,943.15</td>\n",
       "      <td>4.70</td>\n",
       "      <td>3.69</td>\n",
       "      <td>1.01</td>\n",
       "      <td>13,513.38</td>\n",
       "      <td>0.01</td>\n",
       "    </tr>\n",
       "    <tr>\n",
       "      <th>50%</th>\n",
       "      <td>1,530,888.00</td>\n",
       "      <td>4,950,000.00</td>\n",
       "      <td>5.20</td>\n",
       "      <td>3.69</td>\n",
       "      <td>1.51</td>\n",
       "      <td>64,466.78</td>\n",
       "      <td>0.03</td>\n",
       "    </tr>\n",
       "    <tr>\n",
       "      <th>75%</th>\n",
       "      <td>3,461,628.00</td>\n",
       "      <td>14,956,198.78</td>\n",
       "      <td>5.75</td>\n",
       "      <td>3.69</td>\n",
       "      <td>2.01</td>\n",
       "      <td>239,630.61</td>\n",
       "      <td>0.13</td>\n",
       "    </tr>\n",
       "    <tr>\n",
       "      <th>max</th>\n",
       "      <td>125,633,879.00</td>\n",
       "      <td>679,383,870.95</td>\n",
       "      <td>79.45</td>\n",
       "      <td>4.46</td>\n",
       "      <td>75.76</td>\n",
       "      <td>41,515,706.90</td>\n",
       "      <td>22.12</td>\n",
       "    </tr>\n",
       "  </tbody>\n",
       "</table>\n",
       "</div>"
      ],
      "text/plain": [
       "          Account ID    Balance ($)  Interest Rate we charge clients (%)  \\\n",
       "count         497.00         497.00                               497.00   \n",
       "mean    3,571,007.58  16,265,378.46                                 5.53   \n",
       "std     7,406,495.77  40,777,037.39                                 3.46   \n",
       "min       118,243.00           7.20                                 3.45   \n",
       "25%       887,956.00   1,228,943.15                                 4.70   \n",
       "50%     1,530,888.00   4,950,000.00                                 5.20   \n",
       "75%     3,461,628.00  14,956,198.78                                 5.75   \n",
       "max   125,633,879.00 679,383,870.95                                79.45   \n",
       "\n",
       "       Interest Rate we pay Treasury for \"borrowing funds\" (%)  \\\n",
       "count                                             497.00         \n",
       "mean                                                3.71         \n",
       "std                                                 0.06         \n",
       "min                                                 3.18         \n",
       "25%                                                 3.69         \n",
       "50%                                                 3.69         \n",
       "75%                                                 3.69         \n",
       "max                                                 4.46         \n",
       "\n",
       "       Interest_Spread  Annual_Revenue  Revenue_Percentage  \n",
       "count           497.00          497.00              497.00  \n",
       "mean              1.82      377,617.79                0.20  \n",
       "std               3.45    2,029,510.42                1.08  \n",
       "min              -0.24      -87,900.84               -0.05  \n",
       "25%               1.01       13,513.38                0.01  \n",
       "50%               1.51       64,466.78                0.03  \n",
       "75%               2.01      239,630.61                0.13  \n",
       "max              75.76   41,515,706.90               22.12  "
      ]
     },
     "execution_count": 41,
     "metadata": {},
     "output_type": "execute_result"
    }
   ],
   "source": [
    "dataset.describe()"
   ]
  },
  {
   "cell_type": "code",
   "execution_count": 7,
   "id": "69009b2d-17de-48ff-9480-9eefd25ed844",
   "metadata": {},
   "outputs": [
    {
     "name": "stdout",
     "output_type": "stream",
     "text": [
      "<class 'pandas.core.frame.DataFrame'>\n",
      "RangeIndex: 497 entries, 0 to 496\n",
      "Data columns (total 7 columns):\n",
      " #   Column                                                   Non-Null Count  Dtype  \n",
      "---  ------                                                   --------------  -----  \n",
      " 0   Account ID                                               497 non-null    int64  \n",
      " 1   Product                                                  497 non-null    object \n",
      " 2   Sector                                                   497 non-null    object \n",
      " 3   Region                                                   497 non-null    object \n",
      " 4   Balance ($)                                              497 non-null    float64\n",
      " 5   Interest Rate we charge clients (%)                      497 non-null    float64\n",
      " 6   Interest Rate we pay Treasury for \"borrowing funds\" (%)  497 non-null    float64\n",
      "dtypes: float64(3), int64(1), object(3)\n",
      "memory usage: 27.3+ KB\n"
     ]
    }
   ],
   "source": [
    "dataset.info()"
   ]
  },
  {
   "cell_type": "markdown",
   "id": "856a20e0-8853-4378-bf3b-a086ba618b3f",
   "metadata": {},
   "source": [
    "# checking for missing values"
   ]
  },
  {
   "cell_type": "code",
   "execution_count": 8,
   "id": "5c0769e0-4903-4303-94c8-fd216da02044",
   "metadata": {},
   "outputs": [
    {
     "data": {
      "text/plain": [
       "Account ID                                                 0\n",
       "Product                                                    0\n",
       "Sector                                                     0\n",
       "Region                                                     0\n",
       "Balance ($)                                                0\n",
       "Interest Rate we charge clients (%)                        0\n",
       "Interest Rate we pay Treasury for \"borrowing funds\" (%)    0\n",
       "dtype: int64"
      ]
     },
     "execution_count": 8,
     "metadata": {},
     "output_type": "execute_result"
    }
   ],
   "source": [
    "dataset.isnull().sum()"
   ]
  },
  {
   "cell_type": "markdown",
   "id": "930887cb-3d34-4c57-8fee-9059f24aebc6",
   "metadata": {},
   "source": [
    "# Fix typos in categorical columns"
   ]
  },
  {
   "cell_type": "code",
   "execution_count": 10,
   "id": "5935918e-a034-4803-bbf6-1478371abd8d",
   "metadata": {},
   "outputs": [
    {
     "name": "stdout",
     "output_type": "stream",
     "text": [
      "['Saskatchewan' 'Quebec' 'US' 'Alberta' 'British Columbia' 'Nova Scotia'\n",
      " 'Ontario' 'Manitoba' 'Ab' 'New Brunswick' 'Ontaro' 'AB' 'BC'\n",
      " 'Newfoundland and Labrador' 'ON' 'Yukon' 'Prince Edward Island']\n"
     ]
    }
   ],
   "source": [
    "print(dataset['Region'].unique())"
   ]
  },
  {
   "cell_type": "code",
   "execution_count": 12,
   "id": "25990806-5e84-4208-9469-c3883500a659",
   "metadata": {},
   "outputs": [],
   "source": [
    "dataset['Region'] = dataset['Region'].replace({'rtfish Columbia': 'British Columbia', 'Ab': 'Alberta', 'Ontaro': 'Ontario'})"
   ]
  },
  {
   "cell_type": "code",
   "execution_count": 13,
   "id": "233b294c-c19d-46ce-aba1-e02af63ec494",
   "metadata": {},
   "outputs": [
    {
     "name": "stdout",
     "output_type": "stream",
     "text": [
      "['Health Care' 'Mining' 'Banks' 'Retail' 'Hospitality' 'Manufacturing']\n"
     ]
    }
   ],
   "source": [
    "print(dataset['Sector'].unique())"
   ]
  },
  {
   "cell_type": "markdown",
   "id": "5141a775-ec7a-4543-94fb-cf9ff47172c8",
   "metadata": {},
   "source": [
    "# Basic Exploration"
   ]
  },
  {
   "cell_type": "code",
   "execution_count": 39,
   "id": "5fd3d7a7-c164-4953-8a8f-514253ec7fde",
   "metadata": {},
   "outputs": [
    {
     "name": "stdout",
     "output_type": "stream",
     "text": [
      "Sector\n",
      "Health Care      83\n",
      "Mining           83\n",
      "Banks            83\n",
      "Retail           83\n",
      "Hospitality      83\n",
      "Manufacturing    82\n",
      "Name: count, dtype: int64\n",
      "Product\n",
      "Operating Line    342\n",
      "Revolving Term    155\n",
      "Name: count, dtype: int64\n"
     ]
    }
   ],
   "source": [
    "print(dataset['Sector'].value_counts())\n",
    "print(dataset['Product'].value_counts())"
   ]
  },
  {
   "cell_type": "code",
   "execution_count": 38,
   "id": "5add9b3b-d36d-433a-9863-f1fbbeb54ec4",
   "metadata": {},
   "outputs": [
    {
     "data": {
      "image/png": "[encoded data removed]",
      "text/plain": [
       "<Figure size 640x480 with 1 Axes>"
      ]
     },
     "metadata": {},
     "output_type": "display_data"
    }
   ],
   "source": [
    "dataset.groupby('Sector')['Balance ($)'].sum().sort_values(ascending=False).plot(kind='bar',color = 'purple')\n",
    "plt.title('Total Loan Balance by Sector')\n",
    "plt.show()"
   ]
  },
  {
   "cell_type": "markdown",
   "id": "28e3e47f-b06f-406c-9739-0cc6fa8490fe",
   "metadata": {},
   "source": [
    "# In depth Analysis & Feature Engineering"
   ]
  },
  {
   "cell_type": "code",
   "execution_count": 22,
   "id": "92c9d092-d631-4dfe-b76b-07fe6defafa7",
   "metadata": {},
   "outputs": [],
   "source": [
    "# Size Segment for each account\n",
    "dataset['Client_Size'] = pd.cut(dataset['Balance ($)'], \n",
    "                            bins=[0, 100000, 1000000, 10000000, np.inf], \n",
    "                            labels=['Micro', 'Small', 'Medium', 'Large'])"
   ]
  },
  {
   "cell_type": "code",
   "execution_count": 24,
   "id": "eb29907b-79f3-4a90-8262-230fec8c540e",
   "metadata": {},
   "outputs": [],
   "source": [
    "dataset['Interest_Spread'] = dataset['Interest Rate we charge clients (%)'] - dataset['Interest Rate we pay Treasury for \"borrowing funds\" (%)']"
   ]
  },
  {
   "cell_type": "code",
   "execution_count": 37,
   "id": "0e8c3f60-59f1-45cd-83d1-d1133e7d695b",
   "metadata": {},
   "outputs": [],
   "source": [
    "# Calculate key financial metrics\n",
    "dataset['Annual_Revenue'] = (dataset['Balance ($)'] * dataset['Interest_Spread']) / 100\n",
    "dataset['Revenue_Percentage'] = (dataset['Annual_Revenue'] / dataset['Annual_Revenue'].sum()) * 100"
   ]
  },
  {
   "cell_type": "code",
   "execution_count": 36,
   "id": "b945ae3c-7cb1-4572-bf6a-d21e5fb6cffa",
   "metadata": {},
   "outputs": [
    {
     "name": "stdout",
     "output_type": "stream",
     "text": [
      "               Annual_Revenue      Balance ($)\n",
      "Sector                                        \n",
      "Hospitality     65,459,075.82 1,525,971,501.22\n",
      "Manufacturing   37,144,471.23 2,039,984,439.47\n",
      "Health Care     26,718,709.76 1,207,281,635.00\n",
      "Mining          22,028,523.69 1,347,689,127.61\n",
      "Banks           21,386,864.20 1,158,232,465.31\n",
      "Retail          14,938,397.90   804,733,925.29\n"
     ]
    }
   ],
   "source": [
    "# Q1: Which sector is the most profitable for us?\n",
    "profitability_by_sector = dataset.groupby('Sector')[['Annual_Revenue', 'Balance ($)']].sum().sort_values('Annual_Revenue', ascending=False)\n",
    "print(profitability_by_sector)"
   ]
  },
  {
   "cell_type": "code",
   "execution_count": 35,
   "id": "62870bb9-435b-4c7d-ab91-48bff4c3dfd2",
   "metadata": {},
   "outputs": [
    {
     "name": "stdout",
     "output_type": "stream",
     "text": [
      "Client_Size\n",
      "Micro    1.80\n",
      "Small    1.69\n",
      "Medium   1.56\n",
      "Large    2.17\n",
      "Name: Interest_Spread, dtype: float64\n"
     ]
    },
    {
     "name": "stderr",
     "output_type": "stream",
     "text": [
      "C:\\Users\\Dell\\AppData\\Local\\Temp\\ipykernel_22584\\451881195.py:2: FutureWarning: The default of observed=False is deprecated and will be changed to True in a future version of pandas. Pass observed=False to retain current behavior or observed=True to adopt the future default and silence this warning.\n",
      "  spread_by_size = dataset.groupby('Client_Size')['Interest_Spread'].mean()\n"
     ]
    }
   ],
   "source": [
    "#Is there a relationship between client size and interest spread?\n",
    "spread_by_size = dataset.groupby('Client_Size')['Interest_Spread'].mean()\n",
    "print(spread_by_size)"
   ]
  },
  {
   "cell_type": "code",
   "execution_count": 34,
   "id": "bd343d92-86fa-431e-8e58-ecf9d34f95bf",
   "metadata": {},
   "outputs": [
    {
     "name": "stdout",
     "output_type": "stream",
     "text": [
      "Risk by Region Region\n",
      "Ontario                     3,766,914,481.90\n",
      "Quebec                      1,297,634,598.00\n",
      "Alberta                     1,094,566,847.33\n",
      "British Columbia              807,994,755.59\n",
      "Saskatchewan                  431,287,190.04\n",
      "Nova Scotia                   249,609,254.90\n",
      "AB                            146,654,013.58\n",
      "Manitoba                      121,506,981.20\n",
      "BC                             78,504,904.95\n",
      "US                             22,603,466.57\n",
      "Newfoundland and Labrador      22,377,791.70\n",
      "ON                             22,361,828.30\n",
      "New Brunswick                  17,887,343.50\n",
      "Prince Edward Island            3,584,840.00\n",
      "Yukon                             404,796.35\n",
      "Name: Balance ($), dtype: float64\n"
     ]
    }
   ],
   "source": [
    "#Which region has the highest concentration of risk (large balances)?\n",
    "risk_by_region = dataset.groupby('Region')['Balance ($)'].sum().sort_values(ascending=False)\n",
    "print(\"Risk by Region\",risk_by_region)"
   ]
  },
  {
   "cell_type": "code",
   "execution_count": 30,
   "id": "33b2dac6-1d83-489b-afa1-7bd88fe29632",
   "metadata": {},
   "outputs": [
    {
     "data": {
      "text/html": [
       "<div>\n",
       "<style scoped>\n",
       "    .dataframe tbody tr th:only-of-type {\n",
       "        vertical-align: middle;\n",
       "    }\n",
       "\n",
       "    .dataframe tbody tr th {\n",
       "        vertical-align: top;\n",
       "    }\n",
       "\n",
       "    .dataframe thead th {\n",
       "        text-align: right;\n",
       "    }\n",
       "</style>\n",
       "<table border=\"1\" class=\"dataframe\">\n",
       "  <thead>\n",
       "    <tr style=\"text-align: right;\">\n",
       "      <th></th>\n",
       "      <th>Account ID</th>\n",
       "      <th>Product</th>\n",
       "      <th>Sector</th>\n",
       "      <th>Region</th>\n",
       "      <th>Balance ($)</th>\n",
       "      <th>Interest Rate we charge clients (%)</th>\n",
       "      <th>Interest Rate we pay Treasury for \"borrowing funds\" (%)</th>\n",
       "      <th>Client_Size</th>\n",
       "      <th>Interest_Spread</th>\n",
       "      <th>Annual_Revenue</th>\n",
       "      <th>Revenue_Percentage</th>\n",
       "    </tr>\n",
       "  </thead>\n",
       "  <tbody>\n",
       "    <tr>\n",
       "      <th>0</th>\n",
       "      <td>205256</td>\n",
       "      <td>Operating Line</td>\n",
       "      <td>Health Care</td>\n",
       "      <td>Saskatchewan</td>\n",
       "      <td>3.402562e+05</td>\n",
       "      <td>3.450</td>\n",
       "      <td>3.6868</td>\n",
       "      <td>Small</td>\n",
       "      <td>-0.2368</td>\n",
       "      <td>-805.726800</td>\n",
       "      <td>-0.000429</td>\n",
       "    </tr>\n",
       "    <tr>\n",
       "      <th>1</th>\n",
       "      <td>18206632</td>\n",
       "      <td>Revolving Term</td>\n",
       "      <td>Mining</td>\n",
       "      <td>Saskatchewan</td>\n",
       "      <td>6.425500e+07</td>\n",
       "      <td>3.550</td>\n",
       "      <td>3.6868</td>\n",
       "      <td>Large</td>\n",
       "      <td>-0.1368</td>\n",
       "      <td>-87900.840000</td>\n",
       "      <td>-0.046836</td>\n",
       "    </tr>\n",
       "    <tr>\n",
       "      <th>2</th>\n",
       "      <td>2508929</td>\n",
       "      <td>Operating Line</td>\n",
       "      <td>Banks</td>\n",
       "      <td>Quebec</td>\n",
       "      <td>5.574212e+06</td>\n",
       "      <td>3.637</td>\n",
       "      <td>3.8012</td>\n",
       "      <td>Medium</td>\n",
       "      <td>-0.1642</td>\n",
       "      <td>-9152.855579</td>\n",
       "      <td>-0.004877</td>\n",
       "    </tr>\n",
       "    <tr>\n",
       "      <th>3</th>\n",
       "      <td>933997</td>\n",
       "      <td>Operating Line</td>\n",
       "      <td>Retail</td>\n",
       "      <td>Quebec</td>\n",
       "      <td>8.941601e+05</td>\n",
       "      <td>3.836</td>\n",
       "      <td>3.6868</td>\n",
       "      <td>Small</td>\n",
       "      <td>0.1492</td>\n",
       "      <td>1334.086857</td>\n",
       "      <td>0.000711</td>\n",
       "    </tr>\n",
       "    <tr>\n",
       "      <th>4</th>\n",
       "      <td>3766238</td>\n",
       "      <td>Revolving Term</td>\n",
       "      <td>Hospitality</td>\n",
       "      <td>US</td>\n",
       "      <td>1.410413e+07</td>\n",
       "      <td>3.854</td>\n",
       "      <td>3.8012</td>\n",
       "      <td>Large</td>\n",
       "      <td>0.0528</td>\n",
       "      <td>7446.978200</td>\n",
       "      <td>0.003968</td>\n",
       "    </tr>\n",
       "  </tbody>\n",
       "</table>\n",
       "</div>"
      ],
      "text/plain": [
       "   Account ID         Product       Sector        Region   Balance ($)  \\\n",
       "0      205256  Operating Line  Health Care  Saskatchewan  3.402562e+05   \n",
       "1    18206632  Revolving Term       Mining  Saskatchewan  6.425500e+07   \n",
       "2     2508929  Operating Line        Banks        Quebec  5.574212e+06   \n",
       "3      933997  Operating Line       Retail        Quebec  8.941601e+05   \n",
       "4     3766238  Revolving Term  Hospitality            US  1.410413e+07   \n",
       "\n",
       "   Interest Rate we charge clients (%)  \\\n",
       "0                                3.450   \n",
       "1                                3.550   \n",
       "2                                3.637   \n",
       "3                                3.836   \n",
       "4                                3.854   \n",
       "\n",
       "   Interest Rate we pay Treasury for \"borrowing funds\" (%) Client_Size  \\\n",
       "0                                             3.6868             Small   \n",
       "1                                             3.6868             Large   \n",
       "2                                             3.8012            Medium   \n",
       "3                                             3.6868             Small   \n",
       "4                                             3.8012             Large   \n",
       "\n",
       "   Interest_Spread  Annual_Revenue  Revenue_Percentage  \n",
       "0          -0.2368     -805.726800           -0.000429  \n",
       "1          -0.1368   -87900.840000           -0.046836  \n",
       "2          -0.1642    -9152.855579           -0.004877  \n",
       "3           0.1492     1334.086857            0.000711  \n",
       "4           0.0528     7446.978200            0.003968  "
      ]
     },
     "execution_count": 30,
     "metadata": {},
     "output_type": "execute_result"
    }
   ],
   "source": [
    "dataset.head(5)"
   ]
  },
  {
   "cell_type": "code",
   "execution_count": 31,
   "id": "7a94e33f-30be-43c7-9879-b26332b33f88",
   "metadata": {},
   "outputs": [],
   "source": [
    "pd.set_option('display.float_format', '{:,.2f}'.format)"
   ]
  },
  {
   "cell_type": "code",
   "execution_count": 32,
   "id": "996eb36b-8f77-477c-b579-6afb526dbf84",
   "metadata": {},
   "outputs": [
    {
     "data": {
      "text/html": [
       "<div>\n",
       "<style scoped>\n",
       "    .dataframe tbody tr th:only-of-type {\n",
       "        vertical-align: middle;\n",
       "    }\n",
       "\n",
       "    .dataframe tbody tr th {\n",
       "        vertical-align: top;\n",
       "    }\n",
       "\n",
       "    .dataframe thead th {\n",
       "        text-align: right;\n",
       "    }\n",
       "</style>\n",
       "<table border=\"1\" class=\"dataframe\">\n",
       "  <thead>\n",
       "    <tr style=\"text-align: right;\">\n",
       "      <th></th>\n",
       "      <th>Account ID</th>\n",
       "      <th>Product</th>\n",
       "      <th>Sector</th>\n",
       "      <th>Region</th>\n",
       "      <th>Balance ($)</th>\n",
       "      <th>Interest Rate we charge clients (%)</th>\n",
       "      <th>Interest Rate we pay Treasury for \"borrowing funds\" (%)</th>\n",
       "      <th>Client_Size</th>\n",
       "      <th>Interest_Spread</th>\n",
       "      <th>Annual_Revenue</th>\n",
       "      <th>Revenue_Percentage</th>\n",
       "    </tr>\n",
       "  </thead>\n",
       "  <tbody>\n",
       "    <tr>\n",
       "      <th>0</th>\n",
       "      <td>205256</td>\n",
       "      <td>Operating Line</td>\n",
       "      <td>Health Care</td>\n",
       "      <td>Saskatchewan</td>\n",
       "      <td>340,256.25</td>\n",
       "      <td>3.45</td>\n",
       "      <td>3.69</td>\n",
       "      <td>Small</td>\n",
       "      <td>-0.24</td>\n",
       "      <td>-805.73</td>\n",
       "      <td>-0.00</td>\n",
       "    </tr>\n",
       "    <tr>\n",
       "      <th>1</th>\n",
       "      <td>18206632</td>\n",
       "      <td>Revolving Term</td>\n",
       "      <td>Mining</td>\n",
       "      <td>Saskatchewan</td>\n",
       "      <td>64,255,000.00</td>\n",
       "      <td>3.55</td>\n",
       "      <td>3.69</td>\n",
       "      <td>Large</td>\n",
       "      <td>-0.14</td>\n",
       "      <td>-87,900.84</td>\n",
       "      <td>-0.05</td>\n",
       "    </tr>\n",
       "    <tr>\n",
       "      <th>2</th>\n",
       "      <td>2508929</td>\n",
       "      <td>Operating Line</td>\n",
       "      <td>Banks</td>\n",
       "      <td>Quebec</td>\n",
       "      <td>5,574,211.68</td>\n",
       "      <td>3.64</td>\n",
       "      <td>3.80</td>\n",
       "      <td>Medium</td>\n",
       "      <td>-0.16</td>\n",
       "      <td>-9,152.86</td>\n",
       "      <td>-0.00</td>\n",
       "    </tr>\n",
       "    <tr>\n",
       "      <th>3</th>\n",
       "      <td>933997</td>\n",
       "      <td>Operating Line</td>\n",
       "      <td>Retail</td>\n",
       "      <td>Quebec</td>\n",
       "      <td>894,160.09</td>\n",
       "      <td>3.84</td>\n",
       "      <td>3.69</td>\n",
       "      <td>Small</td>\n",
       "      <td>0.15</td>\n",
       "      <td>1,334.09</td>\n",
       "      <td>0.00</td>\n",
       "    </tr>\n",
       "    <tr>\n",
       "      <th>4</th>\n",
       "      <td>3766238</td>\n",
       "      <td>Revolving Term</td>\n",
       "      <td>Hospitality</td>\n",
       "      <td>US</td>\n",
       "      <td>14,104,125.38</td>\n",
       "      <td>3.85</td>\n",
       "      <td>3.80</td>\n",
       "      <td>Large</td>\n",
       "      <td>0.05</td>\n",
       "      <td>7,446.98</td>\n",
       "      <td>0.00</td>\n",
       "    </tr>\n",
       "    <tr>\n",
       "      <th>...</th>\n",
       "      <td>...</td>\n",
       "      <td>...</td>\n",
       "      <td>...</td>\n",
       "      <td>...</td>\n",
       "      <td>...</td>\n",
       "      <td>...</td>\n",
       "      <td>...</td>\n",
       "      <td>...</td>\n",
       "      <td>...</td>\n",
       "      <td>...</td>\n",
       "      <td>...</td>\n",
       "    </tr>\n",
       "    <tr>\n",
       "      <th>492</th>\n",
       "      <td>6243318</td>\n",
       "      <td>Operating Line</td>\n",
       "      <td>Health Care</td>\n",
       "      <td>Quebec</td>\n",
       "      <td>48,219,036.60</td>\n",
       "      <td>8.70</td>\n",
       "      <td>3.69</td>\n",
       "      <td>Large</td>\n",
       "      <td>5.01</td>\n",
       "      <td>2,417,316.74</td>\n",
       "      <td>1.29</td>\n",
       "    </tr>\n",
       "    <tr>\n",
       "      <th>493</th>\n",
       "      <td>1664632</td>\n",
       "      <td>Revolving Term</td>\n",
       "      <td>Mining</td>\n",
       "      <td>US</td>\n",
       "      <td>6,023,010.00</td>\n",
       "      <td>8.75</td>\n",
       "      <td>3.80</td>\n",
       "      <td>Medium</td>\n",
       "      <td>4.95</td>\n",
       "      <td>298,066.72</td>\n",
       "      <td>0.16</td>\n",
       "    </tr>\n",
       "    <tr>\n",
       "      <th>494</th>\n",
       "      <td>565685</td>\n",
       "      <td>Operating Line</td>\n",
       "      <td>Banks</td>\n",
       "      <td>Alberta</td>\n",
       "      <td>4,171,493.70</td>\n",
       "      <td>9.90</td>\n",
       "      <td>3.69</td>\n",
       "      <td>Medium</td>\n",
       "      <td>6.21</td>\n",
       "      <td>259,183.25</td>\n",
       "      <td>0.14</td>\n",
       "    </tr>\n",
       "    <tr>\n",
       "      <th>495</th>\n",
       "      <td>2110270</td>\n",
       "      <td>Operating Line</td>\n",
       "      <td>Retail</td>\n",
       "      <td>Quebec</td>\n",
       "      <td>14,093,700.00</td>\n",
       "      <td>10.00</td>\n",
       "      <td>3.80</td>\n",
       "      <td>Large</td>\n",
       "      <td>6.20</td>\n",
       "      <td>873,640.28</td>\n",
       "      <td>0.47</td>\n",
       "    </tr>\n",
       "    <tr>\n",
       "      <th>496</th>\n",
       "      <td>1025256</td>\n",
       "      <td>Revolving Term</td>\n",
       "      <td>Hospitality</td>\n",
       "      <td>British Columbia</td>\n",
       "      <td>54,796,665.00</td>\n",
       "      <td>79.45</td>\n",
       "      <td>3.69</td>\n",
       "      <td>Large</td>\n",
       "      <td>75.76</td>\n",
       "      <td>41,515,706.90</td>\n",
       "      <td>22.12</td>\n",
       "    </tr>\n",
       "  </tbody>\n",
       "</table>\n",
       "<p>497 rows × 11 columns</p>\n",
       "</div>"
      ],
      "text/plain": [
       "     Account ID         Product       Sector            Region   Balance ($)  \\\n",
       "0        205256  Operating Line  Health Care      Saskatchewan    340,256.25   \n",
       "1      18206632  Revolving Term       Mining      Saskatchewan 64,255,000.00   \n",
       "2       2508929  Operating Line        Banks            Quebec  5,574,211.68   \n",
       "3        933997  Operating Line       Retail            Quebec    894,160.09   \n",
       "4       3766238  Revolving Term  Hospitality                US 14,104,125.38   \n",
       "..          ...             ...          ...               ...           ...   \n",
       "492     6243318  Operating Line  Health Care            Quebec 48,219,036.60   \n",
       "493     1664632  Revolving Term       Mining                US  6,023,010.00   \n",
       "494      565685  Operating Line        Banks           Alberta  4,171,493.70   \n",
       "495     2110270  Operating Line       Retail            Quebec 14,093,700.00   \n",
       "496     1025256  Revolving Term  Hospitality  British Columbia 54,796,665.00   \n",
       "\n",
       "     Interest Rate we charge clients (%)  \\\n",
       "0                                   3.45   \n",
       "1                                   3.55   \n",
       "2                                   3.64   \n",
       "3                                   3.84   \n",
       "4                                   3.85   \n",
       "..                                   ...   \n",
       "492                                 8.70   \n",
       "493                                 8.75   \n",
       "494                                 9.90   \n",
       "495                                10.00   \n",
       "496                                79.45   \n",
       "\n",
       "     Interest Rate we pay Treasury for \"borrowing funds\" (%) Client_Size  \\\n",
       "0                                                 3.69             Small   \n",
       "1                                                 3.69             Large   \n",
       "2                                                 3.80            Medium   \n",
       "3                                                 3.69             Small   \n",
       "4                                                 3.80             Large   \n",
       "..                                                 ...               ...   \n",
       "492                                               3.69             Large   \n",
       "493                                               3.80            Medium   \n",
       "494                                               3.69            Medium   \n",
       "495                                               3.80             Large   \n",
       "496                                               3.69             Large   \n",
       "\n",
       "     Interest_Spread  Annual_Revenue  Revenue_Percentage  \n",
       "0              -0.24         -805.73               -0.00  \n",
       "1              -0.14      -87,900.84               -0.05  \n",
       "2              -0.16       -9,152.86               -0.00  \n",
       "3               0.15        1,334.09                0.00  \n",
       "4               0.05        7,446.98                0.00  \n",
       "..               ...             ...                 ...  \n",
       "492             5.01    2,417,316.74                1.29  \n",
       "493             4.95      298,066.72                0.16  \n",
       "494             6.21      259,183.25                0.14  \n",
       "495             6.20      873,640.28                0.47  \n",
       "496            75.76   41,515,706.90               22.12  \n",
       "\n",
       "[497 rows x 11 columns]"
      ]
     },
     "execution_count": 32,
     "metadata": {},
     "output_type": "execute_result"
    }
   ],
   "source": [
    "dataset"
   ]
  },
  {
   "cell_type": "code",
   "execution_count": 42,
   "id": "105142ae-9cc6-4b50-8c61-d531279c9a43",
   "metadata": {},
   "outputs": [
    {
     "data": {
      "image/png": "[encoded data removed]",
      "text/plain": [
       "<Figure size 1200x600 with 1 Axes>"
      ]
     },
     "metadata": {},
     "output_type": "display_data"
    }
   ],
   "source": [
    "# Average spread by product and sector\n",
    "plt.figure(figsize=(12, 6))\n",
    "sns.barplot(data=dataset, x='Sector', y='Interest_Spread', hue='Product')\n",
    "plt.xticks(rotation=45)\n",
    "plt.title('Average Interest Spread by Sector and Product')\n",
    "plt.show()"
   ]
  },
  {
   "cell_type": "code",
   "execution_count": 49,
   "id": "476d6b70-996d-4f77-bbf9-227ac9ebb71b",
   "metadata": {},
   "outputs": [
    {
     "name": "stdout",
     "output_type": "stream",
     "text": [
      "Loss-Making Loans Summary:\n",
      "Number of loss-making loans: 3\n",
      "Total loss amount: $-97,859.42\n",
      "\n",
      "Loss by Sector:\n",
      "Sector\n",
      "Mining        -87,900.84\n",
      "Banks          -9,152.86\n",
      "Health Care      -805.73\n",
      "Name: Annual_Revenue, dtype: float64\n"
     ]
    }
   ],
   "source": [
    "# Calculate loss-making loans\n",
    "loss_making_loans = dataset[dataset['Annual_Revenue'] < 0]\n",
    "loss_per_sector = loss_making_loans.groupby('Sector')['Annual_Revenue'].sum().sort_values()\n",
    "\n",
    "print(\"Loss-Making Loans Summary:\")\n",
    "print(f\"Number of loss-making loans: {len(loss_making_loans)}\")\n",
    "print(f\"Total loss amount: ${loss_making_loans['Annual_Revenue'].sum():,.2f}\")\n",
    "print(\"\\nLoss by Sector:\")\n",
    "print(loss_per_sector)"
   ]
  },
  {
   "cell_type": "code",
   "execution_count": null,
   "id": "26635630-2f40-4c3d-b490-e5ebb09ae3b7",
   "metadata": {},
   "outputs": [],
   "source": [
    "# Visualization 1: Loss-making loans by sector\n",
    "plt.figure(figsize=(10, 6))\n",
    "loss_per_sector.plot(kind='bar', color='red')\n",
    "plt.title('Total Loss Amount by Sector')\n",
    "plt.xlabel('Sector')\n",
    "plt.ylabel('Loss Amount ($)')\n",
    "plt.xticks(rotation=45)\n",
    "plt.tight_layout()\n",
    "plt.show()"
   ]
  },
  {
   "cell_type": "markdown",
   "id": "51559826-8657-4de4-b1ad-06caf23fa755",
   "metadata": {},
   "source": [
    "# Basic Machine Learning - Customer Segmentation"
   ]
  },
  {
   "cell_type": "code",
   "execution_count": 46,
   "id": "2219eaa8-0de0-4b87-9458-a80cabaa2562",
   "metadata": {},
   "outputs": [
    {
     "name": "stdout",
     "output_type": "stream",
     "text": [
      "0      0\n",
      "1      0\n",
      "2      0\n",
      "3      0\n",
      "4      0\n",
      "      ..\n",
      "492    0\n",
      "493    0\n",
      "494    0\n",
      "495    0\n",
      "496    1\n",
      "Name: Cluster, Length: 497, dtype: int32\n"
     ]
    }
   ],
   "source": [
    "from sklearn.cluster import KMeans\n",
    "from sklearn.preprocessing import StandardScaler\n",
    "\n",
    "# Select features that define a client's value/risk\n",
    "cluster_data = dataset[['Balance ($)', 'Interest_Spread', 'Annual_Revenue']].copy()\n",
    "\n",
    "# Scale the data so that no feature dominates others\n",
    "scaler = StandardScaler()\n",
    "scaled_data = scaler.fit_transform(cluster_data)"
   ]
  },
  {
   "cell_type": "code",
   "execution_count": 47,
   "id": "a77c1e43-5914-4d5e-8de8-4c517b7a667c",
   "metadata": {},
   "outputs": [],
   "source": [
    "# Create 4 clusters\n",
    "kmeans = KMeans(n_clusters=4, random_state=42)\n",
    "dataset['Cluster'] = kmeans.fit_predict(scaled_data)"
   ]
  },
  {
   "cell_type": "markdown",
   "id": "d73b6421-3fc2-4380-9022-18abc7cd6009",
   "metadata": {},
   "source": [
    "# Analysis"
   ]
  },
  {
   "cell_type": "code",
   "execution_count": 48,
   "id": "33d749a6-2bc2-415e-a2b5-5e8bc7d3917e",
   "metadata": {},
   "outputs": [
    {
     "name": "stdout",
     "output_type": "stream",
     "text": [
      "           Balance ($)  Interest_Spread  Annual_Revenue\n",
      "Cluster                                                \n",
      "0        10,040,128.16             1.65      168,309.49\n",
      "1        54,796,665.00            75.76   41,515,706.90\n",
      "2       123,366,276.63             2.06    2,590,606.69\n",
      "3       679,383,870.95             1.76   11,978,896.41\n"
     ]
    }
   ],
   "source": [
    "cluster_summary = dataset.groupby('Cluster')[['Balance ($)', 'Interest_Spread', 'Annual_Revenue']].mean()\n",
    "print(cluster_summary)"
   ]
  },
  {
   "cell_type": "markdown",
   "id": "8960136e-0fa6-49de-b1e1-7470af87dc8a",
   "metadata": {},
   "source": [
    "# Cluster Analysis: Key Findings\n",
    "\n",
    "*   🚨 **Cluster 1 (The Anomaly):** An implausible 75.76% spread indicates a critical **data error** requiring immediate investigation.\n",
    "\n",
    "*   ⚠️ **Cluster 2 (The Whales):** Our largest clients ($123M avg) but with the lowest margin (2.06% spread). High **concentration risk**; a pricing review is advised.\n",
    "\n",
    "*   ⭐ **Cluster 0 (The Core):** The healthy core of our portfolio. Balanced and reliable with a good average balance ($10M) and strong spread (1.65%).\n",
    "\n",
    "*   💎 **Cluster 3 (The Gold Mine):** Our most valuable client, generating massive revenue ($12M). A **key strategic account** requiring utmost priority.\n",
    "\n",
    "**Conclusion:** We must transition from managing a single portfolio to executing targeted strategies for these four distinct segments to optimize risk and profitability."
   ]
  },
  {
   "cell_type": "markdown",
   "id": "c5666e6c-1194-4173-9d9e-1168860f8b85",
   "metadata": {},
   "source": [
    "# Strategic Profitability Analysis of a Commercial Loan Portfolio\n",
    "\n",
    "## 📌 Executive Summary  \n",
    "This study evaluates the profitability, risk concentration, and strategic positioning of a commercial loan portfolio. Key metrics—interest spread, annual revenue, and client segmentation—were analyzed across sectors, regions, and client sizes to identify drivers of performance.\n",
    "\n",
    "---\n",
    "\n",
    "## 📊 Dataset Overview  \n",
    "- **Records:** 497 loans  \n",
    "- **Features:** Account ID, Product, Sector, Region, Balance, Interest Rates (charged & paid)  \n",
    "- **Derived Metrics:** Interest Spread, Annual Revenue, Revenue %  \n",
    "\n",
    "---\n",
    "\n",
    "## 🔍 Key Findings  \n",
    "\n",
    "### 1. Sector Profitability  \n",
    "\n",
    "- **Hospitality** (most profitable)  \n",
    "  - Annual Revenue: $65.5M  \n",
    "  - Total Balance: $1.53B  \n",
    "\n",
    "- **Manufacturing** (largest exposure)  \n",
    "  - Annual Revenue: $37.1M  \n",
    "  - Total Balance: $2.04B  \n",
    "\n",
    "- **Health Care**  \n",
    "  - Annual Revenue: $26.7M  \n",
    "  - Total Balance: $1.21B  \n",
    "\n",
    "\n",
    "\n",
    "---\n",
    "\n",
    "### 2. Interest Spread by Client Size  \n",
    "- **Large clients:** Highest spread (**2.17%**) → strongest profitability per loan.  \n",
    "- **Micro clients:** Positive but lower spread (**1.80%**).  \n",
    "\n",
    "| Client Size | Avg. Interest Spread |\n",
    "|-------------|-----------------------|\n",
    "| Large       | 2.17%                |\n",
    "| Micro       | 1.80%                |\n",
    "| Small       | 1.69%                |\n",
    "| Medium      | 1.56%                |\n",
    "\n",
    "---\n",
    "\n",
    "### 3. Regional Concentration  \n",
    "- **Ontario:** Dominates portfolio exposure (**$3.77B**).  \n",
    "- **Quebec** and **Alberta** follow with significant balances.  \n",
    "\n",
    "| Region  | Total Balance ($) |\n",
    "|---------|--------------------|\n",
    "| Ontario | 3.77B             |\n",
    "| Quebec  | 1.30B             |\n",
    "| Alberta | 1.09B             |\n",
    "\n",
    "---\n",
    "\n",
    "### 4. Negative Interest Spreads  \n",
    "- Sectors like **Mining, Health Care, and Banks** show negative spreads—loans cost more to fund than they earn.  \n",
    "- Indicates potential **revenue leakage** and **risk**.  \n",
    "\n",
    "---\n",
    "\n",
    "### 5. Product Distribution  \n",
    "- **Operating Line loans** dominate (342 loans).  \n",
    "- **Revolving Term loans** less common (155 loans).  \n",
    "\n",
    "---\n",
    "\n",
    "## 💡 Strategic Insights  \n",
    "- **Expand Profitable Sectors:** Hospitality & Manufacturing drive highest revenue.  \n",
    "- **Prioritize Large Clients:** Strongest spreads & relationship value.  \n",
    "- **Manage Regional Risk:** Ontario’s dominance requires close monitoring.  \n",
    "- **Address Negative Spreads:** Reprice or mitigate underperforming loans.  \n",
    "- **Review Product Mix:** Optimize use of Revolving Term loans.  \n",
    "\n",
    "---\n"
   ]
  },
  {
   "cell_type": "code",
   "execution_count": null,
   "id": "818e6b7e-4720-4499-8832-81b878d67e37",
   "metadata": {},
   "outputs": [],
   "source": [
    "# df_final.to_csv(\"loan_portfolio_analysis.csv\", index=False)"
   ]
  }
 ],
 "metadata": {
  "kernelspec": {
   "display_name": "Python [conda env:base] *",
   "language": "python",
   "name": "conda-base-py"
  },
  "language_info": {
   "codemirror_mode": {
    "name": "ipython",
    "version": 3
   },
   "file_extension": ".py",
   "mimetype": "text/x-python",
   "name": "python",
   "nbconvert_exporter": "python",
   "pygments_lexer": "ipython3",
   "version": "3.12.7"
  }
 },
 "nbformat": 4,
 "nbformat_minor": 5
}
