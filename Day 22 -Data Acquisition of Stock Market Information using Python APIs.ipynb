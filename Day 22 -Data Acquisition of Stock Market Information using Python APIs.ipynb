{
 "cells": [
  {
   "cell_type": "code",
   "execution_count": 1,
   "id": "b92bd3c8-da2b-4665-915c-f40dcc7fdd69",
   "metadata": {},
   "outputs": [],
   "source": [
    "import yfinance as yf\n",
    "import pandas as pd"
   ]
  },
  {
   "cell_type": "code",
   "execution_count": 2,
   "id": "fc600c64-3d58-413c-b4e7-80c43c35895a",
   "metadata": {},
   "outputs": [],
   "source": [
    "tickers = [\"AAPL\", \"MSFT\", \"GOOGL\", \"AMZN\", \"TSLA\"]"
   ]
  },
  {
   "cell_type": "markdown",
   "id": "f9e2b0f9-f411-43a6-9e56-ec02b0dde272",
   "metadata": {},
   "source": [
    "# Downloading the stock data"
   ]
  },
  {
   "cell_type": "code",
   "execution_count": 3,
   "id": "c05948d4-7577-45ed-80e5-998b96df5236",
   "metadata": {},
   "outputs": [
    {
     "name": "stdout",
     "output_type": "stream",
     "text": [
      "Downloading data for AAPL...\n"
     ]
    },
    {
     "name": "stderr",
     "output_type": "stream",
     "text": [
      "C:\\Users\\Dell\\AppData\\Local\\Temp\\ipykernel_7396\\2190145092.py:5: FutureWarning: YF.download() has changed argument auto_adjust default to True\n",
      "  df = yf.download(t, start=\"2023-01-01\", end=\"2025-09-20\", interval=\"1d\")\n",
      "[*********************100%***********************]  1 of 1 completed\n",
      "C:\\Users\\Dell\\AppData\\Local\\Temp\\ipykernel_7396\\2190145092.py:5: FutureWarning: YF.download() has changed argument auto_adjust default to True\n",
      "  df = yf.download(t, start=\"2023-01-01\", end=\"2025-09-20\", interval=\"1d\")\n"
     ]
    },
    {
     "name": "stdout",
     "output_type": "stream",
     "text": [
      "Downloading data for MSFT...\n"
     ]
    },
    {
     "name": "stderr",
     "output_type": "stream",
     "text": [
      "[*********************100%***********************]  1 of 1 completed\n",
      "C:\\Users\\Dell\\AppData\\Local\\Temp\\ipykernel_7396\\2190145092.py:5: FutureWarning: YF.download() has changed argument auto_adjust default to True\n",
      "  df = yf.download(t, start=\"2023-01-01\", end=\"2025-09-20\", interval=\"1d\")\n"
     ]
    },
    {
     "name": "stdout",
     "output_type": "stream",
     "text": [
      "Downloading data for GOOGL...\n"
     ]
    },
    {
     "name": "stderr",
     "output_type": "stream",
     "text": [
      "[*********************100%***********************]  1 of 1 completed\n",
      "C:\\Users\\Dell\\AppData\\Local\\Temp\\ipykernel_7396\\2190145092.py:5: FutureWarning: YF.download() has changed argument auto_adjust default to True\n",
      "  df = yf.download(t, start=\"2023-01-01\", end=\"2025-09-20\", interval=\"1d\")\n"
     ]
    },
    {
     "name": "stdout",
     "output_type": "stream",
     "text": [
      "Downloading data for AMZN...\n"
     ]
    },
    {
     "name": "stderr",
     "output_type": "stream",
     "text": [
      "[*********************100%***********************]  1 of 1 completed\n",
      "C:\\Users\\Dell\\AppData\\Local\\Temp\\ipykernel_7396\\2190145092.py:5: FutureWarning: YF.download() has changed argument auto_adjust default to True\n",
      "  df = yf.download(t, start=\"2023-01-01\", end=\"2025-09-20\", interval=\"1d\")\n"
     ]
    },
    {
     "name": "stdout",
     "output_type": "stream",
     "text": [
      "Downloading data for TSLA...\n"
     ]
    },
    {
     "name": "stderr",
     "output_type": "stream",
     "text": [
      "[*********************100%***********************]  1 of 1 completed\n"
     ]
    }
   ],
   "source": [
    "all_data = {}\n",
    "\n",
    "for t in tickers:\n",
    "    print(f\"Downloading data for {t}...\")\n",
    "    df = yf.download(t, start=\"2023-01-01\", end=\"2025-09-20\", interval=\"1d\")\n",
    "    all_data[t] = df"
   ]
  },
  {
   "cell_type": "code",
   "execution_count": 6,
   "id": "3592b055-d0ae-40c6-906a-b33104788395",
   "metadata": {},
   "outputs": [
    {
     "name": "stdout",
     "output_type": "stream",
     "text": [
      "Price            Close        High         Low        Open     Volume\n",
      "Ticker            AAPL        AAPL        AAPL        AAPL       AAPL\n",
      "Date                                                                 \n",
      "2023-01-03  123.330643  129.079559  122.443158  128.468186  112117500\n",
      "2023-01-04  124.602707  126.870724  123.340509  125.125335   89113600\n",
      "2023-01-05  123.281342  125.993097  123.024963  125.361998   80962700\n",
      "2023-01-06  127.817360  128.478040  123.153145  124.257571   87754700\n",
      "2023-01-09  128.339951  131.554622  128.083572  128.655507   70790800\n"
     ]
    }
   ],
   "source": [
    "print(all_data['AAPL'].head())"
   ]
  },
  {
   "cell_type": "markdown",
   "id": "ecb1f3f8-f276-4c18-834a-7b98e30a289c",
   "metadata": {},
   "source": [
    "# Basic Info for Each stock"
   ]
  },
  {
   "cell_type": "code",
   "execution_count": 7,
   "id": "5748c1ad-dd5f-4362-acec-c30ed5648c81",
   "metadata": {},
   "outputs": [
    {
     "name": "stdout",
     "output_type": "stream",
     "text": [
      "\n",
      "--- AAPL ---\n",
      "Total rows of data: 681\n",
      "Date range: 2023-01-03 to 2025-09-19\n",
      "First Close Price: Ticker\n",
      "AAPL    123.33\n",
      "Name: 2023-01-03 00:00:00, dtype: float64\n",
      "Last Close Price: Ticker\n",
      "AAPL    245.5\n",
      "Name: 2025-09-19 00:00:00, dtype: float64\n",
      "Average Close Price: Ticker\n",
      "AAPL    196.21\n",
      "dtype: float64\n",
      "Maximum Close Price: Ticker\n",
      "AAPL    258.1\n",
      "dtype: float64\n",
      "Minimum Close Price: Ticker\n",
      "AAPL    123.28\n",
      "dtype: float64\n",
      "\n",
      "--- MSFT ---\n",
      "Total rows of data: 681\n",
      "Date range: 2023-01-03 to 2025-09-19\n",
      "First Close Price: Ticker\n",
      "MSFT    234.42\n",
      "Name: 2023-01-03 00:00:00, dtype: float64\n",
      "Last Close Price: Ticker\n",
      "MSFT    517.93\n",
      "Name: 2025-09-19 00:00:00, dtype: float64\n",
      "Average Close Price: Ticker\n",
      "MSFT    385.27\n",
      "dtype: float64\n",
      "Maximum Close Price: Ticker\n",
      "MSFT    534.76\n",
      "dtype: float64\n",
      "Minimum Close Price: Ticker\n",
      "MSFT    217.53\n",
      "dtype: float64\n",
      "\n",
      "--- GOOGL ---\n",
      "Total rows of data: 681\n",
      "Date range: 2023-01-03 to 2025-09-19\n",
      "First Close Price: Ticker\n",
      "GOOGL    88.51\n",
      "Name: 2023-01-03 00:00:00, dtype: float64\n",
      "Last Close Price: Ticker\n",
      "GOOGL    254.72\n",
      "Name: 2025-09-19 00:00:00, dtype: float64\n",
      "Average Close Price: Ticker\n",
      "GOOGL    151.52\n",
      "dtype: float64\n",
      "Maximum Close Price: Ticker\n",
      "GOOGL    254.72\n",
      "dtype: float64\n",
      "Minimum Close Price: Ticker\n",
      "GOOGL    85.61\n",
      "dtype: float64\n",
      "\n",
      "--- AMZN ---\n",
      "Total rows of data: 681\n",
      "Date range: 2023-01-03 to 2025-09-19\n",
      "First Close Price: Ticker\n",
      "AMZN    85.82\n",
      "Name: 2023-01-03 00:00:00, dtype: float64\n",
      "Last Close Price: Ticker\n",
      "AMZN    231.48\n",
      "Name: 2025-09-19 00:00:00, dtype: float64\n",
      "Average Close Price: Ticker\n",
      "AMZN    169.01\n",
      "dtype: float64\n",
      "Maximum Close Price: Ticker\n",
      "AMZN    242.06\n",
      "dtype: float64\n",
      "Minimum Close Price: Ticker\n",
      "AMZN    83.12\n",
      "dtype: float64\n",
      "\n",
      "--- TSLA ---\n",
      "Total rows of data: 681\n",
      "Date range: 2023-01-03 to 2025-09-19\n",
      "First Close Price: Ticker\n",
      "TSLA    108.1\n",
      "Name: 2023-01-03 00:00:00, dtype: float64\n",
      "Last Close Price: Ticker\n",
      "TSLA    426.07\n",
      "Name: 2025-09-19 00:00:00, dtype: float64\n",
      "Average Close Price: Ticker\n",
      "TSLA    250.08\n",
      "dtype: float64\n",
      "Maximum Close Price: Ticker\n",
      "TSLA    479.86\n",
      "dtype: float64\n",
      "Minimum Close Price: Ticker\n",
      "TSLA    108.1\n",
      "dtype: float64\n"
     ]
    }
   ],
   "source": [
    "for t in tickers:\n",
    "    df = all_data[t]\n",
    "    print(f\"\\n--- {t} ---\")\n",
    "    print(\"Total rows of data:\", len(df))\n",
    "    print(\"Date range:\", df.index.min().strftime(\"%Y-%m-%d\"), \"to\", df.index.max().strftime(\"%Y-%m-%d\"))\n",
    "    print(\"First Close Price:\", round(df['Close'].iloc[0], 2))\n",
    "    print(\"Last Close Price:\", round(df['Close'].iloc[-1], 2))\n",
    "    print(\"Average Close Price:\", round(df['Close'].mean(), 2))\n",
    "    print(\"Maximum Close Price:\", round(df['Close'].max(), 2))\n",
    "    print(\"Minimum Close Price:\", round(df['Close'].min(), 2))"
   ]
  },
  {
   "cell_type": "code",
   "execution_count": 8,
   "id": "dad7ec75-7061-4c06-a740-6ec82e85e1b1",
   "metadata": {},
   "outputs": [],
   "source": [
    "for t in tickers:\n",
    "    all_data[t].to_csv(f\"{t}.csv\")"
   ]
  },
  {
   "cell_type": "markdown",
   "id": "10ebcfdb-716f-4948-8618-fc7afa51b9c6",
   "metadata": {},
   "source": [
    "# 📊 Data Acquisition\n",
    "\n",
    "**Data acquisition** is the process of collecting raw data from reliable sources and converting it into a usable format for analysis.  \n",
    "It is the **first step in any data analytics pipeline** and ensures accuracy, consistency, and scalability.\n",
    "\n",
    "## 🔹 Importance\n",
    "- Forms the **foundation** for all analysis and decision-making.  \n",
    "- Ensures data is **accurate, reproducible, and reliable**.  \n",
    "- Enables both **historical insights** and **real-time tracking**.  \n",
    "\n",
    "## 🔹 Our Work\n",
    "- Used **`yfinance` API** to download **daily stock data** for 5 companies (AAPL, MSFT, GOOGL, AMZN, TSLA).  \n",
    "- Captured key fields: **Open, High, Low, Close, Adjusted Close, Volume**.  \n",
    "- Data stored in **CSV format** for reusability.  \n",
    "\n",
    "## 🔹 Further Use\n",
    "- **Exploratory Analysis** – trends, anomalies, comparisons.  \n",
    "- **Visualization** – line charts, candlestick plots.  \n",
    "- **Forecasting & ML** – stock prediction, volatility analysis.  \n",
    "- **Business Insights** – investment decisions, portfolio optimization.  \n"
   ]
  },
  {
   "cell_type": "code",
   "execution_count": null,
   "id": "3f2204fa-0949-4f09-a509-723686d5afb0",
   "metadata": {},
   "outputs": [],
   "source": []
  }
 ],
 "metadata": {
  "kernelspec": {
   "display_name": "Python [conda env:base] *",
   "language": "python",
   "name": "conda-base-py"
  },
  "language_info": {
   "codemirror_mode": {
    "name": "ipython",
    "version": 3
   },
   "file_extension": ".py",
   "mimetype": "text/x-python",
   "name": "python",
   "nbconvert_exporter": "python",
   "pygments_lexer": "ipython3",
   "version": "3.12.7"
  }
 },
 "nbformat": 4,
 "nbformat_minor": 5
}
