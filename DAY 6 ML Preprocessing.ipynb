{
 "cells": [
  {
   "cell_type": "code",
   "execution_count": 1,
   "id": "d88ea740-e300-4d9b-b860-16e762a5775a",
   "metadata": {},
   "outputs": [],
   "source": [
    "import pandas as pd\n",
    "import numpy as np\n",
    "\n",
    "# Create the sample dataset\n",
    "data = {\n",
    "    'age': [25, 45, 58, 33, 29, 41, 36, 44, 53, 27, np.nan, 39, 48, 36, 42],\n",
    "    'income': [45, 120, 98, 60, 75, 65, 50, 210, 95, 40, 70, 88, 102, 83, 68],\n",
    "    'loan_amount': [20, 80, 50, 35, 40, 30, 25, 150, 45, 15, 32, 38, 55, 42, 28],\n",
    "    'credit_score': [650, 720, 810, 680, 590, 640, 610, 830, 740, 600, 690, 710, 780, 670, 625],\n",
    "    'employment_length': ['1-3yr', '5-10yr', '10+yr', '3-5yr', '<1yr', '1-3yr', '1-3yr', '10+yr', '5-10yr', '<1yr', '3-5yr', '5-10yr', '10+yr', '3-5yr', '1-3yr'],\n",
    "    'home_ownership': ['Rent', 'Mortgage', 'Own', 'Rent', 'Rent', 'Rent', 'Rent', 'Own', 'Mortgage', 'Rent', 'Mortgage', 'Mortgage', 'Own', 'Mortgage', 'Rent'],\n",
    "    'loan_intent': ['Personal', 'Venture', 'Home', 'Education', 'Personal', 'Medical', 'Personal', 'Venture', 'Home', 'Education', 'Debt Consolidation', 'Home', 'Venture', 'Medical', 'Debt Consolidation'],\n",
    "    'loan_status': [1, 0, 0, 0, 1, 1, 1, 0, 0, 1, 0, 0, 0, 1, 1]\n",
    "}"
   ]
  },
  {
   "cell_type": "code",
   "execution_count": 2,
   "id": "c0e8284c-cf5a-4701-810e-91077d68bb0b",
   "metadata": {},
   "outputs": [],
   "source": [
    "df=pd.DataFrame(data)"
   ]
  },
  {
   "cell_type": "code",
   "execution_count": 3,
   "id": "10354aca-0a07-43bc-a8c4-ff02fddc740a",
   "metadata": {},
   "outputs": [
    {
     "data": {
      "text/html": [
       "<div>\n",
       "<style scoped>\n",
       "    .dataframe tbody tr th:only-of-type {\n",
       "        vertical-align: middle;\n",
       "    }\n",
       "\n",
       "    .dataframe tbody tr th {\n",
       "        vertical-align: top;\n",
       "    }\n",
       "\n",
       "    .dataframe thead th {\n",
       "        text-align: right;\n",
       "    }\n",
       "</style>\n",
       "<table border=\"1\" class=\"dataframe\">\n",
       "  <thead>\n",
       "    <tr style=\"text-align: right;\">\n",
       "      <th></th>\n",
       "      <th>age</th>\n",
       "      <th>income</th>\n",
       "      <th>loan_amount</th>\n",
       "      <th>credit_score</th>\n",
       "      <th>employment_length</th>\n",
       "      <th>home_ownership</th>\n",
       "      <th>loan_intent</th>\n",
       "      <th>loan_status</th>\n",
       "    </tr>\n",
       "  </thead>\n",
       "  <tbody>\n",
       "    <tr>\n",
       "      <th>0</th>\n",
       "      <td>25.0</td>\n",
       "      <td>45</td>\n",
       "      <td>20</td>\n",
       "      <td>650</td>\n",
       "      <td>1-3yr</td>\n",
       "      <td>Rent</td>\n",
       "      <td>Personal</td>\n",
       "      <td>1</td>\n",
       "    </tr>\n",
       "    <tr>\n",
       "      <th>1</th>\n",
       "      <td>45.0</td>\n",
       "      <td>120</td>\n",
       "      <td>80</td>\n",
       "      <td>720</td>\n",
       "      <td>5-10yr</td>\n",
       "      <td>Mortgage</td>\n",
       "      <td>Venture</td>\n",
       "      <td>0</td>\n",
       "    </tr>\n",
       "    <tr>\n",
       "      <th>2</th>\n",
       "      <td>58.0</td>\n",
       "      <td>98</td>\n",
       "      <td>50</td>\n",
       "      <td>810</td>\n",
       "      <td>10+yr</td>\n",
       "      <td>Own</td>\n",
       "      <td>Home</td>\n",
       "      <td>0</td>\n",
       "    </tr>\n",
       "    <tr>\n",
       "      <th>3</th>\n",
       "      <td>33.0</td>\n",
       "      <td>60</td>\n",
       "      <td>35</td>\n",
       "      <td>680</td>\n",
       "      <td>3-5yr</td>\n",
       "      <td>Rent</td>\n",
       "      <td>Education</td>\n",
       "      <td>0</td>\n",
       "    </tr>\n",
       "    <tr>\n",
       "      <th>4</th>\n",
       "      <td>29.0</td>\n",
       "      <td>75</td>\n",
       "      <td>40</td>\n",
       "      <td>590</td>\n",
       "      <td>&lt;1yr</td>\n",
       "      <td>Rent</td>\n",
       "      <td>Personal</td>\n",
       "      <td>1</td>\n",
       "    </tr>\n",
       "    <tr>\n",
       "      <th>5</th>\n",
       "      <td>41.0</td>\n",
       "      <td>65</td>\n",
       "      <td>30</td>\n",
       "      <td>640</td>\n",
       "      <td>1-3yr</td>\n",
       "      <td>Rent</td>\n",
       "      <td>Medical</td>\n",
       "      <td>1</td>\n",
       "    </tr>\n",
       "    <tr>\n",
       "      <th>6</th>\n",
       "      <td>36.0</td>\n",
       "      <td>50</td>\n",
       "      <td>25</td>\n",
       "      <td>610</td>\n",
       "      <td>1-3yr</td>\n",
       "      <td>Rent</td>\n",
       "      <td>Personal</td>\n",
       "      <td>1</td>\n",
       "    </tr>\n",
       "    <tr>\n",
       "      <th>7</th>\n",
       "      <td>44.0</td>\n",
       "      <td>210</td>\n",
       "      <td>150</td>\n",
       "      <td>830</td>\n",
       "      <td>10+yr</td>\n",
       "      <td>Own</td>\n",
       "      <td>Venture</td>\n",
       "      <td>0</td>\n",
       "    </tr>\n",
       "    <tr>\n",
       "      <th>8</th>\n",
       "      <td>53.0</td>\n",
       "      <td>95</td>\n",
       "      <td>45</td>\n",
       "      <td>740</td>\n",
       "      <td>5-10yr</td>\n",
       "      <td>Mortgage</td>\n",
       "      <td>Home</td>\n",
       "      <td>0</td>\n",
       "    </tr>\n",
       "    <tr>\n",
       "      <th>9</th>\n",
       "      <td>27.0</td>\n",
       "      <td>40</td>\n",
       "      <td>15</td>\n",
       "      <td>600</td>\n",
       "      <td>&lt;1yr</td>\n",
       "      <td>Rent</td>\n",
       "      <td>Education</td>\n",
       "      <td>1</td>\n",
       "    </tr>\n",
       "    <tr>\n",
       "      <th>10</th>\n",
       "      <td>NaN</td>\n",
       "      <td>70</td>\n",
       "      <td>32</td>\n",
       "      <td>690</td>\n",
       "      <td>3-5yr</td>\n",
       "      <td>Mortgage</td>\n",
       "      <td>Debt Consolidation</td>\n",
       "      <td>0</td>\n",
       "    </tr>\n",
       "    <tr>\n",
       "      <th>11</th>\n",
       "      <td>39.0</td>\n",
       "      <td>88</td>\n",
       "      <td>38</td>\n",
       "      <td>710</td>\n",
       "      <td>5-10yr</td>\n",
       "      <td>Mortgage</td>\n",
       "      <td>Home</td>\n",
       "      <td>0</td>\n",
       "    </tr>\n",
       "    <tr>\n",
       "      <th>12</th>\n",
       "      <td>48.0</td>\n",
       "      <td>102</td>\n",
       "      <td>55</td>\n",
       "      <td>780</td>\n",
       "      <td>10+yr</td>\n",
       "      <td>Own</td>\n",
       "      <td>Venture</td>\n",
       "      <td>0</td>\n",
       "    </tr>\n",
       "    <tr>\n",
       "      <th>13</th>\n",
       "      <td>36.0</td>\n",
       "      <td>83</td>\n",
       "      <td>42</td>\n",
       "      <td>670</td>\n",
       "      <td>3-5yr</td>\n",
       "      <td>Mortgage</td>\n",
       "      <td>Medical</td>\n",
       "      <td>1</td>\n",
       "    </tr>\n",
       "    <tr>\n",
       "      <th>14</th>\n",
       "      <td>42.0</td>\n",
       "      <td>68</td>\n",
       "      <td>28</td>\n",
       "      <td>625</td>\n",
       "      <td>1-3yr</td>\n",
       "      <td>Rent</td>\n",
       "      <td>Debt Consolidation</td>\n",
       "      <td>1</td>\n",
       "    </tr>\n",
       "  </tbody>\n",
       "</table>\n",
       "</div>"
      ],
      "text/plain": [
       "     age  income  loan_amount  credit_score employment_length home_ownership  \\\n",
       "0   25.0      45           20           650             1-3yr           Rent   \n",
       "1   45.0     120           80           720            5-10yr       Mortgage   \n",
       "2   58.0      98           50           810             10+yr            Own   \n",
       "3   33.0      60           35           680             3-5yr           Rent   \n",
       "4   29.0      75           40           590              <1yr           Rent   \n",
       "5   41.0      65           30           640             1-3yr           Rent   \n",
       "6   36.0      50           25           610             1-3yr           Rent   \n",
       "7   44.0     210          150           830             10+yr            Own   \n",
       "8   53.0      95           45           740            5-10yr       Mortgage   \n",
       "9   27.0      40           15           600              <1yr           Rent   \n",
       "10   NaN      70           32           690             3-5yr       Mortgage   \n",
       "11  39.0      88           38           710            5-10yr       Mortgage   \n",
       "12  48.0     102           55           780             10+yr            Own   \n",
       "13  36.0      83           42           670             3-5yr       Mortgage   \n",
       "14  42.0      68           28           625             1-3yr           Rent   \n",
       "\n",
       "           loan_intent  loan_status  \n",
       "0             Personal            1  \n",
       "1              Venture            0  \n",
       "2                 Home            0  \n",
       "3            Education            0  \n",
       "4             Personal            1  \n",
       "5              Medical            1  \n",
       "6             Personal            1  \n",
       "7              Venture            0  \n",
       "8                 Home            0  \n",
       "9            Education            1  \n",
       "10  Debt Consolidation            0  \n",
       "11                Home            0  \n",
       "12             Venture            0  \n",
       "13             Medical            1  \n",
       "14  Debt Consolidation            1  "
      ]
     },
     "execution_count": 3,
     "metadata": {},
     "output_type": "execute_result"
    }
   ],
   "source": [
    "df"
   ]
  },
  {
   "cell_type": "code",
   "execution_count": 4,
   "id": "8c3fcba6-4dab-4562-86c7-443564e9b463",
   "metadata": {},
   "outputs": [
    {
     "data": {
      "text/plain": [
       "(15, 8)"
      ]
     },
     "execution_count": 4,
     "metadata": {},
     "output_type": "execute_result"
    }
   ],
   "source": [
    "df.shape"
   ]
  },
  {
   "cell_type": "code",
   "execution_count": 5,
   "id": "0ea11820-828a-4064-af49-55ec2889245a",
   "metadata": {},
   "outputs": [
    {
     "name": "stdout",
     "output_type": "stream",
     "text": [
      "<class 'pandas.core.frame.DataFrame'>\n",
      "RangeIndex: 15 entries, 0 to 14\n",
      "Data columns (total 8 columns):\n",
      " #   Column             Non-Null Count  Dtype  \n",
      "---  ------             --------------  -----  \n",
      " 0   age                14 non-null     float64\n",
      " 1   income             15 non-null     int64  \n",
      " 2   loan_amount        15 non-null     int64  \n",
      " 3   credit_score       15 non-null     int64  \n",
      " 4   employment_length  15 non-null     object \n",
      " 5   home_ownership     15 non-null     object \n",
      " 6   loan_intent        15 non-null     object \n",
      " 7   loan_status        15 non-null     int64  \n",
      "dtypes: float64(1), int64(4), object(3)\n",
      "memory usage: 1.1+ KB\n"
     ]
    }
   ],
   "source": [
    "df.info()"
   ]
  },
  {
   "cell_type": "code",
   "execution_count": 6,
   "id": "c2d70a53-49ae-4f3d-a5a7-c7e1c11731d4",
   "metadata": {},
   "outputs": [
    {
     "data": {
      "text/html": [
       "<div>\n",
       "<style scoped>\n",
       "    .dataframe tbody tr th:only-of-type {\n",
       "        vertical-align: middle;\n",
       "    }\n",
       "\n",
       "    .dataframe tbody tr th {\n",
       "        vertical-align: top;\n",
       "    }\n",
       "\n",
       "    .dataframe thead th {\n",
       "        text-align: right;\n",
       "    }\n",
       "</style>\n",
       "<table border=\"1\" class=\"dataframe\">\n",
       "  <thead>\n",
       "    <tr style=\"text-align: right;\">\n",
       "      <th></th>\n",
       "      <th>age</th>\n",
       "      <th>income</th>\n",
       "      <th>loan_amount</th>\n",
       "      <th>credit_score</th>\n",
       "      <th>loan_status</th>\n",
       "    </tr>\n",
       "  </thead>\n",
       "  <tbody>\n",
       "    <tr>\n",
       "      <th>count</th>\n",
       "      <td>14.000000</td>\n",
       "      <td>15.000000</td>\n",
       "      <td>15.000000</td>\n",
       "      <td>15.000000</td>\n",
       "      <td>15.000000</td>\n",
       "    </tr>\n",
       "    <tr>\n",
       "      <th>mean</th>\n",
       "      <td>39.714286</td>\n",
       "      <td>84.600000</td>\n",
       "      <td>45.666667</td>\n",
       "      <td>689.666667</td>\n",
       "      <td>0.466667</td>\n",
       "    </tr>\n",
       "    <tr>\n",
       "      <th>std</th>\n",
       "      <td>9.603113</td>\n",
       "      <td>41.324154</td>\n",
       "      <td>32.906071</td>\n",
       "      <td>75.225059</td>\n",
       "      <td>0.516398</td>\n",
       "    </tr>\n",
       "    <tr>\n",
       "      <th>min</th>\n",
       "      <td>25.000000</td>\n",
       "      <td>40.000000</td>\n",
       "      <td>15.000000</td>\n",
       "      <td>590.000000</td>\n",
       "      <td>0.000000</td>\n",
       "    </tr>\n",
       "    <tr>\n",
       "      <th>25%</th>\n",
       "      <td>33.750000</td>\n",
       "      <td>62.500000</td>\n",
       "      <td>29.000000</td>\n",
       "      <td>632.500000</td>\n",
       "      <td>0.000000</td>\n",
       "    </tr>\n",
       "    <tr>\n",
       "      <th>50%</th>\n",
       "      <td>40.000000</td>\n",
       "      <td>75.000000</td>\n",
       "      <td>38.000000</td>\n",
       "      <td>680.000000</td>\n",
       "      <td>0.000000</td>\n",
       "    </tr>\n",
       "    <tr>\n",
       "      <th>75%</th>\n",
       "      <td>44.750000</td>\n",
       "      <td>96.500000</td>\n",
       "      <td>47.500000</td>\n",
       "      <td>730.000000</td>\n",
       "      <td>1.000000</td>\n",
       "    </tr>\n",
       "    <tr>\n",
       "      <th>max</th>\n",
       "      <td>58.000000</td>\n",
       "      <td>210.000000</td>\n",
       "      <td>150.000000</td>\n",
       "      <td>830.000000</td>\n",
       "      <td>1.000000</td>\n",
       "    </tr>\n",
       "  </tbody>\n",
       "</table>\n",
       "</div>"
      ],
      "text/plain": [
       "             age      income  loan_amount  credit_score  loan_status\n",
       "count  14.000000   15.000000    15.000000     15.000000    15.000000\n",
       "mean   39.714286   84.600000    45.666667    689.666667     0.466667\n",
       "std     9.603113   41.324154    32.906071     75.225059     0.516398\n",
       "min    25.000000   40.000000    15.000000    590.000000     0.000000\n",
       "25%    33.750000   62.500000    29.000000    632.500000     0.000000\n",
       "50%    40.000000   75.000000    38.000000    680.000000     0.000000\n",
       "75%    44.750000   96.500000    47.500000    730.000000     1.000000\n",
       "max    58.000000  210.000000   150.000000    830.000000     1.000000"
      ]
     },
     "execution_count": 6,
     "metadata": {},
     "output_type": "execute_result"
    }
   ],
   "source": [
    "df.describe()"
   ]
  },
  {
   "cell_type": "code",
   "execution_count": 8,
   "id": "b812101a-d652-482d-bef2-3f33e5b6b22b",
   "metadata": {},
   "outputs": [
    {
     "data": {
      "text/plain": [
       "age                  float64\n",
       "income                 int64\n",
       "loan_amount            int64\n",
       "credit_score           int64\n",
       "employment_length     object\n",
       "home_ownership        object\n",
       "loan_intent           object\n",
       "loan_status            int64\n",
       "dtype: object"
      ]
     },
     "execution_count": 8,
     "metadata": {},
     "output_type": "execute_result"
    }
   ],
   "source": [
    "df.dtypes"
   ]
  },
  {
   "cell_type": "code",
   "execution_count": 10,
   "id": "8ceba262-4e46-4b3e-8228-6cf5a8491748",
   "metadata": {},
   "outputs": [
    {
     "data": {
      "text/plain": [
       "Index(['age', 'income', 'loan_amount', 'credit_score', 'employment_length',\n",
       "       'home_ownership', 'loan_intent', 'loan_status'],\n",
       "      dtype='object')"
      ]
     },
     "execution_count": 10,
     "metadata": {},
     "output_type": "execute_result"
    }
   ],
   "source": [
    "df.columns"
   ]
  },
  {
   "cell_type": "code",
   "execution_count": 11,
   "id": "b0be82c2-ce41-420b-b6a6-6431289dc7cc",
   "metadata": {},
   "outputs": [
    {
     "data": {
      "text/plain": [
       "age                  1\n",
       "income               0\n",
       "loan_amount          0\n",
       "credit_score         0\n",
       "employment_length    0\n",
       "home_ownership       0\n",
       "loan_intent          0\n",
       "loan_status          0\n",
       "dtype: int64"
      ]
     },
     "execution_count": 11,
     "metadata": {},
     "output_type": "execute_result"
    }
   ],
   "source": [
    "df.isnull().sum()"
   ]
  },
  {
   "cell_type": "code",
   "execution_count": 12,
   "id": "af0427b6-f34b-4541-9c16-ef3339caf6b4",
   "metadata": {},
   "outputs": [
    {
     "data": {
      "text/plain": [
       "0     25.0\n",
       "1     45.0\n",
       "2     58.0\n",
       "3     33.0\n",
       "4     29.0\n",
       "5     41.0\n",
       "6     36.0\n",
       "7     44.0\n",
       "8     53.0\n",
       "9     27.0\n",
       "10     NaN\n",
       "11    39.0\n",
       "12    48.0\n",
       "13    36.0\n",
       "14    42.0\n",
       "Name: age, dtype: float64"
      ]
     },
     "execution_count": 12,
     "metadata": {},
     "output_type": "execute_result"
    }
   ],
   "source": [
    "df['age']"
   ]
  },
  {
   "cell_type": "code",
   "execution_count": 13,
   "id": "801c2411-8398-41f4-b1c2-eb4f97320ef0",
   "metadata": {},
   "outputs": [],
   "source": [
    "df['age'].fillna(df['age'].mean(),inplace=True)"
   ]
  },
  {
   "cell_type": "code",
   "execution_count": 14,
   "id": "af749f94-28f1-4281-be68-e3c5b70554a6",
   "metadata": {},
   "outputs": [
    {
     "data": {
      "text/plain": [
       "0     25.000000\n",
       "1     45.000000\n",
       "2     58.000000\n",
       "3     33.000000\n",
       "4     29.000000\n",
       "5     41.000000\n",
       "6     36.000000\n",
       "7     44.000000\n",
       "8     53.000000\n",
       "9     27.000000\n",
       "10    39.714286\n",
       "11    39.000000\n",
       "12    48.000000\n",
       "13    36.000000\n",
       "14    42.000000\n",
       "Name: age, dtype: float64"
      ]
     },
     "execution_count": 14,
     "metadata": {},
     "output_type": "execute_result"
    }
   ],
   "source": [
    "df.age"
   ]
  },
  {
   "cell_type": "code",
   "execution_count": 15,
   "id": "c43188f2-d76e-4cfa-8607-0dd82485539d",
   "metadata": {},
   "outputs": [
    {
     "data": {
      "text/plain": [
       "age                  0\n",
       "income               0\n",
       "loan_amount          0\n",
       "credit_score         0\n",
       "employment_length    0\n",
       "home_ownership       0\n",
       "loan_intent          0\n",
       "loan_status          0\n",
       "dtype: int64"
      ]
     },
     "execution_count": 15,
     "metadata": {},
     "output_type": "execute_result"
    }
   ],
   "source": [
    "df.isnull().sum()"
   ]
  },
  {
   "cell_type": "code",
   "execution_count": 16,
   "id": "e472f684-d3c2-474c-8c21-3bb9aa1df0c3",
   "metadata": {},
   "outputs": [],
   "source": [
    "df=df.drop_duplicates()"
   ]
  },
  {
   "cell_type": "code",
   "execution_count": 19,
   "id": "3e29e4dd-dc7a-4bff-b1a1-3fc915563713",
   "metadata": {},
   "outputs": [
    {
     "data": {
      "text/plain": [
       "(15, 8)"
      ]
     },
     "execution_count": 19,
     "metadata": {},
     "output_type": "execute_result"
    }
   ],
   "source": [
    "df.shape"
   ]
  },
  {
   "cell_type": "code",
   "execution_count": 20,
   "id": "5a9ee0a0-0a99-4878-8dfa-1f5da58cff55",
   "metadata": {},
   "outputs": [
    {
     "data": {
      "text/html": [
       "<div>\n",
       "<style scoped>\n",
       "    .dataframe tbody tr th:only-of-type {\n",
       "        vertical-align: middle;\n",
       "    }\n",
       "\n",
       "    .dataframe tbody tr th {\n",
       "        vertical-align: top;\n",
       "    }\n",
       "\n",
       "    .dataframe thead th {\n",
       "        text-align: right;\n",
       "    }\n",
       "</style>\n",
       "<table border=\"1\" class=\"dataframe\">\n",
       "  <thead>\n",
       "    <tr style=\"text-align: right;\">\n",
       "      <th></th>\n",
       "      <th>age</th>\n",
       "      <th>income</th>\n",
       "      <th>loan_amount</th>\n",
       "      <th>credit_score</th>\n",
       "      <th>employment_length</th>\n",
       "      <th>home_ownership</th>\n",
       "      <th>loan_intent</th>\n",
       "      <th>loan_status</th>\n",
       "    </tr>\n",
       "  </thead>\n",
       "  <tbody>\n",
       "    <tr>\n",
       "      <th>0</th>\n",
       "      <td>25.000000</td>\n",
       "      <td>45</td>\n",
       "      <td>20</td>\n",
       "      <td>650</td>\n",
       "      <td>1-3yr</td>\n",
       "      <td>Rent</td>\n",
       "      <td>Personal</td>\n",
       "      <td>1</td>\n",
       "    </tr>\n",
       "    <tr>\n",
       "      <th>1</th>\n",
       "      <td>45.000000</td>\n",
       "      <td>120</td>\n",
       "      <td>80</td>\n",
       "      <td>720</td>\n",
       "      <td>5-10yr</td>\n",
       "      <td>Mortgage</td>\n",
       "      <td>Venture</td>\n",
       "      <td>0</td>\n",
       "    </tr>\n",
       "    <tr>\n",
       "      <th>2</th>\n",
       "      <td>58.000000</td>\n",
       "      <td>98</td>\n",
       "      <td>50</td>\n",
       "      <td>810</td>\n",
       "      <td>10+yr</td>\n",
       "      <td>Own</td>\n",
       "      <td>Home</td>\n",
       "      <td>0</td>\n",
       "    </tr>\n",
       "    <tr>\n",
       "      <th>3</th>\n",
       "      <td>33.000000</td>\n",
       "      <td>60</td>\n",
       "      <td>35</td>\n",
       "      <td>680</td>\n",
       "      <td>3-5yr</td>\n",
       "      <td>Rent</td>\n",
       "      <td>Education</td>\n",
       "      <td>0</td>\n",
       "    </tr>\n",
       "    <tr>\n",
       "      <th>4</th>\n",
       "      <td>29.000000</td>\n",
       "      <td>75</td>\n",
       "      <td>40</td>\n",
       "      <td>590</td>\n",
       "      <td>&lt;1yr</td>\n",
       "      <td>Rent</td>\n",
       "      <td>Personal</td>\n",
       "      <td>1</td>\n",
       "    </tr>\n",
       "    <tr>\n",
       "      <th>5</th>\n",
       "      <td>41.000000</td>\n",
       "      <td>65</td>\n",
       "      <td>30</td>\n",
       "      <td>640</td>\n",
       "      <td>1-3yr</td>\n",
       "      <td>Rent</td>\n",
       "      <td>Medical</td>\n",
       "      <td>1</td>\n",
       "    </tr>\n",
       "    <tr>\n",
       "      <th>6</th>\n",
       "      <td>36.000000</td>\n",
       "      <td>50</td>\n",
       "      <td>25</td>\n",
       "      <td>610</td>\n",
       "      <td>1-3yr</td>\n",
       "      <td>Rent</td>\n",
       "      <td>Personal</td>\n",
       "      <td>1</td>\n",
       "    </tr>\n",
       "    <tr>\n",
       "      <th>7</th>\n",
       "      <td>44.000000</td>\n",
       "      <td>210</td>\n",
       "      <td>150</td>\n",
       "      <td>830</td>\n",
       "      <td>10+yr</td>\n",
       "      <td>Own</td>\n",
       "      <td>Venture</td>\n",
       "      <td>0</td>\n",
       "    </tr>\n",
       "    <tr>\n",
       "      <th>8</th>\n",
       "      <td>53.000000</td>\n",
       "      <td>95</td>\n",
       "      <td>45</td>\n",
       "      <td>740</td>\n",
       "      <td>5-10yr</td>\n",
       "      <td>Mortgage</td>\n",
       "      <td>Home</td>\n",
       "      <td>0</td>\n",
       "    </tr>\n",
       "    <tr>\n",
       "      <th>9</th>\n",
       "      <td>27.000000</td>\n",
       "      <td>40</td>\n",
       "      <td>15</td>\n",
       "      <td>600</td>\n",
       "      <td>&lt;1yr</td>\n",
       "      <td>Rent</td>\n",
       "      <td>Education</td>\n",
       "      <td>1</td>\n",
       "    </tr>\n",
       "    <tr>\n",
       "      <th>10</th>\n",
       "      <td>39.714286</td>\n",
       "      <td>70</td>\n",
       "      <td>32</td>\n",
       "      <td>690</td>\n",
       "      <td>3-5yr</td>\n",
       "      <td>Mortgage</td>\n",
       "      <td>Debt Consolidation</td>\n",
       "      <td>0</td>\n",
       "    </tr>\n",
       "    <tr>\n",
       "      <th>11</th>\n",
       "      <td>39.000000</td>\n",
       "      <td>88</td>\n",
       "      <td>38</td>\n",
       "      <td>710</td>\n",
       "      <td>5-10yr</td>\n",
       "      <td>Mortgage</td>\n",
       "      <td>Home</td>\n",
       "      <td>0</td>\n",
       "    </tr>\n",
       "    <tr>\n",
       "      <th>12</th>\n",
       "      <td>48.000000</td>\n",
       "      <td>102</td>\n",
       "      <td>55</td>\n",
       "      <td>780</td>\n",
       "      <td>10+yr</td>\n",
       "      <td>Own</td>\n",
       "      <td>Venture</td>\n",
       "      <td>0</td>\n",
       "    </tr>\n",
       "    <tr>\n",
       "      <th>13</th>\n",
       "      <td>36.000000</td>\n",
       "      <td>83</td>\n",
       "      <td>42</td>\n",
       "      <td>670</td>\n",
       "      <td>3-5yr</td>\n",
       "      <td>Mortgage</td>\n",
       "      <td>Medical</td>\n",
       "      <td>1</td>\n",
       "    </tr>\n",
       "    <tr>\n",
       "      <th>14</th>\n",
       "      <td>42.000000</td>\n",
       "      <td>68</td>\n",
       "      <td>28</td>\n",
       "      <td>625</td>\n",
       "      <td>1-3yr</td>\n",
       "      <td>Rent</td>\n",
       "      <td>Debt Consolidation</td>\n",
       "      <td>1</td>\n",
       "    </tr>\n",
       "  </tbody>\n",
       "</table>\n",
       "</div>"
      ],
      "text/plain": [
       "          age  income  loan_amount  credit_score employment_length  \\\n",
       "0   25.000000      45           20           650             1-3yr   \n",
       "1   45.000000     120           80           720            5-10yr   \n",
       "2   58.000000      98           50           810             10+yr   \n",
       "3   33.000000      60           35           680             3-5yr   \n",
       "4   29.000000      75           40           590              <1yr   \n",
       "5   41.000000      65           30           640             1-3yr   \n",
       "6   36.000000      50           25           610             1-3yr   \n",
       "7   44.000000     210          150           830             10+yr   \n",
       "8   53.000000      95           45           740            5-10yr   \n",
       "9   27.000000      40           15           600              <1yr   \n",
       "10  39.714286      70           32           690             3-5yr   \n",
       "11  39.000000      88           38           710            5-10yr   \n",
       "12  48.000000     102           55           780             10+yr   \n",
       "13  36.000000      83           42           670             3-5yr   \n",
       "14  42.000000      68           28           625             1-3yr   \n",
       "\n",
       "   home_ownership         loan_intent  loan_status  \n",
       "0            Rent            Personal            1  \n",
       "1        Mortgage             Venture            0  \n",
       "2             Own                Home            0  \n",
       "3            Rent           Education            0  \n",
       "4            Rent            Personal            1  \n",
       "5            Rent             Medical            1  \n",
       "6            Rent            Personal            1  \n",
       "7             Own             Venture            0  \n",
       "8        Mortgage                Home            0  \n",
       "9            Rent           Education            1  \n",
       "10       Mortgage  Debt Consolidation            0  \n",
       "11       Mortgage                Home            0  \n",
       "12            Own             Venture            0  \n",
       "13       Mortgage             Medical            1  \n",
       "14           Rent  Debt Consolidation            1  "
      ]
     },
     "execution_count": 20,
     "metadata": {},
     "output_type": "execute_result"
    }
   ],
   "source": [
    "df"
   ]
  },
  {
   "cell_type": "markdown",
   "id": "279ff520-2e68-4abb-aaf7-714737772484",
   "metadata": {},
   "source": [
    "# Splitting the data into Train and test"
   ]
  },
  {
   "cell_type": "code",
   "execution_count": 24,
   "id": "fd1bc694-8f62-4c34-9a1a-363e0fe9437b",
   "metadata": {},
   "outputs": [],
   "source": [
    "from sklearn.model_selection import train_test_split\n",
    "X=df.drop('loan_status', axis = 1) #feature\n",
    "y=df['loan_status'] #target"
   ]
  },
  {
   "cell_type": "code",
   "execution_count": 30,
   "id": "84e18a09-7bcb-46d0-9f8e-a93fce926df8",
   "metadata": {},
   "outputs": [
    {
     "name": "stdout",
     "output_type": "stream",
     "text": [
      "Training features shape: (12, 7)\n",
      "Testing features shape: (3, 7)\n",
      "Training target shape: (12,)\n",
      "Testing target shape: (3,)\n"
     ]
    }
   ],
   "source": [
    "X_train,X_test,y_train,y_test=train_test_split(X,y,test_size=0.2, random_state=42)\n",
    "\n",
    "print(f\"Training features shape: {X_train.shape}\")\n",
    "print(f\"Testing features shape: {X_test.shape}\")\n",
    "print(f\"Training target shape: {y_train.shape}\")\n",
    "print(f\"Testing target shape: {y_test.shape}\")"
   ]
  },
  {
   "cell_type": "code",
   "execution_count": 31,
   "id": "8f131b15-db49-4a2c-b340-3116c3c45141",
   "metadata": {},
   "outputs": [
    {
     "data": {
      "text/html": [
       "<div>\n",
       "<style scoped>\n",
       "    .dataframe tbody tr th:only-of-type {\n",
       "        vertical-align: middle;\n",
       "    }\n",
       "\n",
       "    .dataframe tbody tr th {\n",
       "        vertical-align: top;\n",
       "    }\n",
       "\n",
       "    .dataframe thead th {\n",
       "        text-align: right;\n",
       "    }\n",
       "</style>\n",
       "<table border=\"1\" class=\"dataframe\">\n",
       "  <thead>\n",
       "    <tr style=\"text-align: right;\">\n",
       "      <th></th>\n",
       "      <th>age</th>\n",
       "      <th>income</th>\n",
       "      <th>loan_amount</th>\n",
       "      <th>credit_score</th>\n",
       "      <th>employment_length</th>\n",
       "      <th>home_ownership</th>\n",
       "      <th>loan_intent</th>\n",
       "    </tr>\n",
       "  </thead>\n",
       "  <tbody>\n",
       "    <tr>\n",
       "      <th>13</th>\n",
       "      <td>36.000000</td>\n",
       "      <td>83</td>\n",
       "      <td>42</td>\n",
       "      <td>670</td>\n",
       "      <td>3-5yr</td>\n",
       "      <td>Mortgage</td>\n",
       "      <td>Medical</td>\n",
       "    </tr>\n",
       "    <tr>\n",
       "      <th>5</th>\n",
       "      <td>41.000000</td>\n",
       "      <td>65</td>\n",
       "      <td>30</td>\n",
       "      <td>640</td>\n",
       "      <td>1-3yr</td>\n",
       "      <td>Rent</td>\n",
       "      <td>Medical</td>\n",
       "    </tr>\n",
       "    <tr>\n",
       "      <th>8</th>\n",
       "      <td>53.000000</td>\n",
       "      <td>95</td>\n",
       "      <td>45</td>\n",
       "      <td>740</td>\n",
       "      <td>5-10yr</td>\n",
       "      <td>Mortgage</td>\n",
       "      <td>Home</td>\n",
       "    </tr>\n",
       "    <tr>\n",
       "      <th>2</th>\n",
       "      <td>58.000000</td>\n",
       "      <td>98</td>\n",
       "      <td>50</td>\n",
       "      <td>810</td>\n",
       "      <td>10+yr</td>\n",
       "      <td>Own</td>\n",
       "      <td>Home</td>\n",
       "    </tr>\n",
       "    <tr>\n",
       "      <th>1</th>\n",
       "      <td>45.000000</td>\n",
       "      <td>120</td>\n",
       "      <td>80</td>\n",
       "      <td>720</td>\n",
       "      <td>5-10yr</td>\n",
       "      <td>Mortgage</td>\n",
       "      <td>Venture</td>\n",
       "    </tr>\n",
       "    <tr>\n",
       "      <th>14</th>\n",
       "      <td>42.000000</td>\n",
       "      <td>68</td>\n",
       "      <td>28</td>\n",
       "      <td>625</td>\n",
       "      <td>1-3yr</td>\n",
       "      <td>Rent</td>\n",
       "      <td>Debt Consolidation</td>\n",
       "    </tr>\n",
       "    <tr>\n",
       "      <th>4</th>\n",
       "      <td>29.000000</td>\n",
       "      <td>75</td>\n",
       "      <td>40</td>\n",
       "      <td>590</td>\n",
       "      <td>&lt;1yr</td>\n",
       "      <td>Rent</td>\n",
       "      <td>Personal</td>\n",
       "    </tr>\n",
       "    <tr>\n",
       "      <th>7</th>\n",
       "      <td>44.000000</td>\n",
       "      <td>210</td>\n",
       "      <td>150</td>\n",
       "      <td>830</td>\n",
       "      <td>10+yr</td>\n",
       "      <td>Own</td>\n",
       "      <td>Venture</td>\n",
       "    </tr>\n",
       "    <tr>\n",
       "      <th>10</th>\n",
       "      <td>39.714286</td>\n",
       "      <td>70</td>\n",
       "      <td>32</td>\n",
       "      <td>690</td>\n",
       "      <td>3-5yr</td>\n",
       "      <td>Mortgage</td>\n",
       "      <td>Debt Consolidation</td>\n",
       "    </tr>\n",
       "    <tr>\n",
       "      <th>12</th>\n",
       "      <td>48.000000</td>\n",
       "      <td>102</td>\n",
       "      <td>55</td>\n",
       "      <td>780</td>\n",
       "      <td>10+yr</td>\n",
       "      <td>Own</td>\n",
       "      <td>Venture</td>\n",
       "    </tr>\n",
       "    <tr>\n",
       "      <th>3</th>\n",
       "      <td>33.000000</td>\n",
       "      <td>60</td>\n",
       "      <td>35</td>\n",
       "      <td>680</td>\n",
       "      <td>3-5yr</td>\n",
       "      <td>Rent</td>\n",
       "      <td>Education</td>\n",
       "    </tr>\n",
       "    <tr>\n",
       "      <th>6</th>\n",
       "      <td>36.000000</td>\n",
       "      <td>50</td>\n",
       "      <td>25</td>\n",
       "      <td>610</td>\n",
       "      <td>1-3yr</td>\n",
       "      <td>Rent</td>\n",
       "      <td>Personal</td>\n",
       "    </tr>\n",
       "  </tbody>\n",
       "</table>\n",
       "</div>"
      ],
      "text/plain": [
       "          age  income  loan_amount  credit_score employment_length  \\\n",
       "13  36.000000      83           42           670             3-5yr   \n",
       "5   41.000000      65           30           640             1-3yr   \n",
       "8   53.000000      95           45           740            5-10yr   \n",
       "2   58.000000      98           50           810             10+yr   \n",
       "1   45.000000     120           80           720            5-10yr   \n",
       "14  42.000000      68           28           625             1-3yr   \n",
       "4   29.000000      75           40           590              <1yr   \n",
       "7   44.000000     210          150           830             10+yr   \n",
       "10  39.714286      70           32           690             3-5yr   \n",
       "12  48.000000     102           55           780             10+yr   \n",
       "3   33.000000      60           35           680             3-5yr   \n",
       "6   36.000000      50           25           610             1-3yr   \n",
       "\n",
       "   home_ownership         loan_intent  \n",
       "13       Mortgage             Medical  \n",
       "5            Rent             Medical  \n",
       "8        Mortgage                Home  \n",
       "2             Own                Home  \n",
       "1        Mortgage             Venture  \n",
       "14           Rent  Debt Consolidation  \n",
       "4            Rent            Personal  \n",
       "7             Own             Venture  \n",
       "10       Mortgage  Debt Consolidation  \n",
       "12            Own             Venture  \n",
       "3            Rent           Education  \n",
       "6            Rent            Personal  "
      ]
     },
     "execution_count": 31,
     "metadata": {},
     "output_type": "execute_result"
    }
   ],
   "source": [
    "X_train"
   ]
  },
  {
   "cell_type": "code",
   "execution_count": 32,
   "id": "ec117022-a84d-4544-bde7-32a71648b5a7",
   "metadata": {},
   "outputs": [],
   "source": [
    "numerical_cols = ['age', 'income', 'loan_amount', 'credit_score']\n",
    "categorical_cols = ['employment_length', 'home_ownership', 'loan_intent']"
   ]
  },
  {
   "cell_type": "code",
   "execution_count": 33,
   "id": "3c0e8fca-05e4-4ff8-9319-d53f24651f6c",
   "metadata": {},
   "outputs": [
    {
     "data": {
      "text/plain": [
       "['age', 'income', 'loan_amount', 'credit_score']"
      ]
     },
     "execution_count": 33,
     "metadata": {},
     "output_type": "execute_result"
    }
   ],
   "source": [
    "numerical_cols"
   ]
  },
  {
   "cell_type": "code",
   "execution_count": 34,
   "id": "59414a3d-91e9-4d73-a6ef-2c8ac397cd50",
   "metadata": {},
   "outputs": [
    {
     "data": {
      "text/plain": [
       "['age', 'income', 'loan_amount', 'credit_score']"
      ]
     },
     "execution_count": 34,
     "metadata": {},
     "output_type": "execute_result"
    }
   ],
   "source": [
    "numerical_cols"
   ]
  },
  {
   "cell_type": "markdown",
   "id": "9805d869-e2e5-44cc-b03d-7bd76c1146ee",
   "metadata": {},
   "source": [
    "# Preprocessing Pipeline"
   ]
  },
  {
   "cell_type": "code",
   "execution_count": 35,
   "id": "d155b946-c387-435d-819c-33efdaf2d681",
   "metadata": {},
   "outputs": [],
   "source": [
    "from sklearn.preprocessing import StandardScaler, OneHotEncoder, OrdinalEncoder\n",
    "from sklearn.compose import ColumnTransformer\n",
    "from sklearn.pipeline import Pipeline "
   ]
  },
  {
   "cell_type": "code",
   "execution_count": 38,
   "id": "3e6c4552-38fc-4953-bac7-869fe5964b48",
   "metadata": {},
   "outputs": [
    {
     "name": "stdout",
     "output_type": "stream",
     "text": [
      "Created Numerical Scaler: StandardScaler()\n"
     ]
    }
   ],
   "source": [
    "numeric_transformer = StandardScaler()\n",
    "print(\"Created Numerical Scaler:\", numeric_transformer)"
   ]
  },
  {
   "cell_type": "code",
   "execution_count": 39,
   "id": "0a632656-88c6-46ef-bcff-152e046724d2",
   "metadata": {},
   "outputs": [
    {
     "name": "stdout",
     "output_type": "stream",
     "text": [
      "Created Ordinal Encoder: OrdinalEncoder(categories=[['<1yr', '1-3yr', '3-5yr', '5-10yr', '10+yr']])\n"
     ]
    }
   ],
   "source": [
    "employment_categories = ['<1yr', '1-3yr', '3-5yr', '5-10yr', '10+yr']\n",
    "ordinal_encoder = OrdinalEncoder(categories=[employment_categories])\n",
    "print(\"Created Ordinal Encoder:\", ordinal_encoder)"
   ]
  },
  {
   "cell_type": "code",
   "execution_count": 42,
   "id": "81bd9f3e-2f23-48ce-a715-180456a982a1",
   "metadata": {},
   "outputs": [
    {
     "name": "stdout",
     "output_type": "stream",
     "text": [
      "Created OneHot Encoder: OneHotEncoder(drop='first', handle_unknown='ignore')\n"
     ]
    }
   ],
   "source": [
    "onehot_encoder = OneHotEncoder(handle_unknown='ignore', drop='first')\n",
    "print(\"Created OneHot Encoder:\", onehot_encoder)"
   ]
  },
  {
   "cell_type": "code",
   "execution_count": 44,
   "id": "221bdfae-0bfa-4d52-b9a7-9d0d3e06b8d8",
   "metadata": {},
   "outputs": [
    {
     "name": "stdout",
     "output_type": "stream",
     "text": [
      "  - Scale (normalize) these columns: ['age', 'income', 'loan_amount', 'credit_score']\n",
      "  - Ordinal encode this column: ['employment_length']\n",
      "  - One-hot encode these columns: ['home_ownership', 'loan_intent']\n"
     ]
    }
   ],
   "source": [
    "preprocessor = ColumnTransformer(\n",
    "    transformers=[\n",
    "        ('num', numeric_transformer, numerical_cols),       # Scale these number columns\n",
    "        ('ord_cat', ordinal_encoder, ['employment_length']), # Encode this ordered text column\n",
    "        ('ohe_cat', onehot_encoder, ['home_ownership', 'loan_intent']) # Encode these non-ordered text columns\n",
    "    ])\n",
    "\n",
    "print(f\"  - Scale (normalize) these columns: {numerical_cols}\")\n",
    "print(f\"  - Ordinal encode this column: ['employment_length']\") \n",
    "print(f\"  - One-hot encode these columns: ['home_ownership', 'loan_intent']\")"
   ]
  },
  {
   "cell_type": "markdown",
   "id": "98292799-00f4-43ac-affc-e68ee2bc8d0c",
   "metadata": {},
   "source": [
    "# FIT and TRANSFORM"
   ]
  },
  {
   "cell_type": "code",
   "execution_count": 46,
   "id": "9a08cb2d-4ede-46aa-845d-f87563bae82b",
   "metadata": {},
   "outputs": [
    {
     "name": "stdout",
     "output_type": "stream",
     "text": [
      "{'age': 36.0, 'income': 83, 'loan_amount': 42, 'credit_score': 670, 'employment_length': '3-5yr', 'home_ownership': 'Mortgage', 'loan_intent': 'Medical'}\n"
     ]
    }
   ],
   "source": [
    "print(X_train.iloc[0].to_dict())"
   ]
  },
  {
   "cell_type": "code",
   "execution_count": 49,
   "id": "74ab2828-cccc-4e03-9eb3-cd029438e898",
   "metadata": {},
   "outputs": [
    {
     "name": "stdout",
     "output_type": "stream",
     "text": [
      "\n",
      "✅ AFTER Processing:\n",
      "X_train_processed shape: (12, 12)\n",
      "After processing, X_test_processed shape: (3, 12)\n",
      "✅ Test data processed using parameters learned from training data!\n"
     ]
    }
   ],
   "source": [
    "X_train_processed = preprocessor.fit_transform(X_train)\n",
    "X_test_processed = preprocessor.transform(X_test)\n",
    "\n",
    "print(\"\\n✅ AFTER Processing:\")\n",
    "print(\"X_train_processed shape:\", X_train_processed.shape)\n",
    "\n",
    "print(\"After processing, X_test_processed shape:\", X_test_processed.shape)\n",
    "print(\"✅ Test data processed using parameters learned from training data!\")\n"
   ]
  },
  {
   "cell_type": "code",
   "execution_count": 48,
   "id": "c57d814f-74e4-42e4-83b1-a1cb9204bb84",
   "metadata": {},
   "outputs": [
    {
     "name": "stdout",
     "output_type": "stream",
     "text": [
      "\n",
      "--- Final Summary ---\n",
      "Original training data shape: (12, 7)\n",
      "Processed training data shape: (12, 12)\n",
      "Original test data shape: (3, 7)\n",
      "Processed test data shape: (3, 12)\n",
      "\n",
      "🎉 SUCCESS! Your data is now ready for machine learning!\n",
      "Next step: Feed X_train_processed and y_train to a model!\n"
     ]
    }
   ],
   "source": [
    "print(\"\\n--- Final Summary ---\")\n",
    "print(f\"Original training data shape: {X_train.shape}\")\n",
    "print(f\"Processed training data shape: {X_train_processed.shape}\")\n",
    "print(f\"Original test data shape: {X_test.shape}\") \n",
    "print(f\"Processed test data shape: {X_test_processed.shape}\")\n",
    "\n",
    "print(\"\\n🎉 SUCCESS! Your data is now ready for machine learning!\")\n",
    "print(\"Next step: Feed X_train_processed and y_train to a model!\")"
   ]
  },
  {
   "cell_type": "code",
   "execution_count": null,
   "id": "cb4f0abc-dcdb-4eb3-bcab-b02d5c47eceb",
   "metadata": {},
   "outputs": [],
   "source": []
  }
 ],
 "metadata": {
  "kernelspec": {
   "display_name": "Python [conda env:base] *",
   "language": "python",
   "name": "conda-base-py"
  },
  "language_info": {
   "codemirror_mode": {
    "name": "ipython",
    "version": 3
   },
   "file_extension": ".py",
   "mimetype": "text/x-python",
   "name": "python",
   "nbconvert_exporter": "python",
   "pygments_lexer": "ipython3",
   "version": "3.12.7"
  }
 },
 "nbformat": 4,
 "nbformat_minor": 5
}
