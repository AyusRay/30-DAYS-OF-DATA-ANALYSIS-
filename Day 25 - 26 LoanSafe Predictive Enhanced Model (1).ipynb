{
 "cells": [
  {
   "cell_type": "code",
   "execution_count": 25,
   "id": "15b474cd-31b1-4f63-ac54-19ec0b043979",
   "metadata": {},
   "outputs": [],
   "source": [
    "import pandas as pd\n",
    "import numpy as np\n",
    "import matplotlib.pyplot as plt\n",
    "import seaborn as sns\n",
    "from sklearn.model_selection import train_test_split\n",
    "from sklearn.linear_model import LogisticRegression\n",
    "from sklearn.metrics import roc_auc_score, accuracy_score, confusion_matrix"
   ]
  },
  {
   "cell_type": "code",
   "execution_count": 2,
   "id": "a7e8434d-30bf-4dd1-8477-95b8cf8eb700",
   "metadata": {},
   "outputs": [],
   "source": [
    "data=pd.read_csv(r\"C:\\Users\\Dell\\Desktop\\credit_risk_dataset.csv\")"
   ]
  },
  {
   "cell_type": "code",
   "execution_count": 3,
   "id": "ceeaddd0-5dcb-411d-aef0-3d0b203530a0",
   "metadata": {},
   "outputs": [
    {
     "data": {
      "text/html": [
       "<div>\n",
       "<style scoped>\n",
       "    .dataframe tbody tr th:only-of-type {\n",
       "        vertical-align: middle;\n",
       "    }\n",
       "\n",
       "    .dataframe tbody tr th {\n",
       "        vertical-align: top;\n",
       "    }\n",
       "\n",
       "    .dataframe thead th {\n",
       "        text-align: right;\n",
       "    }\n",
       "</style>\n",
       "<table border=\"1\" class=\"dataframe\">\n",
       "  <thead>\n",
       "    <tr style=\"text-align: right;\">\n",
       "      <th></th>\n",
       "      <th>person_age</th>\n",
       "      <th>person_income</th>\n",
       "      <th>person_home_ownership</th>\n",
       "      <th>person_emp_length</th>\n",
       "      <th>loan_intent</th>\n",
       "      <th>loan_grade</th>\n",
       "      <th>loan_amnt</th>\n",
       "      <th>loan_int_rate</th>\n",
       "      <th>loan_status</th>\n",
       "      <th>loan_percent_income</th>\n",
       "      <th>cb_person_default_on_file</th>\n",
       "      <th>cb_person_cred_hist_length</th>\n",
       "    </tr>\n",
       "  </thead>\n",
       "  <tbody>\n",
       "    <tr>\n",
       "      <th>0</th>\n",
       "      <td>22</td>\n",
       "      <td>59000</td>\n",
       "      <td>RENT</td>\n",
       "      <td>123.0</td>\n",
       "      <td>PERSONAL</td>\n",
       "      <td>D</td>\n",
       "      <td>35000</td>\n",
       "      <td>16.02</td>\n",
       "      <td>1</td>\n",
       "      <td>0.59</td>\n",
       "      <td>Y</td>\n",
       "      <td>3</td>\n",
       "    </tr>\n",
       "    <tr>\n",
       "      <th>1</th>\n",
       "      <td>21</td>\n",
       "      <td>9600</td>\n",
       "      <td>OWN</td>\n",
       "      <td>5.0</td>\n",
       "      <td>EDUCATION</td>\n",
       "      <td>B</td>\n",
       "      <td>1000</td>\n",
       "      <td>11.14</td>\n",
       "      <td>0</td>\n",
       "      <td>0.10</td>\n",
       "      <td>N</td>\n",
       "      <td>2</td>\n",
       "    </tr>\n",
       "    <tr>\n",
       "      <th>2</th>\n",
       "      <td>25</td>\n",
       "      <td>9600</td>\n",
       "      <td>MORTGAGE</td>\n",
       "      <td>1.0</td>\n",
       "      <td>MEDICAL</td>\n",
       "      <td>C</td>\n",
       "      <td>5500</td>\n",
       "      <td>12.87</td>\n",
       "      <td>1</td>\n",
       "      <td>0.57</td>\n",
       "      <td>N</td>\n",
       "      <td>3</td>\n",
       "    </tr>\n",
       "    <tr>\n",
       "      <th>3</th>\n",
       "      <td>23</td>\n",
       "      <td>65500</td>\n",
       "      <td>RENT</td>\n",
       "      <td>4.0</td>\n",
       "      <td>MEDICAL</td>\n",
       "      <td>C</td>\n",
       "      <td>35000</td>\n",
       "      <td>15.23</td>\n",
       "      <td>1</td>\n",
       "      <td>0.53</td>\n",
       "      <td>N</td>\n",
       "      <td>2</td>\n",
       "    </tr>\n",
       "    <tr>\n",
       "      <th>4</th>\n",
       "      <td>24</td>\n",
       "      <td>54400</td>\n",
       "      <td>RENT</td>\n",
       "      <td>8.0</td>\n",
       "      <td>MEDICAL</td>\n",
       "      <td>C</td>\n",
       "      <td>35000</td>\n",
       "      <td>14.27</td>\n",
       "      <td>1</td>\n",
       "      <td>0.55</td>\n",
       "      <td>Y</td>\n",
       "      <td>4</td>\n",
       "    </tr>\n",
       "  </tbody>\n",
       "</table>\n",
       "</div>"
      ],
      "text/plain": [
       "   person_age  person_income person_home_ownership  person_emp_length  \\\n",
       "0          22          59000                  RENT              123.0   \n",
       "1          21           9600                   OWN                5.0   \n",
       "2          25           9600              MORTGAGE                1.0   \n",
       "3          23          65500                  RENT                4.0   \n",
       "4          24          54400                  RENT                8.0   \n",
       "\n",
       "  loan_intent loan_grade  loan_amnt  loan_int_rate  loan_status  \\\n",
       "0    PERSONAL          D      35000          16.02            1   \n",
       "1   EDUCATION          B       1000          11.14            0   \n",
       "2     MEDICAL          C       5500          12.87            1   \n",
       "3     MEDICAL          C      35000          15.23            1   \n",
       "4     MEDICAL          C      35000          14.27            1   \n",
       "\n",
       "   loan_percent_income cb_person_default_on_file  cb_person_cred_hist_length  \n",
       "0                 0.59                         Y                           3  \n",
       "1                 0.10                         N                           2  \n",
       "2                 0.57                         N                           3  \n",
       "3                 0.53                         N                           2  \n",
       "4                 0.55                         Y                           4  "
      ]
     },
     "execution_count": 3,
     "metadata": {},
     "output_type": "execute_result"
    }
   ],
   "source": [
    "data.head()"
   ]
  },
  {
   "cell_type": "markdown",
   "id": "a3697b3a-7e72-43bb-bcf6-932c4d7f5e0d",
   "metadata": {},
   "source": [
    "# Basic Data Information"
   ]
  },
  {
   "cell_type": "code",
   "execution_count": 4,
   "id": "d86305fc-d855-421c-9a83-b8401e662289",
   "metadata": {},
   "outputs": [
    {
     "data": {
      "text/plain": [
       "(32581, 12)"
      ]
     },
     "execution_count": 4,
     "metadata": {},
     "output_type": "execute_result"
    }
   ],
   "source": [
    "data.shape"
   ]
  },
  {
   "cell_type": "code",
   "execution_count": 5,
   "id": "bd6c88cd-7ec3-4e7e-843b-a294ba064551",
   "metadata": {},
   "outputs": [
    {
     "data": {
      "text/plain": [
       "Index(['person_age', 'person_income', 'person_home_ownership',\n",
       "       'person_emp_length', 'loan_intent', 'loan_grade', 'loan_amnt',\n",
       "       'loan_int_rate', 'loan_status', 'loan_percent_income',\n",
       "       'cb_person_default_on_file', 'cb_person_cred_hist_length'],\n",
       "      dtype='object')"
      ]
     },
     "execution_count": 5,
     "metadata": {},
     "output_type": "execute_result"
    }
   ],
   "source": [
    "data.columns"
   ]
  },
  {
   "cell_type": "code",
   "execution_count": 6,
   "id": "a59b350e-dcf1-4c05-aa35-f5aec903775a",
   "metadata": {},
   "outputs": [
    {
     "name": "stdout",
     "output_type": "stream",
     "text": [
      "<class 'pandas.core.frame.DataFrame'>\n",
      "RangeIndex: 32581 entries, 0 to 32580\n",
      "Data columns (total 12 columns):\n",
      " #   Column                      Non-Null Count  Dtype  \n",
      "---  ------                      --------------  -----  \n",
      " 0   person_age                  32581 non-null  int64  \n",
      " 1   person_income               32581 non-null  int64  \n",
      " 2   person_home_ownership       32581 non-null  object \n",
      " 3   person_emp_length           31686 non-null  float64\n",
      " 4   loan_intent                 32581 non-null  object \n",
      " 5   loan_grade                  32581 non-null  object \n",
      " 6   loan_amnt                   32581 non-null  int64  \n",
      " 7   loan_int_rate               29465 non-null  float64\n",
      " 8   loan_status                 32581 non-null  int64  \n",
      " 9   loan_percent_income         32581 non-null  float64\n",
      " 10  cb_person_default_on_file   32581 non-null  object \n",
      " 11  cb_person_cred_hist_length  32581 non-null  int64  \n",
      "dtypes: float64(3), int64(5), object(4)\n",
      "memory usage: 3.0+ MB\n"
     ]
    }
   ],
   "source": [
    "data.info()"
   ]
  },
  {
   "cell_type": "code",
   "execution_count": 7,
   "id": "2d209be3-c67f-4556-9750-e32f87e8b9c6",
   "metadata": {},
   "outputs": [
    {
     "data": {
      "text/html": [
       "<div>\n",
       "<style scoped>\n",
       "    .dataframe tbody tr th:only-of-type {\n",
       "        vertical-align: middle;\n",
       "    }\n",
       "\n",
       "    .dataframe tbody tr th {\n",
       "        vertical-align: top;\n",
       "    }\n",
       "\n",
       "    .dataframe thead th {\n",
       "        text-align: right;\n",
       "    }\n",
       "</style>\n",
       "<table border=\"1\" class=\"dataframe\">\n",
       "  <thead>\n",
       "    <tr style=\"text-align: right;\">\n",
       "      <th></th>\n",
       "      <th>person_age</th>\n",
       "      <th>person_income</th>\n",
       "      <th>person_emp_length</th>\n",
       "      <th>loan_amnt</th>\n",
       "      <th>loan_int_rate</th>\n",
       "      <th>loan_status</th>\n",
       "      <th>loan_percent_income</th>\n",
       "      <th>cb_person_cred_hist_length</th>\n",
       "    </tr>\n",
       "  </thead>\n",
       "  <tbody>\n",
       "    <tr>\n",
       "      <th>count</th>\n",
       "      <td>32581.000000</td>\n",
       "      <td>3.258100e+04</td>\n",
       "      <td>31686.000000</td>\n",
       "      <td>32581.000000</td>\n",
       "      <td>29465.000000</td>\n",
       "      <td>32581.000000</td>\n",
       "      <td>32581.000000</td>\n",
       "      <td>32581.000000</td>\n",
       "    </tr>\n",
       "    <tr>\n",
       "      <th>mean</th>\n",
       "      <td>27.734600</td>\n",
       "      <td>6.607485e+04</td>\n",
       "      <td>4.789686</td>\n",
       "      <td>9589.371106</td>\n",
       "      <td>11.011695</td>\n",
       "      <td>0.218164</td>\n",
       "      <td>0.170203</td>\n",
       "      <td>5.804211</td>\n",
       "    </tr>\n",
       "    <tr>\n",
       "      <th>std</th>\n",
       "      <td>6.348078</td>\n",
       "      <td>6.198312e+04</td>\n",
       "      <td>4.142630</td>\n",
       "      <td>6322.086646</td>\n",
       "      <td>3.240459</td>\n",
       "      <td>0.413006</td>\n",
       "      <td>0.106782</td>\n",
       "      <td>4.055001</td>\n",
       "    </tr>\n",
       "    <tr>\n",
       "      <th>min</th>\n",
       "      <td>20.000000</td>\n",
       "      <td>4.000000e+03</td>\n",
       "      <td>0.000000</td>\n",
       "      <td>500.000000</td>\n",
       "      <td>5.420000</td>\n",
       "      <td>0.000000</td>\n",
       "      <td>0.000000</td>\n",
       "      <td>2.000000</td>\n",
       "    </tr>\n",
       "    <tr>\n",
       "      <th>25%</th>\n",
       "      <td>23.000000</td>\n",
       "      <td>3.850000e+04</td>\n",
       "      <td>2.000000</td>\n",
       "      <td>5000.000000</td>\n",
       "      <td>7.900000</td>\n",
       "      <td>0.000000</td>\n",
       "      <td>0.090000</td>\n",
       "      <td>3.000000</td>\n",
       "    </tr>\n",
       "    <tr>\n",
       "      <th>50%</th>\n",
       "      <td>26.000000</td>\n",
       "      <td>5.500000e+04</td>\n",
       "      <td>4.000000</td>\n",
       "      <td>8000.000000</td>\n",
       "      <td>10.990000</td>\n",
       "      <td>0.000000</td>\n",
       "      <td>0.150000</td>\n",
       "      <td>4.000000</td>\n",
       "    </tr>\n",
       "    <tr>\n",
       "      <th>75%</th>\n",
       "      <td>30.000000</td>\n",
       "      <td>7.920000e+04</td>\n",
       "      <td>7.000000</td>\n",
       "      <td>12200.000000</td>\n",
       "      <td>13.470000</td>\n",
       "      <td>0.000000</td>\n",
       "      <td>0.230000</td>\n",
       "      <td>8.000000</td>\n",
       "    </tr>\n",
       "    <tr>\n",
       "      <th>max</th>\n",
       "      <td>144.000000</td>\n",
       "      <td>6.000000e+06</td>\n",
       "      <td>123.000000</td>\n",
       "      <td>35000.000000</td>\n",
       "      <td>23.220000</td>\n",
       "      <td>1.000000</td>\n",
       "      <td>0.830000</td>\n",
       "      <td>30.000000</td>\n",
       "    </tr>\n",
       "  </tbody>\n",
       "</table>\n",
       "</div>"
      ],
      "text/plain": [
       "         person_age  person_income  person_emp_length     loan_amnt  \\\n",
       "count  32581.000000   3.258100e+04       31686.000000  32581.000000   \n",
       "mean      27.734600   6.607485e+04           4.789686   9589.371106   \n",
       "std        6.348078   6.198312e+04           4.142630   6322.086646   \n",
       "min       20.000000   4.000000e+03           0.000000    500.000000   \n",
       "25%       23.000000   3.850000e+04           2.000000   5000.000000   \n",
       "50%       26.000000   5.500000e+04           4.000000   8000.000000   \n",
       "75%       30.000000   7.920000e+04           7.000000  12200.000000   \n",
       "max      144.000000   6.000000e+06         123.000000  35000.000000   \n",
       "\n",
       "       loan_int_rate   loan_status  loan_percent_income  \\\n",
       "count   29465.000000  32581.000000         32581.000000   \n",
       "mean       11.011695      0.218164             0.170203   \n",
       "std         3.240459      0.413006             0.106782   \n",
       "min         5.420000      0.000000             0.000000   \n",
       "25%         7.900000      0.000000             0.090000   \n",
       "50%        10.990000      0.000000             0.150000   \n",
       "75%        13.470000      0.000000             0.230000   \n",
       "max        23.220000      1.000000             0.830000   \n",
       "\n",
       "       cb_person_cred_hist_length  \n",
       "count                32581.000000  \n",
       "mean                     5.804211  \n",
       "std                      4.055001  \n",
       "min                      2.000000  \n",
       "25%                      3.000000  \n",
       "50%                      4.000000  \n",
       "75%                      8.000000  \n",
       "max                     30.000000  "
      ]
     },
     "execution_count": 7,
     "metadata": {},
     "output_type": "execute_result"
    }
   ],
   "source": [
    "data.describe()"
   ]
  },
  {
   "cell_type": "code",
   "execution_count": 8,
   "id": "205f0a3e-9a5f-4263-a96b-03de7e3602b6",
   "metadata": {},
   "outputs": [
    {
     "data": {
      "text/plain": [
       "person_age                       0\n",
       "person_income                    0\n",
       "person_home_ownership            0\n",
       "person_emp_length              895\n",
       "loan_intent                      0\n",
       "loan_grade                       0\n",
       "loan_amnt                        0\n",
       "loan_int_rate                 3116\n",
       "loan_status                      0\n",
       "loan_percent_income              0\n",
       "cb_person_default_on_file        0\n",
       "cb_person_cred_hist_length       0\n",
       "dtype: int64"
      ]
     },
     "execution_count": 8,
     "metadata": {},
     "output_type": "execute_result"
    }
   ],
   "source": [
    "data.isnull().sum()"
   ]
  },
  {
   "cell_type": "code",
   "execution_count": 9,
   "id": "aee74fb7-a5da-4c26-8c36-9133131f59f1",
   "metadata": {},
   "outputs": [
    {
     "name": "stdout",
     "output_type": "stream",
     "text": [
      "Filled missing emp_length with median: 4.0\n"
     ]
    }
   ],
   "source": [
    "emp_median = data['person_emp_length'].median()\n",
    "data['person_emp_length'] = data['person_emp_length'].fillna(emp_median)\n",
    "print(\"Filled missing emp_length with median:\", emp_median)"
   ]
  },
  {
   "cell_type": "code",
   "execution_count": 10,
   "id": "bb0aa6e7-1adf-4621-8ddf-b6e703670217",
   "metadata": {},
   "outputs": [
    {
     "name": "stdout",
     "output_type": "stream",
     "text": [
      "Filled missing loan_int_rate with median: 10.99\n"
     ]
    }
   ],
   "source": [
    "int_median = data['loan_int_rate'].median()\n",
    "data['loan_int_rate'] = data['loan_int_rate'].fillna(int_median)\n",
    "print(\"Filled missing loan_int_rate with median:\", int_median)"
   ]
  },
  {
   "cell_type": "code",
   "execution_count": 11,
   "id": "94680bf9-7630-4464-84b8-a1087408b596",
   "metadata": {},
   "outputs": [
    {
     "data": {
      "text/plain": [
       "person_age                    0\n",
       "person_income                 0\n",
       "person_home_ownership         0\n",
       "person_emp_length             0\n",
       "loan_intent                   0\n",
       "loan_grade                    0\n",
       "loan_amnt                     0\n",
       "loan_int_rate                 0\n",
       "loan_status                   0\n",
       "loan_percent_income           0\n",
       "cb_person_default_on_file     0\n",
       "cb_person_cred_hist_length    0\n",
       "dtype: int64"
      ]
     },
     "execution_count": 11,
     "metadata": {},
     "output_type": "execute_result"
    }
   ],
   "source": [
    "data.isnull().sum()"
   ]
  },
  {
   "cell_type": "markdown",
   "id": "9873b256-18dd-4e03-af2d-055a746721c8",
   "metadata": {},
   "source": [
    "# Cleaned Sucessfully"
   ]
  },
  {
   "cell_type": "markdown",
   "id": "86170509-8d17-4756-922c-de8d5e803e60",
   "metadata": {},
   "source": [
    "# the target (loan_status)"
   ]
  },
  {
   "cell_type": "code",
   "execution_count": 12,
   "id": "0d7c0ba9-7c12-4b53-bb83-138c898181ab",
   "metadata": {},
   "outputs": [
    {
     "name": "stdout",
     "output_type": "stream",
     "text": [
      "Counts (0 = good, 1 = default):\n"
     ]
    },
    {
     "data": {
      "text/plain": [
       "loan_status\n",
       "0    25473\n",
       "1     7108\n",
       "Name: count, dtype: int64"
      ]
     },
     "metadata": {},
     "output_type": "display_data"
    },
    {
     "name": "stdout",
     "output_type": "stream",
     "text": [
      "\n",
      "Percentages:\n"
     ]
    },
    {
     "data": {
      "text/plain": [
       "loan_status\n",
       "0    0.782\n",
       "1    0.218\n",
       "Name: proportion, dtype: float64"
      ]
     },
     "metadata": {},
     "output_type": "display_data"
    }
   ],
   "source": [
    "print(\"Counts (0 = good, 1 = default):\")\n",
    "display(data['loan_status'].value_counts())\n",
    "print(\"\\nPercentages:\")\n",
    "display(data['loan_status'].value_counts(normalize=True).round(3))"
   ]
  },
  {
   "cell_type": "code",
   "execution_count": 13,
   "id": "466fbc86-5178-490e-a8e9-ad664b3d7a78",
   "metadata": {},
   "outputs": [
    {
     "name": "stdout",
     "output_type": "stream",
     "text": [
      "Done cleaning types.\n"
     ]
    }
   ],
   "source": [
    "# Force numeric where expected\n",
    "for c in ['person_age','person_income','person_emp_length','loan_amnt','loan_int_rate',\n",
    "          'loan_percent_income','cb_person_cred_hist_length','loan_status']:\n",
    "    if c in data.columns:\n",
    "        data[c] = pd.to_numeric(data[c], errors='coerce')\n",
    "\n",
    "# Make string columns tidy\n",
    "for c in ['person_home_ownership','loan_intent','loan_grade','cb_person_default_on_file']:\n",
    "    if c in data.columns:\n",
    "        data[c] = data[c].astype(str).str.strip().replace('nan','MISSING')\n",
    "        \n",
    "# Map Y/N to 1/0 for default-in-file\n",
    "if 'cb_person_default_on_file' in data.columns:\n",
    "    data['cb_person_default_on_file'] = data['cb_person_default_on_file'].map({'Y':1,'N':0}).fillna(0).astype(int)\n",
    "\n",
    "print(\"Done cleaning types.\")"
   ]
  },
  {
   "cell_type": "markdown",
   "id": "fdca2a27-59f4-4a89-87e8-7fdb24d08154",
   "metadata": {},
   "source": [
    "# DTI (Debt-to-Income)"
   ]
  },
  {
   "cell_type": "code",
   "execution_count": 14,
   "id": "2bb053dd-a4f5-4cd1-9a79-584b91495c49",
   "metadata": {},
   "outputs": [
    {
     "name": "stdout",
     "output_type": "stream",
     "text": [
      "Sample dti values:\n"
     ]
    },
    {
     "data": {
      "text/html": [
       "<div>\n",
       "<style scoped>\n",
       "    .dataframe tbody tr th:only-of-type {\n",
       "        vertical-align: middle;\n",
       "    }\n",
       "\n",
       "    .dataframe tbody tr th {\n",
       "        vertical-align: top;\n",
       "    }\n",
       "\n",
       "    .dataframe thead th {\n",
       "        text-align: right;\n",
       "    }\n",
       "</style>\n",
       "<table border=\"1\" class=\"dataframe\">\n",
       "  <thead>\n",
       "    <tr style=\"text-align: right;\">\n",
       "      <th></th>\n",
       "      <th>loan_amnt</th>\n",
       "      <th>person_income</th>\n",
       "      <th>loan_percent_income</th>\n",
       "      <th>dti</th>\n",
       "    </tr>\n",
       "  </thead>\n",
       "  <tbody>\n",
       "    <tr>\n",
       "      <th>0</th>\n",
       "      <td>35000</td>\n",
       "      <td>59000</td>\n",
       "      <td>0.59</td>\n",
       "      <td>0.593220</td>\n",
       "    </tr>\n",
       "    <tr>\n",
       "      <th>1</th>\n",
       "      <td>1000</td>\n",
       "      <td>9600</td>\n",
       "      <td>0.10</td>\n",
       "      <td>0.104167</td>\n",
       "    </tr>\n",
       "    <tr>\n",
       "      <th>2</th>\n",
       "      <td>5500</td>\n",
       "      <td>9600</td>\n",
       "      <td>0.57</td>\n",
       "      <td>0.572917</td>\n",
       "    </tr>\n",
       "    <tr>\n",
       "      <th>3</th>\n",
       "      <td>35000</td>\n",
       "      <td>65500</td>\n",
       "      <td>0.53</td>\n",
       "      <td>0.534351</td>\n",
       "    </tr>\n",
       "    <tr>\n",
       "      <th>4</th>\n",
       "      <td>35000</td>\n",
       "      <td>54400</td>\n",
       "      <td>0.55</td>\n",
       "      <td>0.643382</td>\n",
       "    </tr>\n",
       "  </tbody>\n",
       "</table>\n",
       "</div>"
      ],
      "text/plain": [
       "   loan_amnt  person_income  loan_percent_income       dti\n",
       "0      35000          59000                 0.59  0.593220\n",
       "1       1000           9600                 0.10  0.104167\n",
       "2       5500           9600                 0.57  0.572917\n",
       "3      35000          65500                 0.53  0.534351\n",
       "4      35000          54400                 0.55  0.643382"
      ]
     },
     "metadata": {},
     "output_type": "display_data"
    }
   ],
   "source": [
    "# Use the existing loan_percent_income if division fails\n",
    "data['dti'] = data['loan_amnt'] / data['person_income'].replace(0, np.nan)\n",
    "data['dti'] = data['dti'].fillna(data['loan_percent_income'])\n",
    "print(\"Sample dti values:\")\n",
    "display(data[['loan_amnt','person_income','loan_percent_income','dti']].head())"
   ]
  },
  {
   "cell_type": "code",
   "execution_count": 15,
   "id": "2ed8fbb2-decb-4fa1-a433-2f35df810fca",
   "metadata": {},
   "outputs": [
    {
     "data": {
      "text/html": [
       "<div>\n",
       "<style scoped>\n",
       "    .dataframe tbody tr th:only-of-type {\n",
       "        vertical-align: middle;\n",
       "    }\n",
       "\n",
       "    .dataframe tbody tr th {\n",
       "        vertical-align: top;\n",
       "    }\n",
       "\n",
       "    .dataframe thead th {\n",
       "        text-align: right;\n",
       "    }\n",
       "</style>\n",
       "<table border=\"1\" class=\"dataframe\">\n",
       "  <thead>\n",
       "    <tr style=\"text-align: right;\">\n",
       "      <th></th>\n",
       "      <th>person_age</th>\n",
       "      <th>age_group</th>\n",
       "    </tr>\n",
       "  </thead>\n",
       "  <tbody>\n",
       "    <tr>\n",
       "      <th>0</th>\n",
       "      <td>22</td>\n",
       "      <td>&lt;25</td>\n",
       "    </tr>\n",
       "    <tr>\n",
       "      <th>1</th>\n",
       "      <td>21</td>\n",
       "      <td>&lt;25</td>\n",
       "    </tr>\n",
       "    <tr>\n",
       "      <th>2</th>\n",
       "      <td>25</td>\n",
       "      <td>&lt;25</td>\n",
       "    </tr>\n",
       "    <tr>\n",
       "      <th>3</th>\n",
       "      <td>23</td>\n",
       "      <td>&lt;25</td>\n",
       "    </tr>\n",
       "    <tr>\n",
       "      <th>4</th>\n",
       "      <td>24</td>\n",
       "      <td>&lt;25</td>\n",
       "    </tr>\n",
       "  </tbody>\n",
       "</table>\n",
       "</div>"
      ],
      "text/plain": [
       "   person_age age_group\n",
       "0          22       <25\n",
       "1          21       <25\n",
       "2          25       <25\n",
       "3          23       <25\n",
       "4          24       <25"
      ]
     },
     "metadata": {},
     "output_type": "display_data"
    }
   ],
   "source": [
    "data['age_group'] = pd.cut(data['person_age'],\n",
    "                           bins=[0,25,35,50,120],\n",
    "                           labels=['<25','25-34','35-49','50+'])\n",
    "display(data[['person_age','age_group']].head())"
   ]
  },
  {
   "cell_type": "markdown",
   "id": "46676c8f-7d2f-4820-9a5e-82caa3e309ff",
   "metadata": {},
   "source": [
    "# features and turn categories into numbers"
   ]
  },
  {
   "cell_type": "code",
   "execution_count": 16,
   "id": "85d82e43-1326-46b5-9668-c2761207605a",
   "metadata": {},
   "outputs": [
    {
     "name": "stdout",
     "output_type": "stream",
     "text": [
      "Feature matrix shape: (32581, 26)\n"
     ]
    },
    {
     "data": {
      "text/html": [
       "<div>\n",
       "<style scoped>\n",
       "    .dataframe tbody tr th:only-of-type {\n",
       "        vertical-align: middle;\n",
       "    }\n",
       "\n",
       "    .dataframe tbody tr th {\n",
       "        vertical-align: top;\n",
       "    }\n",
       "\n",
       "    .dataframe thead th {\n",
       "        text-align: right;\n",
       "    }\n",
       "</style>\n",
       "<table border=\"1\" class=\"dataframe\">\n",
       "  <thead>\n",
       "    <tr style=\"text-align: right;\">\n",
       "      <th></th>\n",
       "      <th>0</th>\n",
       "      <th>1</th>\n",
       "      <th>2</th>\n",
       "      <th>3</th>\n",
       "      <th>4</th>\n",
       "    </tr>\n",
       "  </thead>\n",
       "  <tbody>\n",
       "    <tr>\n",
       "      <th>person_age</th>\n",
       "      <td>22</td>\n",
       "      <td>21</td>\n",
       "      <td>25</td>\n",
       "      <td>23</td>\n",
       "      <td>24</td>\n",
       "    </tr>\n",
       "    <tr>\n",
       "      <th>person_income</th>\n",
       "      <td>59000</td>\n",
       "      <td>9600</td>\n",
       "      <td>9600</td>\n",
       "      <td>65500</td>\n",
       "      <td>54400</td>\n",
       "    </tr>\n",
       "    <tr>\n",
       "      <th>person_emp_length</th>\n",
       "      <td>123.0</td>\n",
       "      <td>5.0</td>\n",
       "      <td>1.0</td>\n",
       "      <td>4.0</td>\n",
       "      <td>8.0</td>\n",
       "    </tr>\n",
       "    <tr>\n",
       "      <th>loan_amnt</th>\n",
       "      <td>35000</td>\n",
       "      <td>1000</td>\n",
       "      <td>5500</td>\n",
       "      <td>35000</td>\n",
       "      <td>35000</td>\n",
       "    </tr>\n",
       "    <tr>\n",
       "      <th>loan_int_rate</th>\n",
       "      <td>16.02</td>\n",
       "      <td>11.14</td>\n",
       "      <td>12.87</td>\n",
       "      <td>15.23</td>\n",
       "      <td>14.27</td>\n",
       "    </tr>\n",
       "    <tr>\n",
       "      <th>loan_percent_income</th>\n",
       "      <td>0.59</td>\n",
       "      <td>0.1</td>\n",
       "      <td>0.57</td>\n",
       "      <td>0.53</td>\n",
       "      <td>0.55</td>\n",
       "    </tr>\n",
       "    <tr>\n",
       "      <th>cb_person_cred_hist_length</th>\n",
       "      <td>3</td>\n",
       "      <td>2</td>\n",
       "      <td>3</td>\n",
       "      <td>2</td>\n",
       "      <td>4</td>\n",
       "    </tr>\n",
       "    <tr>\n",
       "      <th>dti</th>\n",
       "      <td>0.59322</td>\n",
       "      <td>0.104167</td>\n",
       "      <td>0.572917</td>\n",
       "      <td>0.534351</td>\n",
       "      <td>0.643382</td>\n",
       "    </tr>\n",
       "    <tr>\n",
       "      <th>cb_person_default_on_file</th>\n",
       "      <td>1</td>\n",
       "      <td>0</td>\n",
       "      <td>0</td>\n",
       "      <td>0</td>\n",
       "      <td>1</td>\n",
       "    </tr>\n",
       "    <tr>\n",
       "      <th>person_home_ownership_OTHER</th>\n",
       "      <td>False</td>\n",
       "      <td>False</td>\n",
       "      <td>False</td>\n",
       "      <td>False</td>\n",
       "      <td>False</td>\n",
       "    </tr>\n",
       "    <tr>\n",
       "      <th>person_home_ownership_OWN</th>\n",
       "      <td>False</td>\n",
       "      <td>True</td>\n",
       "      <td>False</td>\n",
       "      <td>False</td>\n",
       "      <td>False</td>\n",
       "    </tr>\n",
       "    <tr>\n",
       "      <th>person_home_ownership_RENT</th>\n",
       "      <td>True</td>\n",
       "      <td>False</td>\n",
       "      <td>False</td>\n",
       "      <td>True</td>\n",
       "      <td>True</td>\n",
       "    </tr>\n",
       "    <tr>\n",
       "      <th>loan_intent_EDUCATION</th>\n",
       "      <td>False</td>\n",
       "      <td>True</td>\n",
       "      <td>False</td>\n",
       "      <td>False</td>\n",
       "      <td>False</td>\n",
       "    </tr>\n",
       "    <tr>\n",
       "      <th>loan_intent_HOMEIMPROVEMENT</th>\n",
       "      <td>False</td>\n",
       "      <td>False</td>\n",
       "      <td>False</td>\n",
       "      <td>False</td>\n",
       "      <td>False</td>\n",
       "    </tr>\n",
       "    <tr>\n",
       "      <th>loan_intent_MEDICAL</th>\n",
       "      <td>False</td>\n",
       "      <td>False</td>\n",
       "      <td>True</td>\n",
       "      <td>True</td>\n",
       "      <td>True</td>\n",
       "    </tr>\n",
       "    <tr>\n",
       "      <th>loan_intent_PERSONAL</th>\n",
       "      <td>True</td>\n",
       "      <td>False</td>\n",
       "      <td>False</td>\n",
       "      <td>False</td>\n",
       "      <td>False</td>\n",
       "    </tr>\n",
       "    <tr>\n",
       "      <th>loan_intent_VENTURE</th>\n",
       "      <td>False</td>\n",
       "      <td>False</td>\n",
       "      <td>False</td>\n",
       "      <td>False</td>\n",
       "      <td>False</td>\n",
       "    </tr>\n",
       "    <tr>\n",
       "      <th>loan_grade_B</th>\n",
       "      <td>False</td>\n",
       "      <td>True</td>\n",
       "      <td>False</td>\n",
       "      <td>False</td>\n",
       "      <td>False</td>\n",
       "    </tr>\n",
       "    <tr>\n",
       "      <th>loan_grade_C</th>\n",
       "      <td>False</td>\n",
       "      <td>False</td>\n",
       "      <td>True</td>\n",
       "      <td>True</td>\n",
       "      <td>True</td>\n",
       "    </tr>\n",
       "    <tr>\n",
       "      <th>loan_grade_D</th>\n",
       "      <td>True</td>\n",
       "      <td>False</td>\n",
       "      <td>False</td>\n",
       "      <td>False</td>\n",
       "      <td>False</td>\n",
       "    </tr>\n",
       "  </tbody>\n",
       "</table>\n",
       "</div>"
      ],
      "text/plain": [
       "                                   0         1         2         3         4\n",
       "person_age                        22        21        25        23        24\n",
       "person_income                  59000      9600      9600     65500     54400\n",
       "person_emp_length              123.0       5.0       1.0       4.0       8.0\n",
       "loan_amnt                      35000      1000      5500     35000     35000\n",
       "loan_int_rate                  16.02     11.14     12.87     15.23     14.27\n",
       "loan_percent_income             0.59       0.1      0.57      0.53      0.55\n",
       "cb_person_cred_hist_length         3         2         3         2         4\n",
       "dti                          0.59322  0.104167  0.572917  0.534351  0.643382\n",
       "cb_person_default_on_file          1         0         0         0         1\n",
       "person_home_ownership_OTHER    False     False     False     False     False\n",
       "person_home_ownership_OWN      False      True     False     False     False\n",
       "person_home_ownership_RENT      True     False     False      True      True\n",
       "loan_intent_EDUCATION          False      True     False     False     False\n",
       "loan_intent_HOMEIMPROVEMENT    False     False     False     False     False\n",
       "loan_intent_MEDICAL            False     False      True      True      True\n",
       "loan_intent_PERSONAL            True     False     False     False     False\n",
       "loan_intent_VENTURE            False     False     False     False     False\n",
       "loan_grade_B                   False      True     False     False     False\n",
       "loan_grade_C                   False     False      True      True      True\n",
       "loan_grade_D                    True     False     False     False     False"
      ]
     },
     "metadata": {},
     "output_type": "display_data"
    }
   ],
   "source": [
    "features = [\n",
    "    'person_age','person_income','person_emp_length','loan_amnt','loan_int_rate',\n",
    "    'loan_percent_income','cb_person_cred_hist_length','dti',\n",
    "    'person_home_ownership','loan_intent','loan_grade','age_group','cb_person_default_on_file'\n",
    "]\n",
    "\n",
    "# Keep only existing features (safe)\n",
    "features = [f for f in features if f in data.columns]\n",
    "\n",
    "X = pd.get_dummies(data[features], drop_first=True)  # turn categories into numbers\n",
    "y = data['loan_status']\n",
    "\n",
    "print(\"Feature matrix shape:\", X.shape)\n",
    "display(X.head().T[:20])  # show first 20 feature rows (transpose for readability)"
   ]
  },
  {
   "cell_type": "markdown",
   "id": "80527ec7-9004-49c4-b6e9-94fa9a7fb165",
   "metadata": {},
   "source": [
    "# Split into train and test"
   ]
  },
  {
   "cell_type": "code",
   "execution_count": 17,
   "id": "a9f43573-b5c1-40f6-af31-e67f39f54262",
   "metadata": {},
   "outputs": [
    {
     "name": "stdout",
     "output_type": "stream",
     "text": [
      "Train shape: (26064, 26) Test shape: (6517, 26)\n",
      "Train default rate: 0.21815531000613875 Test default rate: 0.21819855761853613\n"
     ]
    }
   ],
   "source": [
    "X_train, X_test, y_train, y_test = train_test_split(X, y,\n",
    "                                                    test_size=0.20,\n",
    "                                                    stratify=y,\n",
    "                                                    random_state=42)\n",
    "print(\"Train shape:\", X_train.shape, \"Test shape:\", X_test.shape)\n",
    "print(\"Train default rate:\", y_train.mean(), \"Test default rate:\", y_test.mean())"
   ]
  },
  {
   "cell_type": "markdown",
   "id": "01412ed6-529d-41fb-9ab6-306657ef27cb",
   "metadata": {},
   "source": [
    "# Logistic Regression"
   ]
  },
  {
   "cell_type": "code",
   "execution_count": 18,
   "id": "ac104aa0-da4c-4219-8d1f-6221fd143b06",
   "metadata": {},
   "outputs": [
    {
     "name": "stdout",
     "output_type": "stream",
     "text": [
      "Model trained.\n"
     ]
    }
   ],
   "source": [
    "model = LogisticRegression(max_iter=1000, class_weight='balanced', solver='liblinear', random_state=42)\n",
    "model.fit(X_train, y_train)\n",
    "print(\"Model trained.\")"
   ]
  },
  {
   "cell_type": "markdown",
   "id": "4f2d78c6-9200-46a3-b2af-a4fe60652fe1",
   "metadata": {},
   "source": [
    "# Get predictions and evaluate (AUC + simple accuracy)"
   ]
  },
  {
   "cell_type": "code",
   "execution_count": 19,
   "id": "1be26dac-93fc-41ec-8598-a05ed2ea0086",
   "metadata": {},
   "outputs": [
    {
     "name": "stdout",
     "output_type": "stream",
     "text": [
      "AUC (bigger is better, 0.5 = random): 0.8158\n",
      "Accuracy at 0.5 cutoff: 0.7149\n",
      "Confusion matrix (rows=true, cols=pred):\n",
      " [[3565 1530]\n",
      " [ 328 1094]]\n"
     ]
    }
   ],
   "source": [
    "probs = model.predict_proba(X_test)[:,1]   # probability of default\n",
    "preds = (probs >= 0.5).astype(int)        # predicted labels with cutoff 0.5\n",
    "\n",
    "print(\"AUC (bigger is better, 0.5 = random):\", round(roc_auc_score(y_test, probs), 4))\n",
    "print(\"Accuracy at 0.5 cutoff:\", round(accuracy_score(y_test, preds), 4))\n",
    "print(\"Confusion matrix (rows=true, cols=pred):\\n\", confusion_matrix(y_test, preds))"
   ]
  },
  {
   "cell_type": "markdown",
   "id": "bbed9250-59ac-40d7-af60-bc3ea0cccbf5",
   "metadata": {},
   "source": [
    "#  Model Evaluation — Credit Risk Logistic Regression\n",
    "#  Metrics Observed\n",
    "\n",
    "AUC (Area Under Curve): 0.8158\n",
    "\n",
    "AUC ranges from 0.5 (random guessing) to 1.0 (perfect model).\n",
    "\n",
    "Our score of 0.82 means the model is quite good at ranking risky borrowers higher than safe ones.\n",
    "\n",
    "Accuracy (at 0.5 cutoff): 71.5%\n",
    "\n",
    "About 7 out of 10 predictions are correct.\n",
    "\n",
    "But accuracy can be misleading in imbalanced datasets (if defaults are rare, the model could get high accuracy by always predicting \"no default\")."
   ]
  },
  {
   "cell_type": "markdown",
   "id": "a9e4220d-f561-4eb2-a8d4-190beb6bebe8",
   "metadata": {},
   "source": [
    "# Confusion Matrix\n",
    "\n",
    "# Breakdown:\n",
    "\n",
    "True Negatives (3565): Safe borrowers correctly predicted as safe.\n",
    "\n",
    "False Positives (1530): Safe borrowers wrongly flagged as default → over-warning.\n",
    "\n",
    "False Negatives (328): Default borrowers wrongly predicted as safe → risky misses.\n",
    "\n",
    "True Positives (1094): Default borrowers correctly predicted as default."
   ]
  },
  {
   "cell_type": "markdown",
   "id": "8241fd20-4748-4860-96e4-1e8840f47ff2",
   "metadata": {},
   "source": [
    "# Conclusion\n",
    "\n",
    "# Interpretation\n",
    "\n",
    "Strong discriminatory power: With an AUC of ~0.82, the model can effectively separate defaulters from non-defaulters.\n",
    "\n",
    "Good sensitivity to defaults: The model catches 1094 real defaulters, but still misses 328 (false negatives).\n",
    "\n",
    "False alarms exist: 1530 safe borrowers were flagged as risky, which might lead to rejecting good customers.\n",
    "\n",
    "Trade-off exists: If we lower the probability cutoff (e.g., from 0.5 → 0.3), we could reduce false negatives (catch more bad loans) but at the cost of more false positives."
   ]
  },
  {
   "cell_type": "markdown",
   "id": "5a220f9b-0ec7-4833-bf17-56f653c9b76c",
   "metadata": {},
   "source": [
    "# Enhanced Model for better performance "
   ]
  },
  {
   "cell_type": "code",
   "execution_count": 23,
   "id": "9e6d4551-ebd9-43c9-8fb0-df9602a3cc1c",
   "metadata": {},
   "outputs": [],
   "source": [
    "numeric_cols = ['person_age', 'person_income', 'person_emp_length', \n",
    "                'loan_amnt', 'loan_int_rate', 'loan_percent_income',\n",
    "                'cb_person_cred_hist_length']"
   ]
  },
  {
   "cell_type": "code",
   "execution_count": 26,
   "id": "882f2890-a6f8-464c-8e8b-4f996993c69a",
   "metadata": {},
   "outputs": [
    {
     "data": {
      "image/png": "[encoded data removed]",
      "text/plain": [
       "<Figure size 1500x1000 with 7 Axes>"
      ]
     },
     "metadata": {},
     "output_type": "display_data"
    }
   ],
   "source": [
    "plt.figure(figsize=(15, 10))\n",
    "for i, col in enumerate(numeric_cols, 1):\n",
    "    plt.subplot(3, 3, i)\n",
    "    sns.boxplot(y=data[col])\n",
    "    plt.title(f'Boxplot of {col}')\n",
    "plt.tight_layout()\n",
    "plt.show()"
   ]
  },
  {
   "cell_type": "markdown",
   "id": "f3b728a9-1d4e-4199-afae-377dbf7b2364",
   "metadata": {},
   "source": [
    "# Detect Outlier Using IQR Function"
   ]
  },
  {
   "cell_type": "code",
   "execution_count": 28,
   "id": "d0d81c07-809b-4f11-bca3-6ab4fcd311da",
   "metadata": {},
   "outputs": [],
   "source": [
    "def detect_outliers_iqr(df, column):\n",
    "    Q1 = df[column].quantile(0.25)\n",
    "    Q3 = df[column].quantile(0.75)\n",
    "    IQR = Q3 - Q1\n",
    "    lower_bound = Q1 - 1.5 * IQR\n",
    "    upper_bound = Q3 + 1.5 * IQR\n",
    "    outliers = df[(df[column] < lower_bound) | (df[column] > upper_bound)]\n",
    "    return outliers, lower_bound, upper_bound"
   ]
  },
  {
   "cell_type": "code",
   "execution_count": 29,
   "id": "18cdd1ee-f308-4f16-bc3c-3189a9073afb",
   "metadata": {},
   "outputs": [
    {
     "name": "stdout",
     "output_type": "stream",
     "text": [
      "=== OUTLIER ANALYSIS ===\n",
      "person_age: 1494 outliers (4.59%) - Range: [12.50, 40.50]\n",
      "person_income: 1484 outliers (4.55%) - Range: [-22550.00, 140250.00]\n",
      "person_emp_length: 853 outliers (2.62%) - Range: [-5.50, 14.50]\n",
      "loan_amnt: 1689 outliers (5.18%) - Range: [-5800.00, 23000.00]\n",
      "loan_int_rate: 70 outliers (0.21%) - Range: [1.56, 20.04]\n",
      "loan_percent_income: 651 outliers (2.00%) - Range: [-0.12, 0.44]\n",
      "cb_person_cred_hist_length: 1142 outliers (3.51%) - Range: [-4.50, 15.50]\n"
     ]
    }
   ],
   "source": [
    "print(\"=== OUTLIER ANALYSIS ===\")\n",
    "for col in numeric_cols:\n",
    "    outliers, lower, upper = detect_outliers_iqr(data, col)\n",
    "    print(f\"{col}: {len(outliers)} outliers ({len(outliers)/len(data)*100:.2f}%) - Range: [{lower:.2f}, {upper:.2f}]\")"
   ]
  },
  {
   "cell_type": "markdown",
   "id": "d9bc307e-4bbd-49b9-a0cd-6b48748bbf82",
   "metadata": {},
   "source": [
    "#  Treat outliers - Winsorization (cap at 1st and 99th percentiles)"
   ]
  },
  {
   "cell_type": "code",
   "execution_count": 30,
   "id": "4c9d86e6-a243-48b5-8aa1-778c9ab60446",
   "metadata": {},
   "outputs": [],
   "source": [
    "def winsorize_column(series, lower_percentile=0.01, upper_percentile=0.99):\n",
    "    lower_bound = series.quantile(lower_percentile)\n",
    "    upper_bound = series.quantile(upper_percentile)\n",
    "    return series.clip(lower=lower_bound, upper=upper_bound)"
   ]
  },
  {
   "cell_type": "code",
   "execution_count": 31,
   "id": "86a4e954-af5e-473b-b27a-8b598e3a881a",
   "metadata": {},
   "outputs": [
    {
     "name": "stdout",
     "output_type": "stream",
     "text": [
      "Winsorized person_income - New range: [14400.00, 225200.00]\n",
      "Winsorized person_emp_length - New range: [0.00, 17.00]\n",
      "Winsorized loan_amnt - New range: [1000.00, 29800.00]\n"
     ]
    },
    {
     "name": "stderr",
     "output_type": "stream",
     "text": [
      "C:\\Users\\Dell\\AppData\\Local\\Temp\\ipykernel_1528\\1680170428.py:4: FutureWarning: Downcasting behavior in Series and DataFrame methods 'where', 'mask', and 'clip' is deprecated. In a future version this will not infer object dtypes or cast all-round floats to integers. Instead call result.infer_objects(copy=False) for object inference, or cast round floats explicitly. To opt-in to the future behavior, set `pd.set_option('future.no_silent_downcasting', True)`\n",
      "  return series.clip(lower=lower_bound, upper=upper_bound)\n"
     ]
    }
   ],
   "source": [
    "columns_to_winsorize = ['person_income', 'person_emp_length', 'loan_amnt']\n",
    "for col in columns_to_winsorize:\n",
    "    data[f'{col}_original'] = data[col]  # Keep original values for comparison\n",
    "    data[col] = winsorize_column(data[col])\n",
    "    print(f\"Winsorized {col} - New range: [{data[col].min():.2f}, {data[col].max():.2f}]\")"
   ]
  },
  {
   "cell_type": "code",
   "execution_count": 32,
   "id": "26411b1d-301a-4510-899d-cf426c365e32",
   "metadata": {},
   "outputs": [
    {
     "name": "stdout",
     "output_type": "stream",
     "text": [
      "\n",
      "Before age cleaning: 20 to 144\n",
      "After age cleaning: 20 to 94\n",
      "Rows remaining: 32576\n"
     ]
    }
   ],
   "source": [
    "print(f\"\\nBefore age cleaning: {data['person_age'].min()} to {data['person_age'].max()}\")\n",
    "data = data[(data['person_age'] >= 18) & (data['person_age'] <= 100)]\n",
    "print(f\"After age cleaning: {data['person_age'].min()} to {data['person_age'].max()}\")\n",
    "print(f\"Rows remaining: {len(data)}\")"
   ]
  },
  {
   "cell_type": "markdown",
   "id": "25c1846d-6930-4cfa-95e5-9e897da180e3",
   "metadata": {},
   "source": [
    "# Advanced Feature Engineering (Beyond Basic DTI)"
   ]
  },
  {
   "cell_type": "code",
   "execution_count": 33,
   "id": "6a309033-4bbc-4597-86fa-a410caf2c41b",
   "metadata": {},
   "outputs": [
    {
     "name": "stdout",
     "output_type": "stream",
     "text": [
      "Basic DTI already exists:\n",
      "   loan_amnt  person_income       dti\n",
      "0      29800          59000  0.593220\n",
      "1       1000          14400  0.104167\n",
      "2       5500          14400  0.572917\n",
      "3      29800          65500  0.534351\n",
      "4      29800          54400  0.643382\n"
     ]
    }
   ],
   "source": [
    "print(\"Basic DTI already exists:\")\n",
    "print(data[['loan_amnt', 'person_income', 'dti']].head())"
   ]
  },
  {
   "cell_type": "markdown",
   "id": "d39ae0c1-8980-4b25-bd39-d32db2c201cf",
   "metadata": {},
   "source": [
    "# Additional Financial Ratios"
   ]
  },
  {
   "cell_type": "code",
   "execution_count": 34,
   "id": "edfd41c3-e840-49bd-9f7a-29fad77bc22c",
   "metadata": {},
   "outputs": [],
   "source": [
    "data['income_to_loan_ratio'] = data['person_income'] / data['loan_amnt'].replace(0, np.nan)\n",
    "data['monthly_loan_payment'] = data['loan_amnt'] * (data['loan_int_rate']/100) / 12\n",
    "data['payment_to_income_ratio'] = data['monthly_loan_payment'] / (data['person_income']/12).replace(0, np.nan)"
   ]
  },
  {
   "cell_type": "markdown",
   "id": "f4d779ca-a327-4fbf-af4a-8dd28e7606e1",
   "metadata": {},
   "source": [
    "# Crefit Utilisation Features"
   ]
  },
  {
   "cell_type": "code",
   "execution_count": 35,
   "id": "6d4fdc5d-8cfe-4ee5-ac94-695021502b9c",
   "metadata": {},
   "outputs": [],
   "source": [
    "data['credit_age_ratio'] = data['cb_person_cred_hist_length'] / (data['person_age'] - 18).replace(0, np.nan)  # Age since 18\n",
    "data['emp_to_age_ratio'] = data['person_emp_length'] / data['person_age']"
   ]
  },
  {
   "cell_type": "markdown",
   "id": "dabfd2b1-d196-4121-b06b-d6a8403bab59",
   "metadata": {},
   "source": [
    "# Risk Flags"
   ]
  },
  {
   "cell_type": "code",
   "execution_count": 36,
   "id": "e55d6024-5ed1-421d-b1f4-5d6c51e56545",
   "metadata": {},
   "outputs": [],
   "source": [
    "data['high_dti_flag'] = (data['dti'] > 0.4).astype(int)  # DTI > 40% is typically risky\n",
    "data['high_interest_flag'] = (data['loan_int_rate'] > data['loan_int_rate'].median()).astype(int)\n",
    "data['large_loan_flag'] = (data['loan_amnt'] > data['loan_amnt'].median()).astype(int)\n",
    "data['young_borrower_flag'] = (data['person_age'] < 25).astype(int)\n",
    "data['short_employment_flag'] = (data['person_emp_length'] < 2).astype(int)"
   ]
  },
  {
   "cell_type": "code",
   "execution_count": 37,
   "id": "42aad859-e8c7-4b28-853f-10c63ba4d70d",
   "metadata": {},
   "outputs": [
    {
     "name": "stdout",
     "output_type": "stream",
     "text": [
      "New features created:\n",
      "        dti  income_to_loan_ratio  payment_to_income_ratio  high_dti_flag  \\\n",
      "0  0.593220              1.979866                 0.080915              1   \n",
      "1  0.104167             14.400000                 0.007736              0   \n",
      "2  0.572917              2.618182                 0.049156              1   \n",
      "3  0.534351              2.197987                 0.069291              1   \n",
      "4  0.643382              1.825503                 0.078170              1   \n",
      "\n",
      "   high_interest_flag  young_borrower_flag  \n",
      "0                   1                    1  \n",
      "1                   1                    1  \n",
      "2                   1                    0  \n",
      "3                   1                    1  \n",
      "4                   1                    1  \n"
     ]
    }
   ],
   "source": [
    "print(\"New features created:\")\n",
    "new_features = ['dti', 'income_to_loan_ratio', 'payment_to_income_ratio', \n",
    "               'high_dti_flag', 'high_interest_flag', 'young_borrower_flag']\n",
    "print(data[new_features].head())"
   ]
  },
  {
   "cell_type": "markdown",
   "id": "721c1f3a-cf24-4b04-9dad-158b65e1a815",
   "metadata": {},
   "source": [
    "# Coorelation of new features"
   ]
  },
  {
   "cell_type": "code",
   "execution_count": 38,
   "id": "30d26028-c309-42eb-8632-1ed14317a959",
   "metadata": {},
   "outputs": [
    {
     "name": "stdout",
     "output_type": "stream",
     "text": [
      "\n",
      "Correlation of new features with loan_status:\n",
      "loan_status                1.000000\n",
      "payment_to_income_ratio    0.448355\n",
      "dti                        0.385882\n",
      "high_dti_flag              0.249539\n",
      "high_interest_flag         0.221569\n",
      "young_borrower_flag        0.026501\n",
      "income_to_loan_ratio      -0.177563\n",
      "Name: loan_status, dtype: float64\n"
     ]
    }
   ],
   "source": [
    "print(\"\\nCorrelation of new features with loan_status:\")\n",
    "new_features_corr = data[new_features + ['loan_status']].corr()['loan_status'].sort_values(ascending=False)\n",
    "print(new_features_corr)"
   ]
  },
  {
   "cell_type": "markdown",
   "id": "3a21ff1b-a8af-4bef-a78d-4a3d2341afe7",
   "metadata": {},
   "source": [
    "# Enhanced Categorical Variable Encoding"
   ]
  },
  {
   "cell_type": "code",
   "execution_count": 40,
   "id": "cf672bea-e230-4f4c-9c9f-d7b6aa18c948",
   "metadata": {},
   "outputs": [],
   "source": [
    "# 1. Ordinal Encoding for loan_grade (A=1, B=2, etc.)\n",
    "grade_order = {'A': 1, 'B': 2, 'C': 3, 'D': 4, 'E': 5, 'F': 6, 'G': 7}\n",
    "data['loan_grade_encoded'] = data['loan_grade'].map(grade_order)"
   ]
  },
  {
   "cell_type": "code",
   "execution_count": 41,
   "id": "be76322d-800d-46e5-a990-34938f63b9cb",
   "metadata": {},
   "outputs": [],
   "source": [
    "# 2. Frequency Encoding \n",
    "data['loan_intent_freq'] = data['loan_intent'].map(data['loan_intent'].value_counts(normalize=True))\n",
    "data['home_ownership_freq'] = data['person_home_ownership'].map(data['person_home_ownership'].value_counts(normalize=True))"
   ]
  },
  {
   "cell_type": "code",
   "execution_count": 42,
   "id": "2ba362b2-f01c-4852-bcb2-62750c9efec5",
   "metadata": {},
   "outputs": [
    {
     "name": "stdout",
     "output_type": "stream",
     "text": [
      "Enhanced encoding examples:\n",
      "  loan_grade  loan_grade_encoded loan_intent  loan_intent_freq\n",
      "0          D                   4    PERSONAL          0.169450\n",
      "1          B                   2   EDUCATION          0.198029\n",
      "2          C                   3     MEDICAL          0.186364\n",
      "3          C                   3     MEDICAL          0.186364\n",
      "4          C                   3     MEDICAL          0.186364\n"
     ]
    }
   ],
   "source": [
    "print(\"Enhanced encoding examples:\")\n",
    "print(data[['loan_grade', 'loan_grade_encoded', 'loan_intent', 'loan_intent_freq']].head())"
   ]
  },
  {
   "cell_type": "markdown",
   "id": "a3c64060-96b5-43a3-82ff-f4bef5c7c751",
   "metadata": {},
   "source": [
    "# Final Feature Set"
   ]
  },
  {
   "cell_type": "code",
   "execution_count": 43,
   "id": "1a3703b7-8bdb-4e96-a221-15a8d8e096a4",
   "metadata": {},
   "outputs": [
    {
     "name": "stdout",
     "output_type": "stream",
     "text": [
      "Original feature count: 26\n",
      "Enhanced feature count: 38\n",
      "New features added: 12\n"
     ]
    }
   ],
   "source": [
    "#  original features + new engineered features\n",
    "features = [\n",
    "    # Original numeric features\n",
    "    'person_age', 'person_income', 'person_emp_length', 'loan_amnt', 'loan_int_rate',\n",
    "    'loan_percent_income', 'cb_person_cred_hist_length', 'dti', 'cb_person_default_on_file',\n",
    "    \n",
    "    # New engineered features\n",
    "    'income_to_loan_ratio', 'payment_to_income_ratio', 'credit_age_ratio', 'emp_to_age_ratio',\n",
    "    'high_dti_flag', 'high_interest_flag', 'large_loan_flag', 'young_borrower_flag', 'short_employment_flag',\n",
    "    \n",
    "    # Encoded features\n",
    "    'loan_grade_encoded', 'loan_intent_freq', 'home_ownership_freq',\n",
    "    \n",
    "    # Categorical for one-hot encoding\n",
    "    'person_home_ownership', 'loan_intent', 'loan_grade', 'age_group'\n",
    "]\n",
    "\n",
    "# existing features\n",
    "features = [f for f in features if f in data.columns]\n",
    "\n",
    "#  final feature matrix with one-hot encoding\n",
    "X_enhanced = pd.get_dummies(data[features], drop_first=True)\n",
    "y_enhanced = data['loan_status']\n",
    "\n",
    "print(f\"Original feature count: {X.shape[1]}\")\n",
    "print(f\"Enhanced feature count: {X_enhanced.shape[1]}\")\n",
    "print(f\"New features added: {X_enhanced.shape[1] - X.shape[1]}\")"
   ]
  },
  {
   "cell_type": "markdown",
   "id": "d65f8995-ee2e-48e9-8405-18cadddea379",
   "metadata": {},
   "source": [
    "# Train and Compare Enhanced Model"
   ]
  },
  {
   "cell_type": "code",
   "execution_count": 44,
   "id": "71c5ab27-fdcb-4fd7-bff5-e53ef7b2175b",
   "metadata": {},
   "outputs": [],
   "source": [
    "# Split enhanced features\n",
    "X_train_enh, X_test_enh, y_train_enh, y_test_enh = train_test_split(\n",
    "    X_enhanced, y_enhanced, test_size=0.2, stratify=y_enhanced, random_state=42\n",
    ")\n",
    "\n",
    "# Scale features for logistic regression\n",
    "from sklearn.preprocessing import StandardScaler\n",
    "\n",
    "scaler = StandardScaler()\n",
    "X_train_scaled = scaler.fit_transform(X_train_enh)\n",
    "X_test_scaled = scaler.transform(X_test_enh)"
   ]
  },
  {
   "cell_type": "markdown",
   "id": "0105cac2-edbe-4174-aed3-7fee076c9bab",
   "metadata": {},
   "source": [
    "# Train enhanced model"
   ]
  },
  {
   "cell_type": "code",
   "execution_count": 45,
   "id": "22916aa3-90a7-4243-b3b4-7bbedd29db40",
   "metadata": {},
   "outputs": [
    {
     "data": {
      "text/html": [
       "<style>#sk-container-id-1 {\n",
       "  /* Definition of color scheme common for light and dark mode */\n",
       "  --sklearn-color-text: black;\n",
       "  --sklearn-color-line: gray;\n",
       "  /* Definition of color scheme for unfitted estimators */\n",
       "  --sklearn-color-unfitted-level-0: #fff5e6;\n",
       "  --sklearn-color-unfitted-level-1: #f6e4d2;\n",
       "  --sklearn-color-unfitted-level-2: #ffe0b3;\n",
       "  --sklearn-color-unfitted-level-3: chocolate;\n",
       "  /* Definition of color scheme for fitted estimators */\n",
       "  --sklearn-color-fitted-level-0: #f0f8ff;\n",
       "  --sklearn-color-fitted-level-1: #d4ebff;\n",
       "  --sklearn-color-fitted-level-2: #b3dbfd;\n",
       "  --sklearn-color-fitted-level-3: cornflowerblue;\n",
       "\n",
       "  /* Specific color for light theme */\n",
       "  --sklearn-color-text-on-default-background: var(--sg-text-color, var(--theme-code-foreground, var(--jp-content-font-color1, black)));\n",
       "  --sklearn-color-background: var(--sg-background-color, var(--theme-background, var(--jp-layout-color0, white)));\n",
       "  --sklearn-color-border-box: var(--sg-text-color, var(--theme-code-foreground, var(--jp-content-font-color1, black)));\n",
       "  --sklearn-color-icon: #696969;\n",
       "\n",
       "  @media (prefers-color-scheme: dark) {\n",
       "    /* Redefinition of color scheme for dark theme */\n",
       "    --sklearn-color-text-on-default-background: var(--sg-text-color, var(--theme-code-foreground, var(--jp-content-font-color1, white)));\n",
       "    --sklearn-color-background: var(--sg-background-color, var(--theme-background, var(--jp-layout-color0, #111)));\n",
       "    --sklearn-color-border-box: var(--sg-text-color, var(--theme-code-foreground, var(--jp-content-font-color1, white)));\n",
       "    --sklearn-color-icon: #878787;\n",
       "  }\n",
       "}\n",
       "\n",
       "#sk-container-id-1 {\n",
       "  color: var(--sklearn-color-text);\n",
       "}\n",
       "\n",
       "#sk-container-id-1 pre {\n",
       "  padding: 0;\n",
       "}\n",
       "\n",
       "#sk-container-id-1 input.sk-hidden--visually {\n",
       "  border: 0;\n",
       "  clip: rect(1px 1px 1px 1px);\n",
       "  clip: rect(1px, 1px, 1px, 1px);\n",
       "  height: 1px;\n",
       "  margin: -1px;\n",
       "  overflow: hidden;\n",
       "  padding: 0;\n",
       "  position: absolute;\n",
       "  width: 1px;\n",
       "}\n",
       "\n",
       "#sk-container-id-1 div.sk-dashed-wrapped {\n",
       "  border: 1px dashed var(--sklearn-color-line);\n",
       "  margin: 0 0.4em 0.5em 0.4em;\n",
       "  box-sizing: border-box;\n",
       "  padding-bottom: 0.4em;\n",
       "  background-color: var(--sklearn-color-background);\n",
       "}\n",
       "\n",
       "#sk-container-id-1 div.sk-container {\n",
       "  /* jupyter's `normalize.less` sets `[hidden] { display: none; }`\n",
       "     but bootstrap.min.css set `[hidden] { display: none !important; }`\n",
       "     so we also need the `!important` here to be able to override the\n",
       "     default hidden behavior on the sphinx rendered scikit-learn.org.\n",
       "     See: https://github.com/scikit-learn/scikit-learn/issues/21755 */\n",
       "  display: inline-block !important;\n",
       "  position: relative;\n",
       "}\n",
       "\n",
       "#sk-container-id-1 div.sk-text-repr-fallback {\n",
       "  display: none;\n",
       "}\n",
       "\n",
       "div.sk-parallel-item,\n",
       "div.sk-serial,\n",
       "div.sk-item {\n",
       "  /* draw centered vertical line to link estimators */\n",
       "  background-image: linear-gradient(var(--sklearn-color-text-on-default-background), var(--sklearn-color-text-on-default-background));\n",
       "  background-size: 2px 100%;\n",
       "  background-repeat: no-repeat;\n",
       "  background-position: center center;\n",
       "}\n",
       "\n",
       "/* Parallel-specific style estimator block */\n",
       "\n",
       "#sk-container-id-1 div.sk-parallel-item::after {\n",
       "  content: \"\";\n",
       "  width: 100%;\n",
       "  border-bottom: 2px solid var(--sklearn-color-text-on-default-background);\n",
       "  flex-grow: 1;\n",
       "}\n",
       "\n",
       "#sk-container-id-1 div.sk-parallel {\n",
       "  display: flex;\n",
       "  align-items: stretch;\n",
       "  justify-content: center;\n",
       "  background-color: var(--sklearn-color-background);\n",
       "  position: relative;\n",
       "}\n",
       "\n",
       "#sk-container-id-1 div.sk-parallel-item {\n",
       "  display: flex;\n",
       "  flex-direction: column;\n",
       "}\n",
       "\n",
       "#sk-container-id-1 div.sk-parallel-item:first-child::after {\n",
       "  align-self: flex-end;\n",
       "  width: 50%;\n",
       "}\n",
       "\n",
       "#sk-container-id-1 div.sk-parallel-item:last-child::after {\n",
       "  align-self: flex-start;\n",
       "  width: 50%;\n",
       "}\n",
       "\n",
       "#sk-container-id-1 div.sk-parallel-item:only-child::after {\n",
       "  width: 0;\n",
       "}\n",
       "\n",
       "/* Serial-specific style estimator block */\n",
       "\n",
       "#sk-container-id-1 div.sk-serial {\n",
       "  display: flex;\n",
       "  flex-direction: column;\n",
       "  align-items: center;\n",
       "  background-color: var(--sklearn-color-background);\n",
       "  padding-right: 1em;\n",
       "  padding-left: 1em;\n",
       "}\n",
       "\n",
       "\n",
       "/* Toggleable style: style used for estimator/Pipeline/ColumnTransformer box that is\n",
       "clickable and can be expanded/collapsed.\n",
       "- Pipeline and ColumnTransformer use this feature and define the default style\n",
       "- Estimators will overwrite some part of the style using the `sk-estimator` class\n",
       "*/\n",
       "\n",
       "/* Pipeline and ColumnTransformer style (default) */\n",
       "\n",
       "#sk-container-id-1 div.sk-toggleable {\n",
       "  /* Default theme specific background. It is overwritten whether we have a\n",
       "  specific estimator or a Pipeline/ColumnTransformer */\n",
       "  background-color: var(--sklearn-color-background);\n",
       "}\n",
       "\n",
       "/* Toggleable label */\n",
       "#sk-container-id-1 label.sk-toggleable__label {\n",
       "  cursor: pointer;\n",
       "  display: block;\n",
       "  width: 100%;\n",
       "  margin-bottom: 0;\n",
       "  padding: 0.5em;\n",
       "  box-sizing: border-box;\n",
       "  text-align: center;\n",
       "}\n",
       "\n",
       "#sk-container-id-1 label.sk-toggleable__label-arrow:before {\n",
       "  /* Arrow on the left of the label */\n",
       "  content: \"▸\";\n",
       "  float: left;\n",
       "  margin-right: 0.25em;\n",
       "  color: var(--sklearn-color-icon);\n",
       "}\n",
       "\n",
       "#sk-container-id-1 label.sk-toggleable__label-arrow:hover:before {\n",
       "  color: var(--sklearn-color-text);\n",
       "}\n",
       "\n",
       "/* Toggleable content - dropdown */\n",
       "\n",
       "#sk-container-id-1 div.sk-toggleable__content {\n",
       "  max-height: 0;\n",
       "  max-width: 0;\n",
       "  overflow: hidden;\n",
       "  text-align: left;\n",
       "  /* unfitted */\n",
       "  background-color: var(--sklearn-color-unfitted-level-0);\n",
       "}\n",
       "\n",
       "#sk-container-id-1 div.sk-toggleable__content.fitted {\n",
       "  /* fitted */\n",
       "  background-color: var(--sklearn-color-fitted-level-0);\n",
       "}\n",
       "\n",
       "#sk-container-id-1 div.sk-toggleable__content pre {\n",
       "  margin: 0.2em;\n",
       "  border-radius: 0.25em;\n",
       "  color: var(--sklearn-color-text);\n",
       "  /* unfitted */\n",
       "  background-color: var(--sklearn-color-unfitted-level-0);\n",
       "}\n",
       "\n",
       "#sk-container-id-1 div.sk-toggleable__content.fitted pre {\n",
       "  /* unfitted */\n",
       "  background-color: var(--sklearn-color-fitted-level-0);\n",
       "}\n",
       "\n",
       "#sk-container-id-1 input.sk-toggleable__control:checked~div.sk-toggleable__content {\n",
       "  /* Expand drop-down */\n",
       "  max-height: 200px;\n",
       "  max-width: 100%;\n",
       "  overflow: auto;\n",
       "}\n",
       "\n",
       "#sk-container-id-1 input.sk-toggleable__control:checked~label.sk-toggleable__label-arrow:before {\n",
       "  content: \"▾\";\n",
       "}\n",
       "\n",
       "/* Pipeline/ColumnTransformer-specific style */\n",
       "\n",
       "#sk-container-id-1 div.sk-label input.sk-toggleable__control:checked~label.sk-toggleable__label {\n",
       "  color: var(--sklearn-color-text);\n",
       "  background-color: var(--sklearn-color-unfitted-level-2);\n",
       "}\n",
       "\n",
       "#sk-container-id-1 div.sk-label.fitted input.sk-toggleable__control:checked~label.sk-toggleable__label {\n",
       "  background-color: var(--sklearn-color-fitted-level-2);\n",
       "}\n",
       "\n",
       "/* Estimator-specific style */\n",
       "\n",
       "/* Colorize estimator box */\n",
       "#sk-container-id-1 div.sk-estimator input.sk-toggleable__control:checked~label.sk-toggleable__label {\n",
       "  /* unfitted */\n",
       "  background-color: var(--sklearn-color-unfitted-level-2);\n",
       "}\n",
       "\n",
       "#sk-container-id-1 div.sk-estimator.fitted input.sk-toggleable__control:checked~label.sk-toggleable__label {\n",
       "  /* fitted */\n",
       "  background-color: var(--sklearn-color-fitted-level-2);\n",
       "}\n",
       "\n",
       "#sk-container-id-1 div.sk-label label.sk-toggleable__label,\n",
       "#sk-container-id-1 div.sk-label label {\n",
       "  /* The background is the default theme color */\n",
       "  color: var(--sklearn-color-text-on-default-background);\n",
       "}\n",
       "\n",
       "/* On hover, darken the color of the background */\n",
       "#sk-container-id-1 div.sk-label:hover label.sk-toggleable__label {\n",
       "  color: var(--sklearn-color-text);\n",
       "  background-color: var(--sklearn-color-unfitted-level-2);\n",
       "}\n",
       "\n",
       "/* Label box, darken color on hover, fitted */\n",
       "#sk-container-id-1 div.sk-label.fitted:hover label.sk-toggleable__label.fitted {\n",
       "  color: var(--sklearn-color-text);\n",
       "  background-color: var(--sklearn-color-fitted-level-2);\n",
       "}\n",
       "\n",
       "/* Estimator label */\n",
       "\n",
       "#sk-container-id-1 div.sk-label label {\n",
       "  font-family: monospace;\n",
       "  font-weight: bold;\n",
       "  display: inline-block;\n",
       "  line-height: 1.2em;\n",
       "}\n",
       "\n",
       "#sk-container-id-1 div.sk-label-container {\n",
       "  text-align: center;\n",
       "}\n",
       "\n",
       "/* Estimator-specific */\n",
       "#sk-container-id-1 div.sk-estimator {\n",
       "  font-family: monospace;\n",
       "  border: 1px dotted var(--sklearn-color-border-box);\n",
       "  border-radius: 0.25em;\n",
       "  box-sizing: border-box;\n",
       "  margin-bottom: 0.5em;\n",
       "  /* unfitted */\n",
       "  background-color: var(--sklearn-color-unfitted-level-0);\n",
       "}\n",
       "\n",
       "#sk-container-id-1 div.sk-estimator.fitted {\n",
       "  /* fitted */\n",
       "  background-color: var(--sklearn-color-fitted-level-0);\n",
       "}\n",
       "\n",
       "/* on hover */\n",
       "#sk-container-id-1 div.sk-estimator:hover {\n",
       "  /* unfitted */\n",
       "  background-color: var(--sklearn-color-unfitted-level-2);\n",
       "}\n",
       "\n",
       "#sk-container-id-1 div.sk-estimator.fitted:hover {\n",
       "  /* fitted */\n",
       "  background-color: var(--sklearn-color-fitted-level-2);\n",
       "}\n",
       "\n",
       "/* Specification for estimator info (e.g. \"i\" and \"?\") */\n",
       "\n",
       "/* Common style for \"i\" and \"?\" */\n",
       "\n",
       ".sk-estimator-doc-link,\n",
       "a:link.sk-estimator-doc-link,\n",
       "a:visited.sk-estimator-doc-link {\n",
       "  float: right;\n",
       "  font-size: smaller;\n",
       "  line-height: 1em;\n",
       "  font-family: monospace;\n",
       "  background-color: var(--sklearn-color-background);\n",
       "  border-radius: 1em;\n",
       "  height: 1em;\n",
       "  width: 1em;\n",
       "  text-decoration: none !important;\n",
       "  margin-left: 1ex;\n",
       "  /* unfitted */\n",
       "  border: var(--sklearn-color-unfitted-level-1) 1pt solid;\n",
       "  color: var(--sklearn-color-unfitted-level-1);\n",
       "}\n",
       "\n",
       ".sk-estimator-doc-link.fitted,\n",
       "a:link.sk-estimator-doc-link.fitted,\n",
       "a:visited.sk-estimator-doc-link.fitted {\n",
       "  /* fitted */\n",
       "  border: var(--sklearn-color-fitted-level-1) 1pt solid;\n",
       "  color: var(--sklearn-color-fitted-level-1);\n",
       "}\n",
       "\n",
       "/* On hover */\n",
       "div.sk-estimator:hover .sk-estimator-doc-link:hover,\n",
       ".sk-estimator-doc-link:hover,\n",
       "div.sk-label-container:hover .sk-estimator-doc-link:hover,\n",
       ".sk-estimator-doc-link:hover {\n",
       "  /* unfitted */\n",
       "  background-color: var(--sklearn-color-unfitted-level-3);\n",
       "  color: var(--sklearn-color-background);\n",
       "  text-decoration: none;\n",
       "}\n",
       "\n",
       "div.sk-estimator.fitted:hover .sk-estimator-doc-link.fitted:hover,\n",
       ".sk-estimator-doc-link.fitted:hover,\n",
       "div.sk-label-container:hover .sk-estimator-doc-link.fitted:hover,\n",
       ".sk-estimator-doc-link.fitted:hover {\n",
       "  /* fitted */\n",
       "  background-color: var(--sklearn-color-fitted-level-3);\n",
       "  color: var(--sklearn-color-background);\n",
       "  text-decoration: none;\n",
       "}\n",
       "\n",
       "/* Span, style for the box shown on hovering the info icon */\n",
       ".sk-estimator-doc-link span {\n",
       "  display: none;\n",
       "  z-index: 9999;\n",
       "  position: relative;\n",
       "  font-weight: normal;\n",
       "  right: .2ex;\n",
       "  padding: .5ex;\n",
       "  margin: .5ex;\n",
       "  width: min-content;\n",
       "  min-width: 20ex;\n",
       "  max-width: 50ex;\n",
       "  color: var(--sklearn-color-text);\n",
       "  box-shadow: 2pt 2pt 4pt #999;\n",
       "  /* unfitted */\n",
       "  background: var(--sklearn-color-unfitted-level-0);\n",
       "  border: .5pt solid var(--sklearn-color-unfitted-level-3);\n",
       "}\n",
       "\n",
       ".sk-estimator-doc-link.fitted span {\n",
       "  /* fitted */\n",
       "  background: var(--sklearn-color-fitted-level-0);\n",
       "  border: var(--sklearn-color-fitted-level-3);\n",
       "}\n",
       "\n",
       ".sk-estimator-doc-link:hover span {\n",
       "  display: block;\n",
       "}\n",
       "\n",
       "/* \"?\"-specific style due to the `<a>` HTML tag */\n",
       "\n",
       "#sk-container-id-1 a.estimator_doc_link {\n",
       "  float: right;\n",
       "  font-size: 1rem;\n",
       "  line-height: 1em;\n",
       "  font-family: monospace;\n",
       "  background-color: var(--sklearn-color-background);\n",
       "  border-radius: 1rem;\n",
       "  height: 1rem;\n",
       "  width: 1rem;\n",
       "  text-decoration: none;\n",
       "  /* unfitted */\n",
       "  color: var(--sklearn-color-unfitted-level-1);\n",
       "  border: var(--sklearn-color-unfitted-level-1) 1pt solid;\n",
       "}\n",
       "\n",
       "#sk-container-id-1 a.estimator_doc_link.fitted {\n",
       "  /* fitted */\n",
       "  border: var(--sklearn-color-fitted-level-1) 1pt solid;\n",
       "  color: var(--sklearn-color-fitted-level-1);\n",
       "}\n",
       "\n",
       "/* On hover */\n",
       "#sk-container-id-1 a.estimator_doc_link:hover {\n",
       "  /* unfitted */\n",
       "  background-color: var(--sklearn-color-unfitted-level-3);\n",
       "  color: var(--sklearn-color-background);\n",
       "  text-decoration: none;\n",
       "}\n",
       "\n",
       "#sk-container-id-1 a.estimator_doc_link.fitted:hover {\n",
       "  /* fitted */\n",
       "  background-color: var(--sklearn-color-fitted-level-3);\n",
       "}\n",
       "</style><div id=\"sk-container-id-1\" class=\"sk-top-container\"><div class=\"sk-text-repr-fallback\"><pre>LogisticRegression(class_weight=&#x27;balanced&#x27;, max_iter=1000, random_state=42,\n",
       "                   solver=&#x27;liblinear&#x27;)</pre><b>In a Jupyter environment, please rerun this cell to show the HTML representation or trust the notebook. <br />On GitHub, the HTML representation is unable to render, please try loading this page with nbviewer.org.</b></div><div class=\"sk-container\" hidden><div class=\"sk-item\"><div class=\"sk-estimator fitted sk-toggleable\"><input class=\"sk-toggleable__control sk-hidden--visually\" id=\"sk-estimator-id-1\" type=\"checkbox\" checked><label for=\"sk-estimator-id-1\" class=\"sk-toggleable__label fitted sk-toggleable__label-arrow fitted\">&nbsp;&nbsp;LogisticRegression<a class=\"sk-estimator-doc-link fitted\" rel=\"noreferrer\" target=\"_blank\" href=\"https://scikit-learn.org/1.5/modules/generated/sklearn.linear_model.LogisticRegression.html\">?<span>Documentation for LogisticRegression</span></a><span class=\"sk-estimator-doc-link fitted\">i<span>Fitted</span></span></label><div class=\"sk-toggleable__content fitted\"><pre>LogisticRegression(class_weight=&#x27;balanced&#x27;, max_iter=1000, random_state=42,\n",
       "                   solver=&#x27;liblinear&#x27;)</pre></div> </div></div></div></div>"
      ],
      "text/plain": [
       "LogisticRegression(class_weight='balanced', max_iter=1000, random_state=42,\n",
       "                   solver='liblinear')"
      ]
     },
     "execution_count": 45,
     "metadata": {},
     "output_type": "execute_result"
    }
   ],
   "source": [
    "model_enhanced = LogisticRegression(max_iter=1000, class_weight='balanced', \n",
    "                                  random_state=42, solver='liblinear')\n",
    "model_enhanced.fit(X_train_scaled, y_train_enh)"
   ]
  },
  {
   "cell_type": "markdown",
   "id": "fdbe31cb-11f7-4a63-937a-faa2fb20676f",
   "metadata": {},
   "source": [
    "# Evaluate enhanced model"
   ]
  },
  {
   "cell_type": "code",
   "execution_count": 46,
   "id": "68927c3c-cd6d-4746-aea6-338a55fc919c",
   "metadata": {},
   "outputs": [],
   "source": [
    "probs_enhanced = model_enhanced.predict_proba(X_test_scaled)[:, 1]\n",
    "preds_enhanced = (probs_enhanced >= 0.5).astype(int)"
   ]
  },
  {
   "cell_type": "code",
   "execution_count": 47,
   "id": "ecabcf34-2c69-448e-b830-101a3e4254b6",
   "metadata": {},
   "outputs": [
    {
     "name": "stdout",
     "output_type": "stream",
     "text": [
      "=== PERFORMANCE COMPARISON ===\n",
      "ORIGINAL MODEL:\n",
      "AUC: 0.8158\n",
      "Accuracy: 0.7149\n",
      "\n",
      "ENHANCED MODEL:\n",
      "AUC: 0.8786\n",
      "Accuracy: 0.8135\n"
     ]
    }
   ],
   "source": [
    "print(\"=== PERFORMANCE COMPARISON ===\")\n",
    "print(\"ORIGINAL MODEL:\")\n",
    "print(f\"AUC: {roc_auc_score(y_test, probs):.4f}\")\n",
    "print(f\"Accuracy: {accuracy_score(y_test, preds):.4f}\")\n",
    "\n",
    "print(\"\\nENHANCED MODEL:\")\n",
    "print(f\"AUC: {roc_auc_score(y_test_enh, probs_enhanced):.4f}\")\n",
    "print(f\"Accuracy: {accuracy_score(y_test_enh, preds_enhanced):.4f}\")"
   ]
  },
  {
   "cell_type": "markdown",
   "id": "9fa0e4cf-baed-48d2-9818-e64d8e6a26c2",
   "metadata": {},
   "source": [
    "# Feature importance from enhanced model"
   ]
  },
  {
   "cell_type": "code",
   "execution_count": 48,
   "id": "b838c9c7-154d-4850-819f-a8e995d617a5",
   "metadata": {},
   "outputs": [
    {
     "name": "stdout",
     "output_type": "stream",
     "text": [
      "\n",
      "Top 10 most important features:\n",
      "                    feature  coefficient\n",
      "7                       dti     8.346707\n",
      "5       loan_percent_income    -5.934425\n",
      "10  payment_to_income_ratio    -0.905195\n",
      "4             loan_int_rate     0.530662\n",
      "3                 loan_amnt    -0.486597\n",
      "18       loan_grade_encoded     0.464245\n",
      "31             loan_grade_D     0.424030\n",
      "28      loan_intent_VENTURE    -0.360288\n",
      "15          large_loan_flag    -0.358029\n",
      "20      home_ownership_freq     0.274909\n"
     ]
    }
   ],
   "source": [
    "coefficients = pd.DataFrame({\n",
    "    'feature': X_enhanced.columns,\n",
    "    'coefficient': model_enhanced.coef_[0]\n",
    "}).sort_values('coefficient', key=abs, ascending=False)\n",
    "\n",
    "print(\"\\nTop 10 most important features:\")\n",
    "print(coefficients.head(10))"
   ]
  },
  {
   "cell_type": "code",
   "execution_count": null,
   "id": "b91327fd-3882-4db8-9f45-da6a344c407f",
   "metadata": {},
   "outputs": [],
   "source": []
  }
 ],
 "metadata": {
  "kernelspec": {
   "display_name": "Python [conda env:base] *",
   "language": "python",
   "name": "conda-base-py"
  },
  "language_info": {
   "codemirror_mode": {
    "name": "ipython",
    "version": 3
   },
   "file_extension": ".py",
   "mimetype": "text/x-python",
   "name": "python",
   "nbconvert_exporter": "python",
   "pygments_lexer": "ipython3",
   "version": "3.12.7"
  }
 },
 "nbformat": 4,
 "nbformat_minor": 5
}
