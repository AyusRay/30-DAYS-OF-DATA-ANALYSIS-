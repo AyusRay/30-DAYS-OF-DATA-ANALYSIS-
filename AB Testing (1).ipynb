{
 "cells": [
  {
   "cell_type": "markdown",
   "id": "b01c2fa9-46fa-454f-8a56-3a5b8a97917c",
   "metadata": {},
   "source": [
    "# 📂 Case Study: Website Conversion Optimization A/B Test\n",
    "📝 Problem Statement\n",
    "\n",
    "An e-commerce company wants to test if changing the “Buy Now” button color (from Green → Red) increases conversions (sales).\n",
    "\n",
    "Group A (Control): Saw the old Green button.\n",
    "\n",
    "Group B (Treatment): Saw the new Red button.\n",
    "\n",
    "Each group has ~5,000 visitors.\n",
    "\n",
    "We want to check: Does Red really perform better? Or is the difference just random?"
   ]
  },
  {
   "cell_type": "code",
   "execution_count": 1,
   "id": "8fd76c09-ac6e-4250-becc-224cf969c315",
   "metadata": {},
   "outputs": [],
   "source": [
    "import pandas as pd"
   ]
  },
  {
   "cell_type": "code",
   "execution_count": 3,
   "id": "c14d4835-d685-4234-99ff-384c9f02d6dc",
   "metadata": {},
   "outputs": [],
   "source": [
    "df=pd.read_csv(r\"C:\\Users\\Dell\\Downloads\\ab_test_data.csv\")"
   ]
  },
  {
   "cell_type": "code",
   "execution_count": 5,
   "id": "360cc7ac-6c91-43fd-9a00-9cca1c755322",
   "metadata": {},
   "outputs": [
    {
     "data": {
      "text/html": [
       "<div>\n",
       "<style scoped>\n",
       "    .dataframe tbody tr th:only-of-type {\n",
       "        vertical-align: middle;\n",
       "    }\n",
       "\n",
       "    .dataframe tbody tr th {\n",
       "        vertical-align: top;\n",
       "    }\n",
       "\n",
       "    .dataframe thead th {\n",
       "        text-align: right;\n",
       "    }\n",
       "</style>\n",
       "<table border=\"1\" class=\"dataframe\">\n",
       "  <thead>\n",
       "    <tr style=\"text-align: right;\">\n",
       "      <th></th>\n",
       "      <th>user_id</th>\n",
       "      <th>group</th>\n",
       "      <th>converted</th>\n",
       "    </tr>\n",
       "  </thead>\n",
       "  <tbody>\n",
       "    <tr>\n",
       "      <th>0</th>\n",
       "      <td>1</td>\n",
       "      <td>A</td>\n",
       "      <td>0</td>\n",
       "    </tr>\n",
       "    <tr>\n",
       "      <th>1</th>\n",
       "      <td>2</td>\n",
       "      <td>A</td>\n",
       "      <td>1</td>\n",
       "    </tr>\n",
       "    <tr>\n",
       "      <th>2</th>\n",
       "      <td>3</td>\n",
       "      <td>A</td>\n",
       "      <td>0</td>\n",
       "    </tr>\n",
       "    <tr>\n",
       "      <th>3</th>\n",
       "      <td>4</td>\n",
       "      <td>A</td>\n",
       "      <td>0</td>\n",
       "    </tr>\n",
       "    <tr>\n",
       "      <th>4</th>\n",
       "      <td>5</td>\n",
       "      <td>A</td>\n",
       "      <td>0</td>\n",
       "    </tr>\n",
       "  </tbody>\n",
       "</table>\n",
       "</div>"
      ],
      "text/plain": [
       "   user_id group  converted\n",
       "0        1     A          0\n",
       "1        2     A          1\n",
       "2        3     A          0\n",
       "3        4     A          0\n",
       "4        5     A          0"
      ]
     },
     "execution_count": 5,
     "metadata": {},
     "output_type": "execute_result"
    }
   ],
   "source": [
    "df.head(5)"
   ]
  },
  {
   "cell_type": "code",
   "execution_count": 6,
   "id": "d843d18b-c4dc-4efc-9475-c89466873d42",
   "metadata": {},
   "outputs": [
    {
     "data": {
      "text/plain": [
       "(10000, 3)"
      ]
     },
     "execution_count": 6,
     "metadata": {},
     "output_type": "execute_result"
    }
   ],
   "source": [
    "df.shape"
   ]
  },
  {
   "cell_type": "code",
   "execution_count": 7,
   "id": "96d7bc10-2047-43e3-a7c7-e9e341c50177",
   "metadata": {},
   "outputs": [
    {
     "data": {
      "text/html": [
       "<div>\n",
       "<style scoped>\n",
       "    .dataframe tbody tr th:only-of-type {\n",
       "        vertical-align: middle;\n",
       "    }\n",
       "\n",
       "    .dataframe tbody tr th {\n",
       "        vertical-align: top;\n",
       "    }\n",
       "\n",
       "    .dataframe thead th {\n",
       "        text-align: right;\n",
       "    }\n",
       "</style>\n",
       "<table border=\"1\" class=\"dataframe\">\n",
       "  <thead>\n",
       "    <tr style=\"text-align: right;\">\n",
       "      <th></th>\n",
       "      <th>user_id</th>\n",
       "      <th>converted</th>\n",
       "    </tr>\n",
       "  </thead>\n",
       "  <tbody>\n",
       "    <tr>\n",
       "      <th>count</th>\n",
       "      <td>10000.00000</td>\n",
       "      <td>10000.000000</td>\n",
       "    </tr>\n",
       "    <tr>\n",
       "      <th>mean</th>\n",
       "      <td>5000.50000</td>\n",
       "      <td>0.104600</td>\n",
       "    </tr>\n",
       "    <tr>\n",
       "      <th>std</th>\n",
       "      <td>2886.89568</td>\n",
       "      <td>0.306053</td>\n",
       "    </tr>\n",
       "    <tr>\n",
       "      <th>min</th>\n",
       "      <td>1.00000</td>\n",
       "      <td>0.000000</td>\n",
       "    </tr>\n",
       "    <tr>\n",
       "      <th>25%</th>\n",
       "      <td>2500.75000</td>\n",
       "      <td>0.000000</td>\n",
       "    </tr>\n",
       "    <tr>\n",
       "      <th>50%</th>\n",
       "      <td>5000.50000</td>\n",
       "      <td>0.000000</td>\n",
       "    </tr>\n",
       "    <tr>\n",
       "      <th>75%</th>\n",
       "      <td>7500.25000</td>\n",
       "      <td>0.000000</td>\n",
       "    </tr>\n",
       "    <tr>\n",
       "      <th>max</th>\n",
       "      <td>10000.00000</td>\n",
       "      <td>1.000000</td>\n",
       "    </tr>\n",
       "  </tbody>\n",
       "</table>\n",
       "</div>"
      ],
      "text/plain": [
       "           user_id     converted\n",
       "count  10000.00000  10000.000000\n",
       "mean    5000.50000      0.104600\n",
       "std     2886.89568      0.306053\n",
       "min        1.00000      0.000000\n",
       "25%     2500.75000      0.000000\n",
       "50%     5000.50000      0.000000\n",
       "75%     7500.25000      0.000000\n",
       "max    10000.00000      1.000000"
      ]
     },
     "execution_count": 7,
     "metadata": {},
     "output_type": "execute_result"
    }
   ],
   "source": [
    "df.describe()"
   ]
  },
  {
   "cell_type": "code",
   "execution_count": 8,
   "id": "0df9b434-c3db-4bc1-93d5-a36aa3fbdac9",
   "metadata": {},
   "outputs": [
    {
     "data": {
      "text/plain": [
       "<bound method DataFrame.info of       user_id group  converted\n",
       "0           1     A          0\n",
       "1           2     A          1\n",
       "2           3     A          0\n",
       "3           4     A          0\n",
       "4           5     A          0\n",
       "...       ...   ...        ...\n",
       "9995     9996     B          0\n",
       "9996     9997     B          1\n",
       "9997     9998     B          1\n",
       "9998     9999     B          0\n",
       "9999    10000     B          0\n",
       "\n",
       "[10000 rows x 3 columns]>"
      ]
     },
     "execution_count": 8,
     "metadata": {},
     "output_type": "execute_result"
    }
   ],
   "source": [
    "df.info"
   ]
  },
  {
   "cell_type": "code",
   "execution_count": 10,
   "id": "2bd26a41-acc3-4726-a3b8-359deef6177c",
   "metadata": {},
   "outputs": [
    {
     "data": {
      "text/plain": [
       "user_id      0\n",
       "group        0\n",
       "converted    0\n",
       "dtype: int64"
      ]
     },
     "execution_count": 10,
     "metadata": {},
     "output_type": "execute_result"
    }
   ],
   "source": [
    "df.isnull().sum()"
   ]
  },
  {
   "cell_type": "code",
   "execution_count": 11,
   "id": "f3ef1155-4e05-49a0-b259-3a909a9ca47c",
   "metadata": {},
   "outputs": [
    {
     "data": {
      "text/html": [
       "<div>\n",
       "<style scoped>\n",
       "    .dataframe tbody tr th:only-of-type {\n",
       "        vertical-align: middle;\n",
       "    }\n",
       "\n",
       "    .dataframe tbody tr th {\n",
       "        vertical-align: top;\n",
       "    }\n",
       "\n",
       "    .dataframe thead th {\n",
       "        text-align: right;\n",
       "    }\n",
       "</style>\n",
       "<table border=\"1\" class=\"dataframe\">\n",
       "  <thead>\n",
       "    <tr style=\"text-align: right;\">\n",
       "      <th></th>\n",
       "      <th>user_id</th>\n",
       "      <th>group</th>\n",
       "      <th>converted</th>\n",
       "    </tr>\n",
       "  </thead>\n",
       "  <tbody>\n",
       "    <tr>\n",
       "      <th>0</th>\n",
       "      <td>1</td>\n",
       "      <td>A</td>\n",
       "      <td>0</td>\n",
       "    </tr>\n",
       "    <tr>\n",
       "      <th>1</th>\n",
       "      <td>2</td>\n",
       "      <td>A</td>\n",
       "      <td>1</td>\n",
       "    </tr>\n",
       "  </tbody>\n",
       "</table>\n",
       "</div>"
      ],
      "text/plain": [
       "   user_id group  converted\n",
       "0        1     A          0\n",
       "1        2     A          1"
      ]
     },
     "execution_count": 11,
     "metadata": {},
     "output_type": "execute_result"
    }
   ],
   "source": [
    "df.head(2)"
   ]
  },
  {
   "cell_type": "code",
   "execution_count": 14,
   "id": "abc5d0bb-f5a2-4048-9a74-f29bced4efde",
   "metadata": {},
   "outputs": [
    {
     "data": {
      "text/plain": [
       "group\n",
       "A    0.0958\n",
       "B    0.1134\n",
       "Name: converted, dtype: float64"
      ]
     },
     "execution_count": 14,
     "metadata": {},
     "output_type": "execute_result"
    }
   ],
   "source": [
    "df.groupby('group')['converted'].mean()"
   ]
  },
  {
   "cell_type": "markdown",
   "id": "634dfd9a-f3c5-443e-bda8-6242889cfe02",
   "metadata": {},
   "source": [
    "# Statistical Test"
   ]
  },
  {
   "cell_type": "code",
   "execution_count": 15,
   "id": "d41dabd2-ed83-4635-b7d9-0db70b9216ad",
   "metadata": {},
   "outputs": [],
   "source": [
    "import scipy.stats as stats"
   ]
  },
  {
   "cell_type": "code",
   "execution_count": 16,
   "id": "8ff84fd2-79d6-44d7-b7d3-f97e1f68ee23",
   "metadata": {},
   "outputs": [],
   "source": [
    "Group_A= df[df[\"group\"]==\"A\"][\"converted\"]\n",
    "Group_B= df[df[\"group\"]==\"B\"][\"converted\"]"
   ]
  },
  {
   "cell_type": "code",
   "execution_count": 17,
   "id": "4bf2eb3a-2681-4699-a61c-84126e5d9530",
   "metadata": {},
   "outputs": [],
   "source": [
    "t_stat,p_val=stats.ttest_ind(Group_A,Group_B)"
   ]
  },
  {
   "cell_type": "code",
   "execution_count": 18,
   "id": "338fa373-7af7-426a-bb3e-ceaaa83c4897",
   "metadata": {},
   "outputs": [
    {
     "name": "stdout",
     "output_type": "stream",
     "text": [
      "T-stat: -2.876368137832723 P-value: 0.0040313082018820145\n"
     ]
    }
   ],
   "source": [
    "print(\"T-stat:\", t_stat, \"P-value:\", p_val)"
   ]
  },
  {
   "cell_type": "code",
   "execution_count": 19,
   "id": "5c08684e-a979-4588-9e7e-c9e52a339227",
   "metadata": {},
   "outputs": [
    {
     "name": "stdout",
     "output_type": "stream",
     "text": [
      "✅ Statistically significant: Button B is better!\n"
     ]
    }
   ],
   "source": [
    "if p_val < 0.05:\n",
    "    print('✅ Statistically significant: Button B is better!')\n",
    "else:\n",
    "    print('❌ No real difference found.')"
   ]
  },
  {
   "cell_type": "code",
   "execution_count": 23,
   "id": "20ca0bbb-60dd-42f1-97bd-715bc772b449",
   "metadata": {},
   "outputs": [
    {
     "data": {
      "image/png": "[encoded data removed]",
      "text/plain": [
       "<Figure size 640x480 with 1 Axes>"
      ]
     },
     "metadata": {},
     "output_type": "display_data"
    }
   ],
   "source": [
    "import matplotlib.pyplot as plt\n",
    "df.groupby(\"group\")[\"converted\"].mean().plot(kind=\"bar\",color='purple')\n",
    "plt.title(\"Conversion Rate by Group\")\n",
    "plt.ylabel(\"Conversion Rate\")\n",
    "plt.legend()\n",
    "plt.tight_layout()\n",
    "plt.show()"
   ]
  },
  {
   "cell_type": "markdown",
   "id": "d65e7895-2e7d-4289-b47b-93edb8395e14",
   "metadata": {},
   "source": [
    "# Confidence Interval for Conversion Rate Difference"
   ]
  },
  {
   "cell_type": "code",
   "execution_count": 27,
   "id": "ef8e2fe3-3c71-4c62-a87a-36bbf7ce05db",
   "metadata": {},
   "outputs": [
    {
     "name": "stdout",
     "output_type": "stream",
     "text": [
      "Conversion rate difference: 0.0176\n",
      "95% Confidence Interval: (0.0056, 0.0296)\n"
     ]
    }
   ],
   "source": [
    "import numpy as np\n",
    "# Conversion rates\n",
    "p_A = Group_A.mean()\n",
    "p_B = Group_B.mean()\n",
    "\n",
    "diff = p_B - p_A\n",
    "\n",
    "# Standard error\n",
    "se = np.sqrt(p_A*(1-p_A)/len(Group_A) + p_B*(1-p_B)/len(Group_B))\n",
    "\n",
    "# 95% confidence interval\n",
    "z = 1.96  \n",
    "ci_lower, ci_upper = diff - z*se, diff + z*se\n",
    "\n",
    "print(f\"Conversion rate difference: {diff:.4f}\")\n",
    "print(f\"95% Confidence Interval: ({ci_lower:.4f}, {ci_upper:.4f})\")\n"
   ]
  },
  {
   "cell_type": "markdown",
   "id": "ebf342f1-ef4f-4c3e-88bd-2b92b53eff54",
   "metadata": {},
   "source": [
    "# Power Analysis"
   ]
  },
  {
   "cell_type": "code",
   "execution_count": 28,
   "id": "171b4f20-88fc-4f85-8dc6-1d654f34a915",
   "metadata": {},
   "outputs": [],
   "source": [
    "from statsmodels.stats.power import NormalIndPower\n",
    "from statsmodels.stats.proportion import proportion_effectsize"
   ]
  },
  {
   "cell_type": "code",
   "execution_count": 30,
   "id": "d8651ba6-8b52-411c-a0c4-871816c2bd8f",
   "metadata": {},
   "outputs": [
    {
     "name": "stdout",
     "output_type": "stream",
     "text": [
      "Statistical Power: 0.82\n"
     ]
    }
   ],
   "source": [
    "effect_size = proportion_effectsize(p_A, p_B)\n",
    "analysis = NormalIndPower()\n",
    "power = analysis.power(effect_size=effect_size,\n",
    "                       nobs1=len(Group_A),\n",
    "                       alpha=0.05,\n",
    "                       ratio=1.0)\n",
    "\n",
    "print(f\"Statistical Power: {power:.2f}\")"
   ]
  },
  {
   "cell_type": "markdown",
   "id": "e013b6f0-8bda-4163-b50a-3042341c1d1a",
   "metadata": {},
   "source": [
    " # Final Conclusion\n",
    "\n",
    "Group A (Green button) conversion rate: ~10%\n",
    "\n",
    "Group B (Red button) conversion rate: ~12%\n",
    "\n",
    "Observed difference (B - A): ~1.76 percentage points\n",
    "\n",
    " # Statistical Evidence\n",
    "\n",
    "p-value < 0.05 → The difference is statistically significant.\n",
    "\n",
    "95% Confidence Interval = (0.56%, 2.96%) → We are 95% confident the Red button improves conversions by at least 0.5% and at most ~3%.\n",
    "\n",
    "Statistical Power = 0.82 → The test had enough data (≥ 0.80 threshold), making the results reliable.\n",
    "\n",
    " # Business Insight\n",
    "\n",
    "The Red button produces a real, measurable, and statistically reliable uplift in conversions.\n",
    "Even a ~1.7% increase can translate into significant revenue growth at scale.\n",
    "\n",
    " # Recommendation\n",
    "\n",
    "The company should roll out the Red button to all users, as it has been proven to outperform the Green button in driving conversions.\n",
    "\n",
    "\n"
   ]
  },
  {
   "cell_type": "code",
   "execution_count": null,
   "id": "e3332891-a774-4527-ab85-3ee52f250160",
   "metadata": {},
   "outputs": [],
   "source": []
  }
 ],
 "metadata": {
  "kernelspec": {
   "display_name": "Python [conda env:base] *",
   "language": "python",
   "name": "conda-base-py"
  },
  "language_info": {
   "codemirror_mode": {
    "name": "ipython",
    "version": 3
   },
   "file_extension": ".py",
   "mimetype": "text/x-python",
   "name": "python",
   "nbconvert_exporter": "python",
   "pygments_lexer": "ipython3",
   "version": "3.12.7"
  }
 },
 "nbformat": 4,
 "nbformat_minor": 5
}
